{
  "nbformat": 4,
  "nbformat_minor": 0,
  "metadata": {
    "colab": {
      "name": "Coding_dojang_#21~24.ipynb",
      "provenance": [],
      "toc_visible": true,
      "authorship_tag": "ABX9TyNsUCCQzOAjRPaTxIXjQwxw",
      "include_colab_link": true
    },
    "kernelspec": {
      "name": "python3",
      "display_name": "Python 3"
    }
  },
  "cells": [
    {
      "cell_type": "markdown",
      "metadata": {
        "id": "view-in-github",
        "colab_type": "text"
      },
      "source": [
        "<a href=\"https://colab.research.google.com/github/HyunLee103/Python_basic/blob/master/Coding_dojang__21~24.ipynb\" target=\"_parent\"><img src=\"https://colab.research.google.com/assets/colab-badge.svg\" alt=\"Open In Colab\"/></a>"
      ]
    },
    {
      "cell_type": "markdown",
      "metadata": {
        "id": "8CmI_zSgq4Tl",
        "colab_type": "text"
      },
      "source": [
        "# #22 리스트 응용"
      ]
    },
    {
      "cell_type": "code",
      "metadata": {
        "id": "BZibdaS4qS4c",
        "colab_type": "code",
        "outputId": "a529d4ce-f554-423e-9a1a-097572a78443",
        "colab": {
          "base_uri": "https://localhost:8080/",
          "height": 34
        }
      },
      "source": [
        "# append\n",
        "a = [10,20,30]\n",
        "a.append(500) ;a"
      ],
      "execution_count": 0,
      "outputs": [
        {
          "output_type": "execute_result",
          "data": {
            "text/plain": [
              "[10, 20, 30, 500]"
            ]
          },
          "metadata": {
            "tags": []
          },
          "execution_count": 3
        }
      ]
    },
    {
      "cell_type": "code",
      "metadata": {
        "id": "W8SN7KSxrUcj",
        "colab_type": "code",
        "outputId": "36b03966-164e-48d8-c647-c524b55151d3",
        "colab": {
          "base_uri": "https://localhost:8080/",
          "height": 34
        }
      },
      "source": [
        "# extend\n",
        "a = [10,20,30]\n",
        "b = [40,50,60]\n",
        "a.extend(b) ;a"
      ],
      "execution_count": 0,
      "outputs": [
        {
          "output_type": "execute_result",
          "data": {
            "text/plain": [
              "[10, 20, 30, 40, 50, 60]"
            ]
          },
          "metadata": {
            "tags": []
          },
          "execution_count": 10
        }
      ]
    },
    {
      "cell_type": "code",
      "metadata": {
        "id": "QrWW49HGtO4C",
        "colab_type": "code",
        "outputId": "d6a94f6b-b57a-4445-bacd-6587c4c0e3a7",
        "colab": {
          "base_uri": "https://localhost:8080/",
          "height": 34
        }
      },
      "source": [
        "a[1:2] = [4,6,8,7] ;a"
      ],
      "execution_count": 0,
      "outputs": [
        {
          "output_type": "execute_result",
          "data": {
            "text/plain": [
              "[10, 4, 6, 8, 7, 30, 40, 50, 60]"
            ]
          },
          "metadata": {
            "tags": []
          },
          "execution_count": 11
        }
      ]
    },
    {
      "cell_type": "code",
      "metadata": {
        "id": "CZrOp53ptmjE",
        "colab_type": "code",
        "outputId": "088bc4b7-a07f-45cd-9bab-c6b58febb346",
        "colab": {
          "base_uri": "https://localhost:8080/",
          "height": 34
        }
      },
      "source": [
        "a.reverse() ;a"
      ],
      "execution_count": 0,
      "outputs": [
        {
          "output_type": "execute_result",
          "data": {
            "text/plain": [
              "[60, 50, 40, 30, 7, 8, 6, 4, 10]"
            ]
          },
          "metadata": {
            "tags": []
          },
          "execution_count": 18
        }
      ]
    },
    {
      "cell_type": "code",
      "metadata": {
        "id": "NsCBZpsquGgX",
        "colab_type": "code",
        "outputId": "9276f460-03b5-44f9-ad2c-a70e476a7662",
        "colab": {
          "base_uri": "https://localhost:8080/",
          "height": 34
        }
      },
      "source": [
        "a.sort() ;a"
      ],
      "execution_count": 0,
      "outputs": [
        {
          "output_type": "execute_result",
          "data": {
            "text/plain": [
              "[4, 6, 7, 8, 10, 30, 40, 50, 60]"
            ]
          },
          "metadata": {
            "tags": []
          },
          "execution_count": 20
        }
      ]
    },
    {
      "cell_type": "code",
      "metadata": {
        "id": "FkbHTyfAuWJK",
        "colab_type": "code",
        "outputId": "d8ffdb67-c465-4462-850e-fe199cda721a",
        "colab": {
          "base_uri": "https://localhost:8080/",
          "height": 34
        }
      },
      "source": [
        "b = a.copy() ;b"
      ],
      "execution_count": 0,
      "outputs": [
        {
          "output_type": "execute_result",
          "data": {
            "text/plain": [
              "[4, 6, 7, 8, 10, 30, 40, 50, 60]"
            ]
          },
          "metadata": {
            "tags": []
          },
          "execution_count": 22
        }
      ]
    },
    {
      "cell_type": "code",
      "metadata": {
        "id": "Fn6_EbgkvYCt",
        "colab_type": "code",
        "outputId": "27091b2c-7eba-4ca4-8d92-d6486b500b9f",
        "colab": {
          "base_uri": "https://localhost:8080/",
          "height": 176
        }
      },
      "source": [
        "for index, value in enumerate(a,start=1):\n",
        "  print(index, value)"
      ],
      "execution_count": 0,
      "outputs": [
        {
          "output_type": "stream",
          "text": [
            "1 4\n",
            "2 6\n",
            "3 7\n",
            "4 8\n",
            "5 10\n",
            "6 30\n",
            "7 40\n",
            "8 50\n",
            "9 60\n"
          ],
          "name": "stdout"
        }
      ]
    },
    {
      "cell_type": "code",
      "metadata": {
        "id": "7ASnUL-nvzou",
        "colab_type": "code",
        "outputId": "c4c513aa-221a-4963-9f50-d0672bd0fc2d",
        "colab": {
          "base_uri": "https://localhost:8080/",
          "height": 34
        }
      },
      "source": [
        "# list comprehension\n",
        "# 리스트안에 식, for, if문 등을 사용하여 리스트를 다루는 것 \n",
        "a=[i for i in range(10)] ;a"
      ],
      "execution_count": 0,
      "outputs": [
        {
          "output_type": "execute_result",
          "data": {
            "text/plain": [
              "[0, 1, 2, 3, 4, 5, 6, 7, 8, 9]"
            ]
          },
          "metadata": {
            "tags": []
          },
          "execution_count": 25
        }
      ]
    },
    {
      "cell_type": "code",
      "metadata": {
        "id": "kZ3wn2HzwhjX",
        "colab_type": "code",
        "outputId": "3b764fa0-4daa-4823-85ab-b89763226d13",
        "colab": {
          "base_uri": "https://localhost:8080/",
          "height": 34
        }
      },
      "source": [
        "a = [i for i in range(10) if i%2 == 0] ;a"
      ],
      "execution_count": 0,
      "outputs": [
        {
          "output_type": "execute_result",
          "data": {
            "text/plain": [
              "[0, 2, 4, 6, 8]"
            ]
          },
          "metadata": {
            "tags": []
          },
          "execution_count": 26
        }
      ]
    },
    {
      "cell_type": "code",
      "metadata": {
        "id": "XgwNZSoJxBBT",
        "colab_type": "code",
        "colab": {}
      },
      "source": [
        "a = [i*j for j in range(2,10) for i in range(1,10)] ;a"
      ],
      "execution_count": 0,
      "outputs": []
    },
    {
      "cell_type": "code",
      "metadata": {
        "id": "X5bnM2JSxUQE",
        "colab_type": "code",
        "outputId": "95c2f054-6b7d-410f-8d28-1f1668c779e6",
        "colab": {
          "base_uri": "https://localhost:8080/",
          "height": 34
        }
      },
      "source": [
        "# map, 모든 반복가능 객체에 대해 함수 일괄 적용\n",
        "\n",
        "a = [1.2,2.5,3.7,4.6]\n",
        "a = list(map(int,a)) ;a # map을 적용한 값은 map object > 다시 리스트나 튜플을 씌워서 원하는 형태로 만들어야한다"
      ],
      "execution_count": 0,
      "outputs": [
        {
          "output_type": "execute_result",
          "data": {
            "text/plain": [
              "[1, 2, 3, 4]"
            ]
          },
          "metadata": {
            "tags": []
          },
          "execution_count": 35
        }
      ]
    },
    {
      "cell_type": "code",
      "metadata": {
        "id": "nXp5phfTybH8",
        "colab_type": "code",
        "outputId": "88aa7dd0-b762-4c6f-f28e-a5dfa52863bb",
        "colab": {
          "base_uri": "https://localhost:8080/",
          "height": 34
        }
      },
      "source": [
        "a = list(map(str,range(10))) ; a"
      ],
      "execution_count": 0,
      "outputs": [
        {
          "output_type": "execute_result",
          "data": {
            "text/plain": [
              "['0', '1', '2', '3', '4', '5', '6', '7', '8', '9']"
            ]
          },
          "metadata": {
            "tags": []
          },
          "execution_count": 36
        }
      ]
    },
    {
      "cell_type": "code",
      "metadata": {
        "id": "UhvtdpudzIO8",
        "colab_type": "code",
        "outputId": "90b6048e-be1c-4e06-dcf1-35a6be4014c1",
        "colab": {
          "base_uri": "https://localhost:8080/",
          "height": 52
        }
      },
      "source": [
        "a = input().split() ;a # 공백으로 구분된 문자열 리스트 생성"
      ],
      "execution_count": 0,
      "outputs": [
        {
          "output_type": "stream",
          "text": [
            "10 20 30\n"
          ],
          "name": "stdout"
        },
        {
          "output_type": "execute_result",
          "data": {
            "text/plain": [
              "['10', '20', '30']"
            ]
          },
          "metadata": {
            "tags": []
          },
          "execution_count": 39
        }
      ]
    },
    {
      "cell_type": "code",
      "metadata": {
        "id": "AQW_7-khzWzi",
        "colab_type": "code",
        "outputId": "970092bd-3760-4a64-809d-1642b5c6f514",
        "colab": {
          "base_uri": "https://localhost:8080/",
          "height": 52
        }
      },
      "source": [
        "a = list(map(int,input().split())) ;a"
      ],
      "execution_count": 0,
      "outputs": [
        {
          "output_type": "stream",
          "text": [
            "10 20 30\n"
          ],
          "name": "stdout"
        },
        {
          "output_type": "execute_result",
          "data": {
            "text/plain": [
              "[10, 20, 30]"
            ]
          },
          "metadata": {
            "tags": []
          },
          "execution_count": 42
        }
      ]
    },
    {
      "cell_type": "code",
      "metadata": {
        "id": "RN-p4i9ezfY6",
        "colab_type": "code",
        "outputId": "36936e0d-b2f2-4524-ca03-8a31fa79e518",
        "colab": {
          "base_uri": "https://localhost:8080/",
          "height": 34
        }
      },
      "source": [
        "a, b = map(int, input().split()) # map object는 iterator라서 변수 여러개로 unpacking 가능 "
      ],
      "execution_count": 0,
      "outputs": [
        {
          "output_type": "stream",
          "text": [
            "1 2\n"
          ],
          "name": "stdout"
        }
      ]
    },
    {
      "cell_type": "markdown",
      "metadata": {
        "id": "gbJRFcEr2rpi",
        "colab_type": "text"
      },
      "source": [
        "### practice "
      ]
    },
    {
      "cell_type": "code",
      "metadata": {
        "id": "QTGk8BKU1XVE",
        "colab_type": "code",
        "colab": {}
      },
      "source": [
        "def square_2():\n",
        "  a, b = map(int,input().split())\n",
        "  if 1<=a<=20 and 10<=b<=30 and a<b:\n",
        "    result = [2**i for i in range(a,b+1)]\n",
        "    print(result)\n",
        "\n",
        "  else:\n",
        "    print(\"범위 내 정수를 입력하세요\")"
      ],
      "execution_count": 0,
      "outputs": []
    },
    {
      "cell_type": "code",
      "metadata": {
        "id": "pIRnbOzx1Xel",
        "colab_type": "code",
        "outputId": "603bb6a9-6dcc-4117-e820-55c3d62549ca",
        "colab": {
          "base_uri": "https://localhost:8080/",
          "height": 52
        }
      },
      "source": [
        "square_2()"
      ],
      "execution_count": 0,
      "outputs": [
        {
          "output_type": "stream",
          "text": [
            "12 25\n",
            "[4096, 8192, 16384, 32768, 65536, 131072, 262144, 524288, 1048576, 2097152, 4194304, 8388608, 16777216, 33554432]\n"
          ],
          "name": "stdout"
        }
      ]
    },
    {
      "cell_type": "markdown",
      "metadata": {
        "id": "0izIqRUk8u1f",
        "colab_type": "text"
      },
      "source": [
        "# #23 2차원 리스트"
      ]
    },
    {
      "cell_type": "code",
      "metadata": {
        "id": "O42sjCln9HDE",
        "colab_type": "code",
        "colab": {}
      },
      "source": [
        "ex_list = [(\"김문수\", 30), (\"정상형\", 0), (\"김정환\", 20)]"
      ],
      "execution_count": 0,
      "outputs": []
    },
    {
      "cell_type": "code",
      "metadata": {
        "id": "JpuebX1L-OcW",
        "colab_type": "code",
        "colab": {}
      },
      "source": [
        "def family_name(a):\n",
        "  result = [i for i in ex_list if i[0][0]=='김' ]\n",
        "  print(result)"
      ],
      "execution_count": 0,
      "outputs": []
    },
    {
      "cell_type": "code",
      "metadata": {
        "id": "sjVE1HKC-0Bk",
        "colab_type": "code",
        "outputId": "d96f2a00-25c3-4df5-b4cd-f2a2c3248da3",
        "colab": {
          "base_uri": "https://localhost:8080/",
          "height": 34
        }
      },
      "source": [
        "family_name(ex_list)"
      ],
      "execution_count": 0,
      "outputs": [
        {
          "output_type": "stream",
          "text": [
            "[('김문수', 30), ('김정환', 20)]\n"
          ],
          "name": "stdout"
        }
      ]
    },
    {
      "cell_type": "code",
      "metadata": {
        "id": "3u42PCWZAChR",
        "colab_type": "code",
        "outputId": "9e23cb41-18c1-4fe0-bdab-5c9584e4af20",
        "colab": {
          "base_uri": "https://localhost:8080/",
          "height": 34
        }
      },
      "source": [
        "a = [[0 for j in range(3)]for i in range(4)] ;a"
      ],
      "execution_count": 0,
      "outputs": [
        {
          "output_type": "execute_result",
          "data": {
            "text/plain": [
              "[[0, 0, 0], [0, 0, 0], [0, 0, 0], [0, 0, 0]]"
            ]
          },
          "metadata": {
            "tags": []
          },
          "execution_count": 96
        }
      ]
    },
    {
      "cell_type": "code",
      "metadata": {
        "id": "Q4vVHv-xBxh7",
        "colab_type": "code",
        "outputId": "743b3599-7dd0-46dc-ab9a-22287c11bd03",
        "colab": {
          "base_uri": "https://localhost:8080/",
          "height": 123
        }
      },
      "source": [
        "a = [[0]*i for i in [3,5,5,6,7,4]] ;a"
      ],
      "execution_count": 0,
      "outputs": [
        {
          "output_type": "execute_result",
          "data": {
            "text/plain": [
              "[[0, 0, 0],\n",
              " [0, 0, 0, 0, 0],\n",
              " [0, 0, 0, 0, 0],\n",
              " [0, 0, 0, 0, 0, 0],\n",
              " [0, 0, 0, 0, 0, 0, 0],\n",
              " [0, 0, 0, 0]]"
            ]
          },
          "metadata": {
            "tags": []
          },
          "execution_count": 90
        }
      ]
    },
    {
      "cell_type": "markdown",
      "metadata": {
        "id": "nvq6XZa6CdlE",
        "colab_type": "text"
      },
      "source": [
        "### practice 지뢰찾기(!!)"
      ]
    },
    {
      "cell_type": "code",
      "metadata": {
        "id": "HtrQLomoB9_v",
        "colab_type": "code",
        "outputId": "c084d7b0-3f1f-4efa-8553-6ee04070ef34",
        "colab": {
          "base_uri": "https://localhost:8080/",
          "height": 70
        }
      },
      "source": [
        "def mine(col,row):\n",
        "  mine_map = []\n",
        "  for _ in range(row):\n",
        "    mine_map.append(list(input()))\n",
        "\n",
        "  detect = [[0 for _ in range(col)]for _ in range(row)]\n",
        "\n",
        "  for i in range(row):\n",
        "    for j in range(col):\n",
        "\n",
        "      if mine_map[i][j] == '.':\n",
        "        if i-1 >= 0:\n",
        "          if mine_map[i-1][j] == '*':\n",
        "            detect[i][j] += 1\n",
        "        \n",
        "\n",
        "      else mine_map[i][j] == '*':\n",
        "        detect[i][j] = '*' "
      ],
      "execution_count": 0,
      "outputs": [
        {
          "output_type": "stream",
          "text": [
            ".**\n",
            "*..\n",
            "***\n"
          ],
          "name": "stdout"
        }
      ]
    },
    {
      "cell_type": "code",
      "metadata": {
        "id": "9W4JNhu6DMU-",
        "colab_type": "code",
        "outputId": "e0ecc13f-09b2-4b96-c8d7-31f7b319d412",
        "colab": {
          "base_uri": "https://localhost:8080/",
          "height": 34
        }
      },
      "source": [
        "matrix"
      ],
      "execution_count": 0,
      "outputs": [
        {
          "output_type": "execute_result",
          "data": {
            "text/plain": [
              "[['.', '*', '*'], ['*', '.', '.'], ['*', '*', '*']]"
            ]
          },
          "metadata": {
            "tags": []
          },
          "execution_count": 95
        }
      ]
    },
    {
      "cell_type": "markdown",
      "metadata": {
        "id": "Sp6c-pCjhIDe",
        "colab_type": "text"
      },
      "source": [
        "# #24 문자열 응용"
      ]
    },
    {
      "cell_type": "code",
      "metadata": {
        "id": "f9vsGzg3hkva",
        "colab_type": "code",
        "colab": {}
      },
      "source": [
        "import string"
      ],
      "execution_count": 0,
      "outputs": []
    },
    {
      "cell_type": "code",
      "metadata": {
        "id": "xWiqtc_0DRAm",
        "colab_type": "code",
        "outputId": "b22cc9e2-8e35-412d-a209-f87ca6ade10f",
        "colab": {
          "base_uri": "https://localhost:8080/",
          "height": 34
        }
      },
      "source": [
        "a = ',://이현'\n",
        "a.strip(string.punctuation).strip()"
      ],
      "execution_count": 0,
      "outputs": [
        {
          "output_type": "execute_result",
          "data": {
            "text/plain": [
              "'이현'"
            ]
          },
          "metadata": {
            "tags": []
          },
          "execution_count": 4
        }
      ]
    },
    {
      "cell_type": "markdown",
      "metadata": {
        "id": "eaOhrYIQjpve",
        "colab_type": "text"
      },
      "source": [
        "### practice"
      ]
    },
    {
      "cell_type": "code",
      "metadata": {
        "id": "J_PhzABhhsUq",
        "colab_type": "code",
        "colab": {}
      },
      "source": [
        "def count_word():\n",
        "  x = input().strip(string.punctuation).split()\n",
        "  return x.count('the')"
      ],
      "execution_count": 0,
      "outputs": []
    },
    {
      "cell_type": "code",
      "metadata": {
        "id": "LFobEHEAkB1Y",
        "colab_type": "code",
        "outputId": "422edb8e-8f6b-49cd-d2ba-7688a6f00319",
        "colab": {
          "base_uri": "https://localhost:8080/",
          "height": 72
        }
      },
      "source": [
        "count_word()"
      ],
      "execution_count": 0,
      "outputs": [
        {
          "output_type": "stream",
          "text": [
            "the grown-ups' response, this time, was to advise me to lay aside my drawings of boa constrictors, whether from the inside or the outside, and devote myself instead to geography, history, arithmetic, and grammar. That is why, at the, age of six, I gave up what might have been a magnificent career as a painter. I had been disheartened by the failure of my Drawing Number One and my Drawing Number Two. Grown-ups never understand anything by themselves, and it is tiresome for children to be always and forever explaining things to the.\n"
          ],
          "name": "stdout"
        },
        {
          "output_type": "execute_result",
          "data": {
            "text/plain": [
              "8"
            ]
          },
          "metadata": {
            "tags": []
          },
          "execution_count": 33
        }
      ]
    },
    {
      "cell_type": "code",
      "metadata": {
        "id": "jkQA7m9Amn0B",
        "colab_type": "code",
        "colab": {}
      },
      "source": [
        "def sort_high_price():\n",
        "  price = list(map(int,input().split(';')))\n",
        "  price.sort(reverse=True)\n",
        "  for i in price:\n",
        "    a = format(i, ',')\n",
        "    b = '{0:>9}'.format(a)\n",
        "    print(b)"
      ],
      "execution_count": 0,
      "outputs": []
    },
    {
      "cell_type": "code",
      "metadata": {
        "id": "JQrFX9A-nGSZ",
        "colab_type": "code",
        "outputId": "68066740-5ddd-4cf0-904d-c7daf7ce8c7d",
        "colab": {
          "base_uri": "https://localhost:8080/",
          "height": 176
        }
      },
      "source": [
        "sort_high_price()"
      ],
      "execution_count": 0,
      "outputs": [
        {
          "output_type": "stream",
          "text": [
            "51900;83000;158000;367500;250000;59200;128500;1304000\n",
            "1,304,000\n",
            "  367,500\n",
            "  250,000\n",
            "  158,000\n",
            "  128,500\n",
            "   83,000\n",
            "   59,200\n",
            "   51,900\n"
          ],
          "name": "stdout"
        }
      ]
    }
  ]
}