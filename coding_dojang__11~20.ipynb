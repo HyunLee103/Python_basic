{
  "nbformat": 4,
  "nbformat_minor": 0,
  "metadata": {
    "colab": {
      "name": "coding_dojang_#11~20.ipynb",
      "provenance": [],
      "authorship_tag": "ABX9TyP1Jd3gDy2H4sSd33PuE8EQ",
      "include_colab_link": true
    },
    "kernelspec": {
      "name": "python3",
      "display_name": "Python 3"
    }
  },
  "cells": [
    {
      "cell_type": "markdown",
      "metadata": {
        "id": "view-in-github",
        "colab_type": "text"
      },
      "source": [
        "<a href=\"https://colab.research.google.com/github/HyunLee103/Python_basic/blob/master/coding_dojang__11~20.ipynb\" target=\"_parent\"><img src=\"https://colab.research.google.com/assets/colab-badge.svg\" alt=\"Open In Colab\"/></a>"
      ]
    },
    {
      "cell_type": "markdown",
      "metadata": {
        "id": "qZB9BjoFynUC",
        "colab_type": "text"
      },
      "source": [
        "# #11 시퀸스 자료형 활용"
      ]
    },
    {
      "cell_type": "code",
      "metadata": {
        "id": "pXSTyaTXyhQf",
        "colab_type": "code",
        "outputId": "d05292a5-e693-4da0-b190-7bd30daf913a",
        "colab": {
          "base_uri": "https://localhost:8080/",
          "height": 34
        }
      },
      "source": [
        "a = [0,10,20,30]\n",
        "b = [9,8,7,6]\n",
        "a+b "
      ],
      "execution_count": 0,
      "outputs": [
        {
          "output_type": "execute_result",
          "data": {
            "text/plain": [
              "[0, 10, 20, 30, 9, 8, 7, 6]"
            ]
          },
          "metadata": {
            "tags": []
          },
          "execution_count": 1
        }
      ]
    },
    {
      "cell_type": "code",
      "metadata": {
        "id": "Vk0vr8kE1MtG",
        "colab_type": "code",
        "colab": {
          "base_uri": "https://localhost:8080/",
          "height": 34
        },
        "outputId": "9fca07d8-c014-473c-ba68-3f017c674411"
      },
      "source": [
        "list(range(0,20,3))"
      ],
      "execution_count": 1,
      "outputs": [
        {
          "output_type": "execute_result",
          "data": {
            "text/plain": [
              "[0, 3, 6, 9, 12, 15, 18]"
            ]
          },
          "metadata": {
            "tags": []
          },
          "execution_count": 1
        }
      ]
    },
    {
      "cell_type": "markdown",
      "metadata": {
        "id": "kjs9dDM15IUP",
        "colab_type": "text"
      },
      "source": [
        "### Practice"
      ]
    },
    {
      "cell_type": "code",
      "metadata": {
        "id": "Jx-szWBL31l4",
        "colab_type": "code",
        "colab": {
          "base_uri": "https://localhost:8080/",
          "height": 34
        },
        "outputId": "3c88c636-9b46-44cc-c2de-0542727654b5"
      },
      "source": [
        "n = (-32,75,97,-10,9,32,4,-15,0,76,14,2)\n",
        "n[1:12:2]"
      ],
      "execution_count": 3,
      "outputs": [
        {
          "output_type": "execute_result",
          "data": {
            "text/plain": [
              "(75, -10, 32, -15, 76, 2)"
            ]
          },
          "metadata": {
            "tags": []
          },
          "execution_count": 3
        }
      ]
    },
    {
      "cell_type": "code",
      "metadata": {
        "id": "xHKCG2me5izL",
        "colab_type": "code",
        "colab": {
          "base_uri": "https://localhost:8080/",
          "height": 52
        },
        "outputId": "543deb79-29d2-446c-8149-6d93a1f7d18b"
      },
      "source": [
        "x = input().split()\n",
        "del x[-1:-5]\n",
        "print(tuple(x))\n"
      ],
      "execution_count": 8,
      "outputs": [
        {
          "output_type": "stream",
          "text": [
            "oven bat pony total leak wreck curl crop space navy loss knee\n",
            "('oven', 'bat', 'pony', 'total', 'leak', 'wreck', 'curl', 'crop', 'space', 'navy', 'loss', 'knee')\n"
          ],
          "name": "stdout"
        }
      ]
    },
    {
      "cell_type": "code",
      "metadata": {
        "id": "kE4_JXT16J3F",
        "colab_type": "code",
        "colab": {
          "base_uri": "https://localhost:8080/",
          "height": 52
        },
        "outputId": "ef5c19d5-8d58-4e14-ffeb-e1e3e70dfa49"
      },
      "source": [
        "x = input()\n",
        "y = input()\n",
        "\n",
        "def swap(a,b):\n",
        "  result = a[1::2] + b[0::2]\n",
        "  print(result) "
      ],
      "execution_count": 9,
      "outputs": [
        {
          "output_type": "stream",
          "text": [
            "python\n",
            "python\n"
          ],
          "name": "stdout"
        }
      ]
    },
    {
      "cell_type": "code",
      "metadata": {
        "id": "t0xwVTmB7oA7",
        "colab_type": "code",
        "colab": {
          "base_uri": "https://localhost:8080/",
          "height": 34
        },
        "outputId": "14158ca2-725b-4d1f-fe89-bc966a4cc9d9"
      },
      "source": [
        "swap(x,y)"
      ],
      "execution_count": 10,
      "outputs": [
        {
          "output_type": "stream",
          "text": [
            "yhnpto\n"
          ],
          "name": "stdout"
        }
      ]
    },
    {
      "cell_type": "markdown",
      "metadata": {
        "id": "g0Mqm2Kf7449",
        "colab_type": "text"
      },
      "source": [
        "# #12 Ditionary"
      ]
    },
    {
      "cell_type": "code",
      "metadata": {
        "id": "efAz2P8w74on",
        "colab_type": "code",
        "colab": {
          "base_uri": "https://localhost:8080/",
          "height": 34
        },
        "outputId": "dad59e9b-8ae9-4026-9542-8027d7ce1b59"
      },
      "source": [
        "lux = {'health':490, 'health':800, 'mana':334} # 중복되는 key가 있으면 가장 뒤에 있는 값만 사용\n",
        "lux"
      ],
      "execution_count": 13,
      "outputs": [
        {
          "output_type": "execute_result",
          "data": {
            "text/plain": [
              "{'health': 800, 'mana': 334}"
            ]
          },
          "metadata": {
            "tags": []
          },
          "execution_count": 13
        }
      ]
    },
    {
      "cell_type": "code",
      "metadata": {
        "id": "4pcK45737wWG",
        "colab_type": "code",
        "colab": {
          "base_uri": "https://localhost:8080/",
          "height": 34
        },
        "outputId": "8ae8835b-5838-46c3-e4fc-e0efe2337d53"
      },
      "source": [
        "# key는 문자열, 실수, 불 사용가능, 그러나 리스트랑 딕셔너리 사용불가 \n",
        "# value에는 모든 자료형 가능\n",
        "\n",
        "x = {100:'hundred',False : 0, 45 :[1,3,5,4,6,8] } ; x"
      ],
      "execution_count": 17,
      "outputs": [
        {
          "output_type": "execute_result",
          "data": {
            "text/plain": [
              "{False: 0, 45: [1, 3, 5, 4, 6, 8], 100: 'hundred'}"
            ]
          },
          "metadata": {
            "tags": []
          },
          "execution_count": 17
        }
      ]
    },
    {
      "cell_type": "code",
      "metadata": {
        "id": "jnQSBueO9A1v",
        "colab_type": "code",
        "colab": {
          "base_uri": "https://localhost:8080/",
          "height": 34
        },
        "outputId": "b9c6c6e7-d7bf-4d87-c788-1641d3c2ab81"
      },
      "source": [
        "# 리스트 형태로 dict를 활용해 딕셔너리 만들기\n",
        "\n",
        "key = ['name','school','age','sex']\n",
        "value = ['이현','KU',25,'male']\n",
        "lux2 = dict(zip(key,value)) ;lux2"
      ],
      "execution_count": 18,
      "outputs": [
        {
          "output_type": "execute_result",
          "data": {
            "text/plain": [
              "{'age': 25, 'name': '이현', 'school': 'KU', 'sex': 'male'}"
            ]
          },
          "metadata": {
            "tags": []
          },
          "execution_count": 18
        }
      ]
    },
    {
      "cell_type": "markdown",
      "metadata": {
        "id": "cmlUgp4JANCk",
        "colab_type": "text"
      },
      "source": [
        "### Practice"
      ]
    },
    {
      "cell_type": "code",
      "metadata": {
        "id": "cYxS1775-KpQ",
        "colab_type": "code",
        "colab": {
          "base_uri": "https://localhost:8080/",
          "height": 70
        },
        "outputId": "26f26123-db03-4d3c-da03-04a5ea4b2929"
      },
      "source": [
        "x = input().split()\n",
        "y = input().split()\n",
        "\n",
        "a = dict(zip(x,y))\n",
        "print(a)"
      ],
      "execution_count": 19,
      "outputs": [
        {
          "output_type": "stream",
          "text": [
            "health health_regen mana mana_regen\n",
            "575.6 1.7 338.8 1.63\n",
            "{'health': '575.6', 'health_regen': '1.7', 'mana': '338.8', 'mana_regen': '1.63'}\n"
          ],
          "name": "stdout"
        }
      ]
    },
    {
      "cell_type": "markdown",
      "metadata": {
        "id": "M5yX-HStAXqu",
        "colab_type": "text"
      },
      "source": [
        "# #13~15 IF문 활용"
      ]
    },
    {
      "cell_type": "markdown",
      "metadata": {
        "id": "2AOc4ZbqAZQA",
        "colab_type": "text"
      },
      "source": [
        "### practice"
      ]
    },
    {
      "cell_type": "code",
      "metadata": {
        "id": "Ns5JJDNf_57D",
        "colab_type": "code",
        "colab": {}
      },
      "source": [
        "def discount():\n",
        "  p = input()\n",
        "  c = input()\n",
        "  if c=='Cash3000':\n",
        "    result = int(p)-3000\n",
        "  elif c=='Cash5000':\n",
        "    result = int(p)-5000\n",
        "  print(result)"
      ],
      "execution_count": 0,
      "outputs": []
    },
    {
      "cell_type": "code",
      "metadata": {
        "id": "puhcTOGuAV2c",
        "colab_type": "code",
        "colab": {
          "base_uri": "https://localhost:8080/",
          "height": 70
        },
        "outputId": "9e42533e-4954-4442-c8e9-91f88a526fb2"
      },
      "source": [
        "discount()"
      ],
      "execution_count": 25,
      "outputs": [
        {
          "output_type": "stream",
          "text": [
            "27000\n",
            "Cash3000\n",
            "24000\n"
          ],
          "name": "stdout"
        }
      ]
    },
    {
      "cell_type": "markdown",
      "metadata": {
        "id": "Bc8d8XZQGNzq",
        "colab_type": "text"
      },
      "source": [
        "#### 질문\n",
        "##### 풀긴했는데 코드가 좀 지저분함.. \n",
        "###### https://dojang.io/mod/quiz/attempt.php?attempt=895344&cmid=2234"
      ]
    },
    {
      "cell_type": "code",
      "metadata": {
        "id": "kfRafWeoBEqb",
        "colab_type": "code",
        "colab": {}
      },
      "source": [
        "def examtest():\n",
        "  kor = int(input())\n",
        "  eng = int(input())\n",
        "  math = int(input())\n",
        "  sci = int(input())\n",
        "  \n",
        "  e = (kor+eng+math+sci) /4 \n",
        "\n",
        "  a = [kor,eng,math,sci]\n",
        "\n",
        "  for i in range(len(a)):\n",
        "    if a[i] > 100 or a[i] < 0:\n",
        "      print('잘못된 점수')\n",
        "      break;\n",
        "    else:\n",
        "      if 80<= e <=100:\n",
        "        print('합격')\n",
        "      elif 0<= e <80:\n",
        "        print('불합격')"
      ],
      "execution_count": 0,
      "outputs": []
    },
    {
      "cell_type": "code",
      "metadata": {
        "id": "0T-GXdPQDakS",
        "colab_type": "code",
        "colab": {
          "base_uri": "https://localhost:8080/",
          "height": 105
        },
        "outputId": "c3f14488-1339-45a3-b92d-f479cb6f4bf7"
      },
      "source": [
        "examtest()"
      ],
      "execution_count": 34,
      "outputs": [
        {
          "output_type": "stream",
          "text": [
            "89\n",
            "72\n",
            "93\n",
            "82\n",
            "합격\n"
          ],
          "name": "stdout"
        }
      ]
    },
    {
      "cell_type": "code",
      "metadata": {
        "id": "XRzZBZYpEJ0w",
        "colab_type": "code",
        "colab": {
          "base_uri": "https://localhost:8080/",
          "height": 105
        },
        "outputId": "d2e92271-e2b9-489e-ac32-a22f07276b4b"
      },
      "source": [
        "examtest()"
      ],
      "execution_count": 39,
      "outputs": [
        {
          "output_type": "stream",
          "text": [
            "120\n",
            "140\n",
            "45\n",
            "80\n",
            "잘못된 점수\n"
          ],
          "name": "stdout"
        }
      ]
    },
    {
      "cell_type": "code",
      "metadata": {
        "id": "ffuBt1usEPMX",
        "colab_type": "code",
        "colab": {}
      },
      "source": [
        "def transport():\n",
        "  age = int(input())\n",
        "  cash = 9000\n",
        "\n",
        "  if age < 7:\n",
        "    print('7이상 입력해주세요')\n",
        "  elif 7<=age<=12:\n",
        "    result = cash - 650\n",
        "  elif 13<=age<=18:\n",
        "    result = cash - 1050\n",
        "  elif age >= 19:\n",
        "    result = cash - 1250\n",
        "  print(result)"
      ],
      "execution_count": 0,
      "outputs": []
    },
    {
      "cell_type": "code",
      "metadata": {
        "id": "UR8NIdI_IIVd",
        "colab_type": "code",
        "colab": {
          "base_uri": "https://localhost:8080/",
          "height": 52
        },
        "outputId": "b7a3fbc5-f353-4eb9-81b4-5ad6ccbcc7be"
      },
      "source": [
        "transport()"
      ],
      "execution_count": 41,
      "outputs": [
        {
          "output_type": "stream",
          "text": [
            "25\n",
            "7750\n"
          ],
          "name": "stdout"
        }
      ]
    },
    {
      "cell_type": "markdown",
      "metadata": {
        "id": "M7u_-XRDIl0Y",
        "colab_type": "text"
      },
      "source": [
        "# #16~19 For문 활용"
      ]
    },
    {
      "cell_type": "markdown",
      "metadata": {
        "id": "b5KukNtHM2JI",
        "colab_type": "text"
      },
      "source": [
        "## practice"
      ]
    },
    {
      "cell_type": "code",
      "metadata": {
        "id": "IVKFDAXCIK7a",
        "colab_type": "code",
        "colab": {}
      },
      "source": [
        "def exchange():\n",
        "  x = int(input())\n",
        "  i = 1\n",
        "  while True:\n",
        "    ex = x - 1350\n",
        "    x = ex\n",
        "    if x<0:\n",
        "      break\n",
        "    print(ex, i)\n",
        "    i += 1"
      ],
      "execution_count": 0,
      "outputs": []
    },
    {
      "cell_type": "code",
      "metadata": {
        "id": "N_HKns8NIk5X",
        "colab_type": "code",
        "colab": {
          "base_uri": "https://localhost:8080/",
          "height": 158
        },
        "outputId": "105fefbf-a05b-4191-e951-8a7c33423af5"
      },
      "source": [
        "exchange()"
      ],
      "execution_count": 61,
      "outputs": [
        {
          "output_type": "stream",
          "text": [
            "10000\n",
            "8650 1\n",
            "7300 2\n",
            "5950 3\n",
            "4600 4\n",
            "3250 5\n",
            "1900 6\n",
            "550 7\n"
          ],
          "name": "stdout"
        }
      ]
    },
    {
      "cell_type": "code",
      "metadata": {
        "id": "tMCQXYduL75R",
        "colab_type": "code",
        "colab": {}
      },
      "source": [
        "def print_not3():\n",
        "  start, stop = map(int, input().split())\n",
        "  for i in range(start,stop):\n",
        "    if i % 10 != 3:\n",
        "      print(i,end=',')"
      ],
      "execution_count": 0,
      "outputs": []
    },
    {
      "cell_type": "code",
      "metadata": {
        "id": "0Wmva-YpOelE",
        "colab_type": "code",
        "colab": {
          "base_uri": "https://localhost:8080/",
          "height": 52
        },
        "outputId": "0c036001-9192-404d-80d3-c4b375782154"
      },
      "source": [
        "print_not3()"
      ],
      "execution_count": 80,
      "outputs": [
        {
          "output_type": "stream",
          "text": [
            "1 20\n",
            "1,2,4,5,6,7,8,9,10,11,12,14,15,16,17,18,19,"
          ],
          "name": "stdout"
        }
      ]
    },
    {
      "cell_type": "code",
      "metadata": {
        "id": "svK6t14WOkUZ",
        "colab_type": "code",
        "colab": {}
      },
      "source": [
        "def itristar(a):\n",
        "  for i in range(a):\n",
        "    for j in range(a):\n",
        "      if j >= i:\n",
        "        print('*',end = '')\n",
        "      elif j < i:\n",
        "        print(' ',end='')\n",
        "    print()"
      ],
      "execution_count": 0,
      "outputs": []
    },
    {
      "cell_type": "code",
      "metadata": {
        "id": "0dlRQ2X3RXR-",
        "colab_type": "code",
        "colab": {
          "base_uri": "https://localhost:8080/",
          "height": 105
        },
        "outputId": "55b4e4e8-430f-4282-baff-3461413f0461"
      },
      "source": [
        "itristar(5)"
      ],
      "execution_count": 84,
      "outputs": [
        {
          "output_type": "stream",
          "text": [
            "*****\n",
            " ****\n",
            "  ***\n",
            "   **\n",
            "    *\n"
          ],
          "name": "stdout"
        }
      ]
    },
    {
      "cell_type": "markdown",
      "metadata": {
        "id": "BdhvJMkdTwLG",
        "colab_type": "text"
      },
      "source": [
        "##### 질문\n",
        "###### https://dojang.io/mod/quiz/attempt.php?attempt=895443&cmid=2264"
      ]
    },
    {
      "cell_type": "code",
      "metadata": {
        "id": "M_Q3ZlTkRdU0",
        "colab_type": "code",
        "colab": {}
      },
      "source": [
        "def mt_star(a):\n",
        "\n",
        "length = 2a-1\n",
        "  for i in range(a):\n",
        "    for j in range(length):\n",
        "      if i==1 and j = a \\\\\n",
        "        print(\"*\",end='')\n",
        "      elif i==\n"
      ],
      "execution_count": 0,
      "outputs": []
    },
    {
      "cell_type": "markdown",
      "metadata": {
        "id": "LbkvdQIQUDKQ",
        "colab_type": "text"
      },
      "source": [
        "# #20 FizzBuzz\n",
        "##### 1에서 100까지 출력\n",
        "##### 3의 배수는 Fizz 출력\n",
        "##### 5의 배수는 Buzz 출력\n",
        "##### 3과 5의 공배수는 FizzBuzz 출력"
      ]
    },
    {
      "cell_type": "code",
      "metadata": {
        "id": "kxwR2HTgUHDF",
        "colab_type": "code",
        "colab": {}
      },
      "source": [
        "def fizzbuzz():\n",
        "  for i in range(1,101):\n",
        "    if i% 3 ==0 and i % 5 ==0:\n",
        "      print('fizzbuzz : %d'%i)\n",
        "    elif i % 3 == 0 and i%5 !=0:\n",
        "      print('fizz : %d'%i)\n",
        "    elif i % 5 ==0 and i % 3 !=0:\n",
        "      print('buzz : %d'%i)\n",
        "    else:\n",
        "      print(i)"
      ],
      "execution_count": 0,
      "outputs": []
    },
    {
      "cell_type": "code",
      "metadata": {
        "id": "XmR5BRAOVaBs",
        "colab_type": "code",
        "colab": {}
      },
      "source": [
        "fizzbuzz()"
      ],
      "execution_count": 0,
      "outputs": []
    },
    {
      "cell_type": "markdown",
      "metadata": {
        "id": "bPbhG8QOXAJN",
        "colab_type": "text"
      },
      "source": [
        "#### 코드 줄이기"
      ]
    },
    {
      "cell_type": "code",
      "metadata": {
        "id": "HSmc_mzCVfLx",
        "colab_type": "code",
        "colab": {}
      },
      "source": [
        "def fizzbuzz_short():\n",
        "  for i in range(1,101):\n",
        "    print('fizz'*(i%3==0)+'buzz'*(i%5==0) or i) # 문자열의 곱셈, 덧셈 연산 활용\n",
        "                                                # 'fizz'*Flase = 출력 X\n",
        "                                                # 'fizz;*Ture = 출력 O"
      ],
      "execution_count": 0,
      "outputs": []
    },
    {
      "cell_type": "code",
      "metadata": {
        "id": "jQKNU89WXfh-",
        "colab_type": "code",
        "colab": {}
      },
      "source": [
        "fizzbuzz_short()"
      ],
      "execution_count": 0,
      "outputs": []
    }
  ]
}