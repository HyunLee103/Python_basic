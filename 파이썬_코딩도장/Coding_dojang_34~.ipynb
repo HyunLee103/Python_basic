{
  "nbformat": 4,
  "nbformat_minor": 0,
  "metadata": {
    "colab": {
      "name": "Coding_dojang#34~.ipynb",
      "provenance": [],
      "authorship_tag": "ABX9TyP36f88W+3SeYrVZQMzC0jY",
      "include_colab_link": true
    },
    "kernelspec": {
      "name": "python3",
      "display_name": "Python 3"
    }
  },
  "cells": [
    {
      "cell_type": "markdown",
      "metadata": {
        "id": "view-in-github",
        "colab_type": "text"
      },
      "source": [
        "<a href=\"https://colab.research.google.com/github/HyunLee103/Python_basic/blob/master/Coding_dojang_34~.ipynb\" target=\"_parent\"><img src=\"https://colab.research.google.com/assets/colab-badge.svg\" alt=\"Open In Colab\"/></a>"
      ]
    },
    {
      "cell_type": "markdown",
      "metadata": {
        "id": "yPSt9e3Fe3kw",
        "colab_type": "text"
      },
      "source": [
        "# #34 Class\n",
        "class는 사용자 정의 객체(object) 만드는 것!"
      ]
    },
    {
      "cell_type": "markdown",
      "metadata": {
        "id": "6p4MrM3vlvTf",
        "colab_type": "text"
      },
      "source": [
        "## Method"
      ]
    },
    {
      "cell_type": "code",
      "metadata": {
        "id": "Epktc11AexxD",
        "colab_type": "code",
        "colab": {}
      },
      "source": [
        "class Person:\n",
        "  def greeting(self): # method의 첫번째 arg는 무조건 self ?? method vs 함수 ??\n",
        "    print('Hello')"
      ],
      "execution_count": 0,
      "outputs": []
    },
    {
      "cell_type": "code",
      "metadata": {
        "id": "Bckxj9pAitKv",
        "colab_type": "code",
        "colab": {}
      },
      "source": [
        "james = Person()  # class를 james에 할당함, object = instance, class와 연결해서 얘기할때만 instance라는 표현을 쓴다\n",
        "                  # james는 object이고 Person class의 instance 이다."
      ],
      "execution_count": 0,
      "outputs": []
    },
    {
      "cell_type": "code",
      "metadata": {
        "id": "zJfXS3vii5s6",
        "colab_type": "code",
        "colab": {
          "base_uri": "https://localhost:8080/",
          "height": 34
        },
        "outputId": "03e472e2-9cdf-46e9-a7c3-7b091418946d"
      },
      "source": [
        "# instance를 통해 class 안에 method 호출하기\n",
        "james.greeting()\n"
      ],
      "execution_count": 3,
      "outputs": [
        {
          "output_type": "stream",
          "text": [
            "Hello\n"
          ],
          "name": "stdout"
        }
      ]
    },
    {
      "cell_type": "markdown",
      "metadata": {
        "id": "g9PvQHm4jTzw",
        "colab_type": "text"
      },
      "source": [
        "이렇게 instance로 호출하는 method를 instance method 라고 한다\n",
        "\n",
        "리스트, 딕셔너리와 같은 자료형도 class다 "
      ]
    },
    {
      "cell_type": "code",
      "metadata": {
        "id": "5gKkUYYYjBvC",
        "colab_type": "code",
        "colab": {}
      },
      "source": [
        "b = list(range(10))    # list class를 instance b에 할당\n",
        "b.append(20)           # instance b를 이용해 list의 method append 사용"
      ],
      "execution_count": 0,
      "outputs": []
    },
    {
      "cell_type": "markdown",
      "metadata": {
        "id": "jwYIwxDfk44x",
        "colab_type": "text"
      },
      "source": [
        "####  메서드 안에서 메서드 호출하기"
      ]
    },
    {
      "cell_type": "code",
      "metadata": {
        "id": "yi_CSn98kSax",
        "colab_type": "code",
        "colab": {
          "base_uri": "https://localhost:8080/",
          "height": 34
        },
        "outputId": "5ec85d19-9293-4144-dca3-37a6c411589d"
      },
      "source": [
        "class Person:\n",
        "  def greeting(self):\n",
        "    print('Hello')\n",
        "  \n",
        "  def hi(self):\n",
        "    self.greeting()\n",
        "\n",
        "hyun = Person()\n",
        "hyun.hi()"
      ],
      "execution_count": 7,
      "outputs": [
        {
          "output_type": "stream",
          "text": [
            "Hello\n"
          ],
          "name": "stdout"
        }
      ]
    },
    {
      "cell_type": "markdown",
      "metadata": {
        "id": "KguG3aTOlyaN",
        "colab_type": "text"
      },
      "source": [
        "## attribute(속성)\n",
        "\n",
        "속성은 __init__ 메서드에서 만든다는 점과 self.속성 이렇게 값을 할당한다는 점이 중요"
      ]
    },
    {
      "cell_type": "code",
      "metadata": {
        "id": "n9hI8-LklegK",
        "colab_type": "code",
        "colab": {
          "base_uri": "https://localhost:8080/",
          "height": 34
        },
        "outputId": "c7f58f61-6281-454e-9b8f-19e87a7e8c09"
      },
      "source": [
        "class Person:\n",
        "  def __init__(self):         # __init__ method는 class로 instance를 만들 때 호출되어 해당 instance를 초기화한다.\n",
        "    self.hello = '안녕하세요'\n",
        "\n",
        "  def greeting(self):\n",
        "    print(self.hello)\n",
        "\n",
        "\n",
        "hyun = Person()\n",
        "hyun.greeting()"
      ],
      "execution_count": 8,
      "outputs": [
        {
          "output_type": "stream",
          "text": [
            "안녕하세요\n"
          ],
          "name": "stdout"
        }
      ]
    },
    {
      "cell_type": "markdown",
      "metadata": {
        "id": "1wJiV-q6nK3q",
        "colab_type": "text"
      },
      "source": [
        "self 는 instance 자기자신을 의미???"
      ]
    },
    {
      "cell_type": "code",
      "metadata": {
        "id": "Lu_5McWNmKf4",
        "colab_type": "code",
        "colab": {
          "base_uri": "https://localhost:8080/",
          "height": 34
        },
        "outputId": "dc4636c8-4a2f-42e4-c123-21bbf3e78ba3"
      },
      "source": [
        "class Person:\n",
        "  def __init__(self, name,age,add):\n",
        "    self.hello = '안녕'\n",
        "    self.name = name\n",
        "    self.age = age                   # attribute는 약간 class 전체의 변수선언하는 느낌? \n",
        "    self.add = add\n",
        "\n",
        "  def greeting(self):\n",
        "    print('{}, 내 이름은 {}이고, {}살이고, {}에 삽니다'.format(self.hello,self.name,self.age,self.add))\n",
        "                                                                # class 안에서 attribute 접근할때는 self.attri\n",
        "                                                                # class 밖에서는 instance.attri\n",
        "hyun = Person('이현',25,'성남시 분당구 판교동')\n",
        "hyun.greeting()"
      ],
      "execution_count": 10,
      "outputs": [
        {
          "output_type": "stream",
          "text": [
            "안녕, 내 이름은 이현이고, 25살이고, 성남시 분당구 판교동에 삽니다\n"
          ],
          "name": "stdout"
        }
      ]
    },
    {
      "cell_type": "code",
      "metadata": {
        "id": "6BKA885_oU1_",
        "colab_type": "code",
        "colab": {
          "base_uri": "https://localhost:8080/",
          "height": 52
        },
        "outputId": "82724e49-bd50-4293-8361-f475d3b14453"
      },
      "source": [
        "print(hyun.name) # class 밖에서는 instance.attri\n",
        "print(hyun.age,hyun.add)"
      ],
      "execution_count": 12,
      "outputs": [
        {
          "output_type": "stream",
          "text": [
            "이현\n",
            "25 성남시 분당구 판교동\n"
          ],
          "name": "stdout"
        }
      ]
    },
    {
      "cell_type": "markdown",
      "metadata": {
        "id": "iz2HMjtyqTqZ",
        "colab_type": "text"
      },
      "source": [
        "### private attribute"
      ]
    },
    {
      "cell_type": "code",
      "metadata": {
        "id": "pC0kxv2toyAR",
        "colab_type": "code",
        "colab": {
          "base_uri": "https://localhost:8080/",
          "height": 205
        },
        "outputId": "1816084f-9f48-404e-e876-9c8639976c5d"
      },
      "source": [
        "class Person:\n",
        "  def __init__(self, name,age,add,wallet):\n",
        "    self.name = name\n",
        "    self.age = age\n",
        "    self.add = add\n",
        "    self.__wallet = wallet # 속성 앞에 __ 붙여서 비공개 속성으로 만듬, class 내부에서만 접근 가능\n",
        "\n",
        "maria = Person('마리아', 20, '서울시 서초구 반포동', 10000)\n",
        "maria.__wallet -=50 # class 외부에서 instance.__속성 으로 접근하면 에러 뜸\n"
      ],
      "execution_count": 13,
      "outputs": [
        {
          "output_type": "error",
          "ename": "AttributeError",
          "evalue": "ignored",
          "traceback": [
            "\u001b[0;31m---------------------------------------------------------------------------\u001b[0m",
            "\u001b[0;31mAttributeError\u001b[0m                            Traceback (most recent call last)",
            "\u001b[0;32m<ipython-input-13-c485f8f0e95d>\u001b[0m in \u001b[0;36m<module>\u001b[0;34m()\u001b[0m\n\u001b[1;32m      7\u001b[0m \u001b[0;34m\u001b[0m\u001b[0m\n\u001b[1;32m      8\u001b[0m \u001b[0mmaria\u001b[0m \u001b[0;34m=\u001b[0m \u001b[0mPerson\u001b[0m\u001b[0;34m(\u001b[0m\u001b[0;34m'마리아'\u001b[0m\u001b[0;34m,\u001b[0m \u001b[0;36m20\u001b[0m\u001b[0;34m,\u001b[0m \u001b[0;34m'서울시 서초구 반포동'\u001b[0m\u001b[0;34m,\u001b[0m \u001b[0;36m10000\u001b[0m\u001b[0;34m)\u001b[0m\u001b[0;34m\u001b[0m\u001b[0;34m\u001b[0m\u001b[0m\n\u001b[0;32m----> 9\u001b[0;31m \u001b[0mmaria\u001b[0m\u001b[0;34m.\u001b[0m\u001b[0m__wallet\u001b[0m \u001b[0;34m-=\u001b[0m\u001b[0;36m50\u001b[0m\u001b[0;34m\u001b[0m\u001b[0;34m\u001b[0m\u001b[0m\n\u001b[0m",
            "\u001b[0;31mAttributeError\u001b[0m: 'Person' object has no attribute '__wallet'"
          ]
        }
      ]
    },
    {
      "cell_type": "code",
      "metadata": {
        "id": "20F9ei2Bq8oO",
        "colab_type": "code",
        "colab": {}
      },
      "source": [
        "class Person:\n",
        "  def __init__(self, name,age,add,wallet):\n",
        "    self.name = name\n",
        "    self.age = age\n",
        "    self.add = add\n",
        "    self.__wallet = wallet # 속성 앞에 __ 붙여서 비공개 속성으로 만듬, class 내부에서만 접근 가능\n",
        "\n",
        "  def pay(self, amount):\n",
        "    self.__wallet < amount\n",
        "    print('돈이 부족해..')\n",
        "\n",
        "hyun = Person('이현',25,'판교',100000)"
      ],
      "execution_count": 0,
      "outputs": []
    },
    {
      "cell_type": "code",
      "metadata": {
        "id": "wWdYgHl0rhLY",
        "colab_type": "code",
        "colab": {
          "base_uri": "https://localhost:8080/",
          "height": 34
        },
        "outputId": "d00b159f-c96b-4ae0-cfec-bccd44b28e9d"
      },
      "source": [
        "hyun.pay(1500000000)"
      ],
      "execution_count": 17,
      "outputs": [
        {
          "output_type": "stream",
          "text": [
            "돈이 부족해..\n"
          ],
          "name": "stdout"
        }
      ]
    },
    {
      "cell_type": "markdown",
      "metadata": {
        "id": "EpF5pcKIsDDq",
        "colab_type": "text"
      },
      "source": [
        "## Practice\n",
        "개임 캐릭터 클래스 만들기"
      ]
    },
    {
      "cell_type": "code",
      "metadata": {
        "id": "lXpD0814rkRx",
        "colab_type": "code",
        "colab": {}
      },
      "source": [
        "class Knight:\n",
        "  \n",
        "  def __init__(self, health,mana,armor):\n",
        "    self.health = health\n",
        "    self.mana = mana\n",
        "    self.armor = armor\n",
        "  \n",
        "  def slash(self):\n",
        "    print('베기')"
      ],
      "execution_count": 0,
      "outputs": []
    },
    {
      "cell_type": "code",
      "metadata": {
        "id": "8IhaUwYPs_a-",
        "colab_type": "code",
        "colab": {
          "base_uri": "https://localhost:8080/",
          "height": 52
        },
        "outputId": "15da3bcb-08eb-4123-da6e-9a5517437667"
      },
      "source": [
        "x = Knight(health=542.4, mana=210.3, armor=38)\n",
        "print(x.health, x.mana, x.armor)\n",
        "x.slash()"
      ],
      "execution_count": 22,
      "outputs": [
        {
          "output_type": "stream",
          "text": [
            "542.4 210.3 38\n",
            "베기\n"
          ],
          "name": "stdout"
        }
      ]
    },
    {
      "cell_type": "code",
      "metadata": {
        "id": "2UT3iklYs_72",
        "colab_type": "code",
        "colab": {}
      },
      "source": [
        "class Annie:\n",
        "  \n",
        "  def __init__(self,health,mana,ap):\n",
        "    self.health = health\n",
        "    self.mana = mana\n",
        "    self.ap = ap\n",
        "  \n",
        "  def tibbers(self):\n",
        "    d = self.ap * 0.65 + 400\n",
        "    print('티버~~ 피해량 : {}'.format(d))"
      ],
      "execution_count": 0,
      "outputs": []
    },
    {
      "cell_type": "code",
      "metadata": {
        "id": "ktYyH1DouJAg",
        "colab_type": "code",
        "colab": {
          "base_uri": "https://localhost:8080/",
          "height": 34
        },
        "outputId": "c74f5c13-e175-4612-df1a-fc0f149470e3"
      },
      "source": [
        "health, mana, ap = map(float,input().split())"
      ],
      "execution_count": 24,
      "outputs": [
        {
          "output_type": "stream",
          "text": [
            "511.68 334.0 298\n"
          ],
          "name": "stdout"
        }
      ]
    },
    {
      "cell_type": "code",
      "metadata": {
        "id": "yzIm5aEtuTKG",
        "colab_type": "code",
        "colab": {
          "base_uri": "https://localhost:8080/",
          "height": 34
        },
        "outputId": "bce2cbba-6ba1-427c-8cc8-a85206a56668"
      },
      "source": [
        "x = Annie(health=health, mana=mana, ap=ap)\n",
        "x.tibbers()"
      ],
      "execution_count": 26,
      "outputs": [
        {
          "output_type": "stream",
          "text": [
            "티버~~ damage : 593.7\n"
          ],
          "name": "stdout"
        }
      ]
    },
    {
      "cell_type": "code",
      "metadata": {
        "id": "3rGWI5GRulFL",
        "colab_type": "code",
        "colab": {}
      },
      "source": [
        ""
      ],
      "execution_count": 0,
      "outputs": []
    }
  ]
}