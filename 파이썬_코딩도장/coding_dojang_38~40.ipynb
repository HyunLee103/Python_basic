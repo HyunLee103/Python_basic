{
  "nbformat": 4,
  "nbformat_minor": 0,
  "metadata": {
    "colab": {
      "name": "coding_dojang#38~40.ipynb",
      "provenance": [],
      "authorship_tag": "ABX9TyNv+oGmHpAbINN6BzxHZD8M",
      "include_colab_link": true
    },
    "kernelspec": {
      "name": "python3",
      "display_name": "Python 3"
    }
  },
  "cells": [
    {
      "cell_type": "markdown",
      "metadata": {
        "id": "view-in-github",
        "colab_type": "text"
      },
      "source": [
        "<a href=\"https://colab.research.google.com/github/HyunLee103/Python_basic/blob/master/coding_dojang_38~40.ipynb\" target=\"_parent\"><img src=\"https://colab.research.google.com/assets/colab-badge.svg\" alt=\"Open In Colab\"/></a>"
      ]
    },
    {
      "cell_type": "markdown",
      "metadata": {
        "id": "Tb1CVeRT7MB8",
        "colab_type": "text"
      },
      "source": [
        "# #38 예외처리"
      ]
    },
    {
      "cell_type": "markdown",
      "metadata": {
        "id": "kuSIO29uQDYv",
        "colab_type": "text"
      },
      "source": [
        "## try except, else finally"
      ]
    },
    {
      "cell_type": "code",
      "metadata": {
        "id": "poDFvliL7B-J",
        "colab_type": "code",
        "colab": {}
      },
      "source": [
        "def ten_div(x):\n",
        "    return 10/x"
      ],
      "execution_count": 0,
      "outputs": []
    },
    {
      "cell_type": "code",
      "metadata": {
        "id": "ayF7QF1FG_G5",
        "colab_type": "code",
        "outputId": "40bd92e6-804a-4aad-8597-89b5eab4fa8f",
        "colab": {
          "base_uri": "https://localhost:8080/",
          "height": 37
        }
      },
      "source": [
        "ten_div(2)"
      ],
      "execution_count": 0,
      "outputs": [
        {
          "output_type": "execute_result",
          "data": {
            "text/plain": [
              "5.0"
            ]
          },
          "metadata": {
            "tags": []
          },
          "execution_count": 2
        }
      ]
    },
    {
      "cell_type": "code",
      "metadata": {
        "id": "WxUf1AOIHCyb",
        "colab_type": "code",
        "outputId": "132c6962-5188-46f3-9911-836f93144e57",
        "colab": {
          "base_uri": "https://localhost:8080/",
          "height": 58
        }
      },
      "source": [
        "try:\n",
        "    x = int(input('나눌 숫자를 입력하세요: '))\n",
        "    y = 10/x\n",
        "    print(y)\n",
        "except:\n",
        "    print('예외 발생')"
      ],
      "execution_count": 0,
      "outputs": [
        {
          "output_type": "stream",
          "text": [
            "나눌 숫자를 입력하세요: 5\n",
            "2.0\n"
          ],
          "name": "stdout"
        }
      ]
    },
    {
      "cell_type": "code",
      "metadata": {
        "id": "hvo8-Kx4H-1D",
        "colab_type": "code",
        "outputId": "ad15b868-6b81-461c-c2a5-ec19ca1e35fd",
        "colab": {
          "base_uri": "https://localhost:8080/",
          "height": 58
        }
      },
      "source": [
        "y = [10,20,30]\n",
        "\n",
        "try:\n",
        "    index, x = map(int, input('인덱스와 나눌 숫자 입력:').split())\n",
        "    print(y[index]/x)\n",
        "except ZeroDivisionError: # 숫자를 0으로 나눴을때 에러 출력\n",
        "    print('0으로 나눌수 없음')\n",
        "\n",
        "except IndexError: # 범위를 넘어선 인덱스 접근일때 에러 출력\n",
        "    print('잘못된 인덱스')"
      ],
      "execution_count": 0,
      "outputs": [
        {
          "output_type": "stream",
          "text": [
            "인덱스와 나눌 숫자 입력:2 0\n",
            "0으로 나눌수 없음\n"
          ],
          "name": "stdout"
        }
      ]
    },
    {
      "cell_type": "code",
      "metadata": {
        "id": "8hvDnq86KeMf",
        "colab_type": "code",
        "outputId": "adda136a-cd7d-49ae-b8ea-2654b96098c0",
        "colab": {
          "base_uri": "https://localhost:8080/",
          "height": 58
        }
      },
      "source": [
        "try:\n",
        "    x = int(input('나눌 숫자 입력:'))\n",
        "    y = 10/x\n",
        "except ZeroDivisionError:\n",
        "    print('0으로 나눌 수 없음')\n",
        "else:\n",
        "    print(y)"
      ],
      "execution_count": 0,
      "outputs": [
        {
          "output_type": "stream",
          "text": [
            "나눌 숫자 입력:2\n",
            "5.0\n"
          ],
          "name": "stdout"
        }
      ]
    },
    {
      "cell_type": "code",
      "metadata": {
        "id": "_vtyJLdQLKnZ",
        "colab_type": "code",
        "outputId": "e40e1942-4560-4013-d47a-8ef60a86f5f4",
        "colab": {
          "base_uri": "https://localhost:8080/",
          "height": 80
        }
      },
      "source": [
        "try:\n",
        "    x = int(input('나눌 숫자를 입력하세요:'))\n",
        "    y = 10/x\n",
        "except ZeroDivisionError:\n",
        "    print('0으로 나눌 수 없음')\n",
        "else:\n",
        "    print(y)\n",
        "finally:\n",
        "    print('코드 실행 끝')"
      ],
      "execution_count": 0,
      "outputs": [
        {
          "output_type": "stream",
          "text": [
            "나눌 숫자를 입력하세요:0\n",
            "0으로 나눌 수 없음\n",
            "코드 실행 끝\n"
          ],
          "name": "stdout"
        }
      ]
    },
    {
      "cell_type": "markdown",
      "metadata": {
        "id": "Pd-FGeTcQAhn",
        "colab_type": "text"
      },
      "source": [
        "## 예외 발생 (raise)"
      ]
    },
    {
      "cell_type": "code",
      "metadata": {
        "id": "b2HDdCrKLd9q",
        "colab_type": "code",
        "outputId": "8d55f864-db4c-4c66-9508-dd27d57382b0",
        "colab": {
          "base_uri": "https://localhost:8080/",
          "height": 58
        }
      },
      "source": [
        "try:\n",
        "    x = int(input('3의 배수 입력:'))\n",
        "    if x % 3 != 0:\n",
        "        raise Exception('3의 배수가 아닙니다')   # ?? Exception의 역할이 뭐지?, RuntimeError 같은것도 사용가능하다는데\n",
        "    print(x)\n",
        "except Exception as e:\n",
        "    print('예외 발생', e)"
      ],
      "execution_count": 0,
      "outputs": [
        {
          "output_type": "stream",
          "text": [
            "3의 배수 입력:5\n",
            "예외 발생 3의 배수가 아닙니다\n"
          ],
          "name": "stdout"
        }
      ]
    },
    {
      "cell_type": "code",
      "metadata": {
        "id": "7QZ5LnxZMXsZ",
        "colab_type": "code",
        "outputId": "a047bf2b-4e84-4635-e877-83279649c477",
        "colab": {
          "base_uri": "https://localhost:8080/",
          "height": 58
        }
      },
      "source": [
        "def three_multiple():\n",
        "    x = int(input('3의 배수 입력:'))\n",
        "    if x%3 != 0:\n",
        "        raise Exception('3의 배수 아님') # 예외 발생\n",
        "    print(x)\n",
        "\n",
        "try:\n",
        "    three_multiple()\n",
        "except Exception as e:   # except로 발생한 예외 처리\n",
        "    print('예외 발생',e)"
      ],
      "execution_count": 0,
      "outputs": [
        {
          "output_type": "stream",
          "text": [
            "3의 배수 입력:5\n",
            "예외 발생 3의 배수 아님\n"
          ],
          "name": "stdout"
        }
      ]
    },
    {
      "cell_type": "code",
      "metadata": {
        "id": "Gl7-sNPnM7Fm",
        "colab_type": "code",
        "outputId": "39dc10dd-7511-44b4-c121-08d3fd9259ce",
        "colab": {
          "base_uri": "https://localhost:8080/",
          "height": 80
        }
      },
      "source": [
        "def three_multiple():\n",
        "    try:\n",
        "        x = int(input('3의 배수 입력:'))\n",
        "        if x % 3 != 0:\n",
        "            raise Exception('3의 배수가 아닙니다')\n",
        "        print(x)\n",
        "    except Exception as e:\n",
        "        print('함수안에서 raise로 발생한 예외를 except로 처리.',e)\n",
        "        raise # except 안에서 raise를 사용하면 현재 예외를 다시 발생시킴\n",
        "\n",
        "try:\n",
        "    three_multiple()\n",
        "except Exception as e:\n",
        "    print('스크립트 파일에서 예외가 발생.',e)"
      ],
      "execution_count": 0,
      "outputs": [
        {
          "output_type": "stream",
          "text": [
            "3의 배수 입력:5\n",
            "함수안에서 raise로 발생한 예외를 except로 처리. 3의 배수가 아닙니다\n",
            "스크립트 파일에서 예외가 발생. 3의 배수가 아닙니다\n"
          ],
          "name": "stdout"
        }
      ]
    },
    {
      "cell_type": "code",
      "metadata": {
        "id": "10rkoDdaOfXA",
        "colab_type": "code",
        "outputId": "e3ce2590-f43b-411e-b5c8-dd116ad2168b",
        "colab": {
          "base_uri": "https://localhost:8080/",
          "height": 261
        }
      },
      "source": [
        "x = int(input('3의 배수 입력 :'))\n",
        "assert x % 3 == 0  # assert 뒤에 조건식이 참이면 그냥 진행, 거짓이면 AssertionError 예외 발생\n",
        "print(X)"
      ],
      "execution_count": 0,
      "outputs": [
        {
          "output_type": "stream",
          "text": [
            "3의 배수 입력 :5\n"
          ],
          "name": "stdout"
        },
        {
          "output_type": "error",
          "ename": "AssertionError",
          "evalue": "ignored",
          "traceback": [
            "\u001b[0;31m---------------------------------------------------------------------------\u001b[0m",
            "\u001b[0;31mAssertionError\u001b[0m                            Traceback (most recent call last)",
            "\u001b[0;32m<ipython-input-14-cfdd621f5a96>\u001b[0m in \u001b[0;36m<module>\u001b[0;34m()\u001b[0m\n\u001b[1;32m      1\u001b[0m \u001b[0mx\u001b[0m \u001b[0;34m=\u001b[0m \u001b[0mint\u001b[0m\u001b[0;34m(\u001b[0m\u001b[0minput\u001b[0m\u001b[0;34m(\u001b[0m\u001b[0;34m'3의 배수 입력 :'\u001b[0m\u001b[0;34m)\u001b[0m\u001b[0;34m)\u001b[0m\u001b[0;34m\u001b[0m\u001b[0;34m\u001b[0m\u001b[0m\n\u001b[0;32m----> 2\u001b[0;31m \u001b[0;32massert\u001b[0m \u001b[0mx\u001b[0m \u001b[0;34m%\u001b[0m \u001b[0;36m3\u001b[0m \u001b[0;34m==\u001b[0m \u001b[0;36m0\u001b[0m  \u001b[0;31m# assert 뒤에 조건식이 참이면 그냥 진행, 거짓이면 AssertionError 예외 발생\u001b[0m\u001b[0;34m\u001b[0m\u001b[0;34m\u001b[0m\u001b[0m\n\u001b[0m\u001b[1;32m      3\u001b[0m \u001b[0mprint\u001b[0m\u001b[0;34m(\u001b[0m\u001b[0mX\u001b[0m\u001b[0;34m)\u001b[0m\u001b[0;34m\u001b[0m\u001b[0;34m\u001b[0m\u001b[0m\n",
            "\u001b[0;31mAssertionError\u001b[0m: "
          ]
        }
      ]
    },
    {
      "cell_type": "markdown",
      "metadata": {
        "id": "rUewV2MaPaB8",
        "colab_type": "text"
      },
      "source": [
        "assert는 디버깅 모드에서만 실행됩니다. 특히 파이썬은 기본적으로 디버깅 모드이며(__debug__의 값이 True) assert가 실행되지 않게 하려면 python에 -O 옵션을 붙여서 실행합니다(영문 대문자 O).\n",
        "\n",
        "python -O 스크립트파일.py\n"
      ]
    },
    {
      "cell_type": "markdown",
      "metadata": {
        "id": "Wn-aQCj9P3rM",
        "colab_type": "text"
      },
      "source": [
        "## 사용자 정의 예외 선언하기"
      ]
    },
    {
      "cell_type": "code",
      "metadata": {
        "id": "HlqL5Ur0PP3x",
        "colab_type": "code",
        "outputId": "22af797c-373b-4bf6-896c-df9783ef2d1d",
        "colab": {
          "base_uri": "https://localhost:8080/",
          "height": 58
        }
      },
      "source": [
        "class NotThreeMultipleError(Exception):\n",
        "    def __init__(self):\n",
        "        super().__init__('3의 배수가 아닙니다.')\n",
        "\n",
        "\n",
        "def three_multiple():\n",
        "    try:\n",
        "        x = int(input('3의 배수를 입력 :'))\n",
        "        if x%3 != 0:\n",
        "            raise NotThreeMultipleError\n",
        "        print(x)\n",
        "    except Exception as e:\n",
        "        print('예외가 발생했습니다.',e)\n",
        "\n",
        "three_multiple()"
      ],
      "execution_count": 0,
      "outputs": [
        {
          "output_type": "stream",
          "text": [
            "3의 배수를 입력 :5\n",
            "예외가 발생했습니다. 3의 배수가 아닙니다.\n"
          ],
          "name": "stdout"
        }
      ]
    },
    {
      "cell_type": "markdown",
      "metadata": {
        "id": "Fq96W7IBSWf7",
        "colab_type": "text"
      },
      "source": [
        "## practice\n",
        "https://dojang.io/mod/quiz/attempt.php?attempt=918213&cmid=2404\n",
        "\n",
        "사용자 정의 에러를 만들고 싶을때는 Exception class를 상속 받아서 class를 재정의 해줘야 한다."
      ]
    },
    {
      "cell_type": "code",
      "metadata": {
        "id": "0eTEjrkVRZez",
        "colab_type": "code",
        "colab": {}
      },
      "source": [
        "class NotPalindromeError(Exception):\n",
        "    def __init__(self):\n",
        "        super().__init__('회문이 아닙니다.')  # super() : base class의 method와 attribute를 sub class에서 오버라이딩 하고 싶을 때 사용\n",
        "\n",
        "def palindrome(word):\n",
        "    \n",
        "    for i in range(len(word)):\n",
        "        if word[i] != word[-(i+1)]:\n",
        "            raise NotPalindromeError\n",
        "    print(word)"
      ],
      "execution_count": 0,
      "outputs": []
    },
    {
      "cell_type": "code",
      "metadata": {
        "id": "XwcQGJNM9Tqv",
        "colab_type": "code",
        "outputId": "e2196941-0a8b-4c80-84ec-75c3910ea751",
        "colab": {
          "base_uri": "https://localhost:8080/",
          "height": 58
        }
      },
      "source": [
        "try:\n",
        "    word = input()\n",
        "    palindrome(word)\n",
        "    \n",
        "except NotPalindromeError as e:\n",
        "    print(e)"
      ],
      "execution_count": 0,
      "outputs": [
        {
          "output_type": "stream",
          "text": [
            "hello\n",
            "회문이 아닙니다.\n"
          ],
          "name": "stdout"
        }
      ]
    },
    {
      "cell_type": "markdown",
      "metadata": {
        "id": "nKuchP3EBEyP",
        "colab_type": "text"
      },
      "source": [
        "# #39 Iterator"
      ]
    },
    {
      "cell_type": "markdown",
      "metadata": {
        "id": "qa8lrLgnCXas",
        "colab_type": "text"
      },
      "source": [
        "## iterable : 반복 가능 객체\n",
        "문자열, 리스트, 딕셔너리, set "
      ]
    },
    {
      "cell_type": "code",
      "metadata": {
        "id": "aMXhxfmW8myo",
        "colab_type": "code",
        "colab": {}
      },
      "source": [
        "# dir() : 객체의 method 확인\n",
        "dir([1,2,5]) "
      ],
      "execution_count": 0,
      "outputs": []
    },
    {
      "cell_type": "code",
      "metadata": {
        "id": "eDM_BWnMCpsz",
        "colab_type": "code",
        "outputId": "6ebefcc5-04dd-4af5-b9ff-3216f28839ff",
        "colab": {
          "base_uri": "https://localhost:8080/",
          "height": 37
        }
      },
      "source": [
        "a = [1,2,5].__iter__()  # 리스트 [1,2,5] (리스트도 class, 객체이다)의 method __iter__를 호출하면 iterator가 생성된다\n",
        "                        # 그 iterator를 a에 할당하고\n",
        "a.__next__()            # a(iterator)에서 __next__를 호출하면 리스트 요소값을 순서대로 꺼내옴\n",
        "a.__next__()\n",
        "\n",
        "# 여기서 list를 ins"
      ],
      "execution_count": 0,
      "outputs": [
        {
          "output_type": "execute_result",
          "data": {
            "text/plain": [
              "2"
            ]
          },
          "metadata": {
            "tags": []
          },
          "execution_count": 12
        }
      ]
    },
    {
      "cell_type": "code",
      "metadata": {
        "id": "hKx2OlHMDyT7",
        "colab_type": "code",
        "outputId": "c4c612cf-cc50-4447-8ce0-65be6091edfe",
        "colab": {
          "base_uri": "https://localhost:8080/",
          "height": 37
        }
      },
      "source": [
        "it = range(3).__iter__()\n",
        "\n",
        "it.__next__()"
      ],
      "execution_count": 0,
      "outputs": [
        {
          "output_type": "execute_result",
          "data": {
            "text/plain": [
              "0"
            ]
          },
          "metadata": {
            "tags": []
          },
          "execution_count": 14
        }
      ]
    },
    {
      "cell_type": "markdown",
      "metadata": {
        "id": "kx5p56IiGBIi",
        "colab_type": "text"
      },
      "source": [
        "**for i in (iterator)**  \n",
        "for 문은 __iter__와 __next__ method를 밑에 그림과 같이 수행해준다\n",
        "\n",
        "\n"
      ]
    },
    {
      "cell_type": "markdown",
      "metadata": {
        "id": "wGHsbwIoEuzD",
        "colab_type": "text"
      },
      "source": [
        "![image.png](data:image/png;base64,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)"
      ]
    },
    {
      "cell_type": "markdown",
      "metadata": {
        "id": "DrYWNRShFK1c",
        "colab_type": "text"
      },
      "source": [
        "정리하자면 반복 가능한 객체는 요소를 한 번에 하나씩 가져올 수 있는 객체이고, 이터레이터는 __next__ 메서드를 사용해서 차례대로 값을 꺼낼 수 있는 객체입니다. 반복 가능한 객체(iterable)와 이터레이터(iterator)는 별개의 객체이므로 둘은 구분해야 합니다. 즉, 반복 가능한 객체에서 __iter__ 메서드로 이터레이터를 얻습니다."
      ]
    },
    {
      "cell_type": "markdown",
      "metadata": {
        "id": "iRR5lWzrFSma",
        "colab_type": "text"
      },
      "source": [
        "## iterator 만들기\n",
        " __iter__, __next__ 메서드 활용\n"
      ]
    },
    {
      "cell_type": "code",
      "metadata": {
        "id": "RYhXqxZHEmmj",
        "colab_type": "code",
        "colab": {}
      },
      "source": [
        "class Counter:\n",
        "    def __init__(self,stop):\n",
        "        self.current = 0\n",
        "        self.stop = stop\n",
        "    \n",
        "    def __iter__(self):\n",
        "        return self\n",
        "\n",
        "    def __next__(self):\n",
        "        if self.current < self.stop:\n",
        "            r = self.current\n",
        "            self.current += 1 \n",
        "            return r\n",
        "        else:\n",
        "            raise StopIteration"
      ],
      "execution_count": 0,
      "outputs": []
    },
    {
      "cell_type": "code",
      "metadata": {
        "id": "niGHl7VBF-39",
        "colab_type": "code",
        "outputId": "acbbb6cf-87b6-4362-a5ea-9a4c644df6e2",
        "colab": {
          "base_uri": "https://localhost:8080/",
          "height": 37
        }
      },
      "source": [
        "for i in Counter(5):\n",
        "    print(i , end = ' ')"
      ],
      "execution_count": 0,
      "outputs": [
        {
          "output_type": "stream",
          "text": [
            "0 1 2 3 4 "
          ],
          "name": "stdout"
        }
      ]
    },
    {
      "cell_type": "markdown",
      "metadata": {
        "id": "_nt6Q1n-IOKc",
        "colab_type": "text"
      },
      "source": [
        "## 인덱스로 접근할 수 있는 iterator 만들기\n",
        " __getitem__ 메서드를 활용  \n",
        " 클래스에서 __getitem__만 구현해도 이터레이터가 되며 __iter__, __next__는 생략해도 된다.  \n",
        " (초깃값이 없다면 __init__도 생략 가능)"
      ]
    },
    {
      "cell_type": "markdown",
      "metadata": {
        "id": "CmPdGCazI7C_",
        "colab_type": "text"
      },
      "source": [
        ""
      ]
    },
    {
      "cell_type": "code",
      "metadata": {
        "id": "XJHtcQO1GK1y",
        "colab_type": "code",
        "colab": {}
      },
      "source": [
        "class Counter:\n",
        "    def __init__(self,stop):\n",
        "        self.stop = stop\n",
        "    def __getitem__(self,index):\n",
        "        if index < self.stop:\n",
        "            return index\n",
        "        else:\n",
        "            raise IndexError"
      ],
      "execution_count": 0,
      "outputs": []
    },
    {
      "cell_type": "code",
      "metadata": {
        "id": "JV6aljZ3IteX",
        "colab_type": "code",
        "outputId": "2ad0283f-fa40-443b-e003-95f266ef4992",
        "colab": {
          "base_uri": "https://localhost:8080/",
          "height": 37
        }
      },
      "source": [
        "Counter(3)[2]"
      ],
      "execution_count": 0,
      "outputs": [
        {
          "output_type": "execute_result",
          "data": {
            "text/plain": [
              "2"
            ]
          },
          "metadata": {
            "tags": []
          },
          "execution_count": 25
        }
      ]
    },
    {
      "cell_type": "markdown",
      "metadata": {
        "id": "jMu-Ae80JaTR",
        "colab_type": "text"
      },
      "source": [
        "## iter, next \n",
        "iter는 객체의 __iter__ 메서드를 호출해주고, next는 객체의 __next__ 메서드를 호출"
      ]
    },
    {
      "cell_type": "code",
      "metadata": {
        "id": "I_6k1Aj1Iv65",
        "colab_type": "code",
        "outputId": "6c48f495-54fb-4661-d1d9-fa0d81c0a5c5",
        "colab": {
          "base_uri": "https://localhost:8080/",
          "height": 37
        }
      },
      "source": [
        "it = iter(range(3))   # iterabel 객체인 range(3)의 __iter__ 메서드를 iter 함수로 호출해 iterator 생성\n",
        "\n",
        "next(it)  # iterator it의 __next__ 메서드를 next 함수로 호출해 iterator에서 값을 차례로 꺼냄"
      ],
      "execution_count": 0,
      "outputs": [
        {
          "output_type": "execute_result",
          "data": {
            "text/plain": [
              "0"
            ]
          },
          "metadata": {
            "tags": []
          },
          "execution_count": 26
        }
      ]
    },
    {
      "cell_type": "markdown",
      "metadata": {
        "id": "iV26IvVMLL-x",
        "colab_type": "text"
      },
      "source": [
        "## iter\n",
        "  \n",
        "**iter(호출가능한객체, 반복을끝낼값)**  \n",
        "이 경우에는 반복 가능한 객체 대신 호출 가능한 객체(callable)를 넣어줘야함  \n",
        "반복을 끝낼 값은 sentinel\n",
        "\n",
        "Callable\n",
        "\n",
        "1. 함수 \n",
        "2. __call__ 이 있는 클래스 \n",
        "\n",
        "__call__은 객체.( )으로 호출된다"
      ]
    },
    {
      "cell_type": "code",
      "metadata": {
        "id": "Zn2-NsB7J9N4",
        "colab_type": "code",
        "outputId": "ef0b5c54-5093-454d-f669-3259ccd51a58",
        "colab": {
          "base_uri": "https://localhost:8080/",
          "height": 37
        }
      },
      "source": [
        "import random\n",
        "\n",
        "for i in iter(lambda : random.randint(0,5),2):   # 0 ~ 5 까지 난수발생하는 람다 표현식을 iterator로 만든 뒤\n",
        "    print(i, end=' ')                            # next로 결과 값을 하나씩 꺼내다 2가 나오면 반복 종료\n"
      ],
      "execution_count": 0,
      "outputs": [
        {
          "output_type": "stream",
          "text": [
            "5 3 0 "
          ],
          "name": "stdout"
        }
      ]
    },
    {
      "cell_type": "markdown",
      "metadata": {
        "id": "2Wa383-XNquT",
        "colab_type": "text"
      },
      "source": [
        "## practice ??\n",
        "https://dojang.io/mod/quiz/attempt.php?attempt=919318&cmid=2411"
      ]
    },
    {
      "cell_type": "code",
      "metadata": {
        "id": "9GXlP6WhM5Td",
        "colab_type": "code",
        "colab": {}
      },
      "source": [
        "class TimeIterator():\n",
        "    def __init__(self,start,stop):\n",
        "        self.start = start\n",
        "        self.stop = stop\n",
        "    \n",
        "    def __getitem__(self,index):\n",
        "        if self.start/3600 < 24:\n",
        "            if self.start < self.stop:\n",
        "                hour = int(self.start/3600)\n",
        "                minute = int(((self.start/3600) % hour)*60)\n",
        "                sec = int(((((self.start/3600) % hour)*60) % minute) * 60)\n",
        "                return hour, minute, sec\n",
        "            else:\n",
        "                raise Exception('끝나는 시점이 시작보다 앞섭니다')\n",
        "        \n",
        "        if self.start/3600 => 24:\n",
        "            if self.start < self.stop:\n",
        "                self.start \n"
      ],
      "execution_count": 0,
      "outputs": []
    },
    {
      "cell_type": "markdown",
      "metadata": {
        "id": "hpDYg2y3FPGp",
        "colab_type": "text"
      },
      "source": [
        "# #40 Generator\n",
        "제너레이터는 이터레이터를 생성해주는 함수입니다.  \n",
        "이터레이터는 클래스에 __iter__, __next__ 또는 __getitem__ 메서드를 구현해야 하지만 제너레이터는 함수 안에서 yield라는 키워드만 사용하면 끝.  \n",
        " 그래서 제너레이터는 이터레이터보다 훨씬 간단하게 작성할 수 있습니다."
      ]
    },
    {
      "cell_type": "markdown",
      "metadata": {
        "id": "fV0oLWmtIp8c",
        "colab_type": "text"
      },
      "source": [
        "## yield"
      ]
    },
    {
      "cell_type": "code",
      "metadata": {
        "id": "uEeXKrr0DLsg",
        "colab_type": "code",
        "colab": {
          "base_uri": "https://localhost:8080/",
          "height": 80
        },
        "outputId": "bd7fb2ab-1487-4467-da21-6823fd53e418"
      },
      "source": [
        "def number_generator():\n",
        "    yield 0\n",
        "    yield 1\n",
        "    yield 2\n",
        "\n",
        "for i in number_generator():\n",
        "    print(i)"
      ],
      "execution_count": 4,
      "outputs": [
        {
          "output_type": "stream",
          "text": [
            "0\n",
            "1\n",
            "2\n"
          ],
          "name": "stdout"
        }
      ]
    },
    {
      "cell_type": "code",
      "metadata": {
        "id": "Am0842x_FzlC",
        "colab_type": "code",
        "colab": {
          "base_uri": "https://localhost:8080/",
          "height": 755
        },
        "outputId": "2767a617-f67d-474f-e195-c4ecbc1b0cec"
      },
      "source": [
        "dir(number_generator())"
      ],
      "execution_count": 5,
      "outputs": [
        {
          "output_type": "execute_result",
          "data": {
            "text/plain": [
              "['__class__',\n",
              " '__del__',\n",
              " '__delattr__',\n",
              " '__dir__',\n",
              " '__doc__',\n",
              " '__eq__',\n",
              " '__format__',\n",
              " '__ge__',\n",
              " '__getattribute__',\n",
              " '__gt__',\n",
              " '__hash__',\n",
              " '__init__',\n",
              " '__init_subclass__',\n",
              " '__iter__',\n",
              " '__le__',\n",
              " '__lt__',\n",
              " '__name__',\n",
              " '__ne__',\n",
              " '__new__',\n",
              " '__next__',\n",
              " '__qualname__',\n",
              " '__reduce__',\n",
              " '__reduce_ex__',\n",
              " '__repr__',\n",
              " '__setattr__',\n",
              " '__sizeof__',\n",
              " '__str__',\n",
              " '__subclasshook__',\n",
              " 'close',\n",
              " 'gi_code',\n",
              " 'gi_frame',\n",
              " 'gi_running',\n",
              " 'gi_yieldfrom',\n",
              " 'send',\n",
              " 'throw']"
            ]
          },
          "metadata": {
            "tags": []
          },
          "execution_count": 5
        }
      ]
    },
    {
      "cell_type": "markdown",
      "metadata": {
        "id": "G2of743ZGHbO",
        "colab_type": "text"
      },
      "source": [
        "제너레이터는 제너레이터 객체에서 __next__ 메서드를 호출할 때마다 함수 안의 yield까지 코드를 실행하며 yield에서 값을 발생시킵니다(generate)."
      ]
    },
    {
      "cell_type": "code",
      "metadata": {
        "id": "MM88nXp8F3ci",
        "colab_type": "code",
        "colab": {
          "base_uri": "https://localhost:8080/",
          "height": 80
        },
        "outputId": "4b54eae1-593c-4a2b-e5bb-90b0a7a53963"
      },
      "source": [
        "def number_generator():\n",
        "    yield 0\n",
        "    yield 1\n",
        "    yield 2\n",
        "\n",
        "g = number_generator() # generator 객체(g)\n",
        "a = iter(g) # generator에서 iter 메서드를 호출하면 자기 자신을 반환 즉 a = g\n",
        "\n",
        "\n",
        "b = next(g)\n",
        "print(b)\n",
        "\n",
        "c = next(g)\n",
        "print(c)\n",
        "\n",
        "d = next(g)\n",
        "print(d)"
      ],
      "execution_count": 11,
      "outputs": [
        {
          "output_type": "stream",
          "text": [
            "0\n",
            "1\n",
            "2\n"
          ],
          "name": "stdout"
        }
      ]
    },
    {
      "cell_type": "markdown",
      "metadata": {
        "id": "nTsuek8NIsvG",
        "colab_type": "text"
      },
      "source": [
        "## 제너레이터 만들기"
      ]
    },
    {
      "cell_type": "code",
      "metadata": {
        "id": "H8_KNEqEG0X4",
        "colab_type": "code",
        "colab": {
          "base_uri": "https://localhost:8080/",
          "height": 80
        },
        "outputId": "43632508-fd31-4da4-f457-d26d74fdd1e3"
      },
      "source": [
        "def number_generator(stop):\n",
        "    n = 0\n",
        "    while n < stop:\n",
        "        yield n\n",
        "        n += 1\n",
        "\n",
        "for i in number_generator(3):\n",
        "    print(i)"
      ],
      "execution_count": 12,
      "outputs": [
        {
          "output_type": "stream",
          "text": [
            "0\n",
            "1\n",
            "2\n"
          ],
          "name": "stdout"
        }
      ]
    },
    {
      "cell_type": "code",
      "metadata": {
        "id": "t-UztxydJO-C",
        "colab_type": "code",
        "colab": {
          "base_uri": "https://localhost:8080/",
          "height": 58
        },
        "outputId": "5d6828e8-fbcc-4476-8382-b84f18db27db"
      },
      "source": [
        "def upper_generator(x):\n",
        "    for i in x:\n",
        "        yield i.upper()   # yield는 반환값을 함수 바깥으로 전달하고 함수는 일시정지 \n",
        "                          # .upper()와 같이 함수도 호출 가능\n",
        "\n",
        "name = ['hyun Lee','ura son']\n",
        "\n",
        "for i in upper_generator(name):\n",
        "    print(i)"
      ],
      "execution_count": 13,
      "outputs": [
        {
          "output_type": "stream",
          "text": [
            "HYUN LEE\n",
            "URA SON\n"
          ],
          "name": "stdout"
        }
      ]
    },
    {
      "cell_type": "markdown",
      "metadata": {
        "id": "y2TNktMYKbLK",
        "colab_type": "text"
      },
      "source": [
        "## yield from"
      ]
    },
    {
      "cell_type": "code",
      "metadata": {
        "id": "NMfvkPXIKEKL",
        "colab_type": "code",
        "colab": {
          "base_uri": "https://localhost:8080/",
          "height": 80
        },
        "outputId": "966eec63-8e37-4e7f-ca17-d6602ae5bf31"
      },
      "source": [
        "def number_generator():\n",
        "    x = [1,2,3]\n",
        "    yield from x      # yield from 뒤에는 iterable, iterator, generator object가 올 수 있음\n",
        "                      # 여기선 리스트니까 iterable\n",
        "for i in number_generator():\n",
        "    print(i)"
      ],
      "execution_count": 15,
      "outputs": [
        {
          "output_type": "stream",
          "text": [
            "1\n",
            "2\n",
            "3\n"
          ],
          "name": "stdout"
        }
      ]
    },
    {
      "cell_type": "code",
      "metadata": {
        "id": "CpvWAAPrKohJ",
        "colab_type": "code",
        "colab": {
          "base_uri": "https://localhost:8080/",
          "height": 37
        },
        "outputId": "5bdd1c76-9868-4a2b-b5f3-1f8766307c5d"
      },
      "source": [
        "def number_generator(stop):\n",
        "    n = 0\n",
        "    while n < stop:\n",
        "        yield n \n",
        "        n += 1\n",
        "\n",
        "def five_generator():\n",
        "    yield from number_generator(5) # yield from 뒤에 generator object가 온 경우\n",
        "\n",
        "for i in five_generator():\n",
        "    print(i , end= ' ')"
      ],
      "execution_count": 19,
      "outputs": [
        {
          "output_type": "stream",
          "text": [
            "0 1 2 3 4 "
          ],
          "name": "stdout"
        }
      ]
    },
    {
      "cell_type": "markdown",
      "metadata": {
        "id": "j4mJlFQzL77M",
        "colab_type": "text"
      },
      "source": [
        "## 제너레이터 표현식"
      ]
    },
    {
      "cell_type": "code",
      "metadata": {
        "id": "-WycNDgiLeQ2",
        "colab_type": "code",
        "colab": {
          "base_uri": "https://localhost:8080/",
          "height": 37
        },
        "outputId": "af7145b3-ec24-4aab-ffed-b0eb23aaa9e2"
      },
      "source": [
        "[i for i in range(30) if i % 2 == 0]"
      ],
      "execution_count": 20,
      "outputs": [
        {
          "output_type": "execute_result",
          "data": {
            "text/plain": [
              "[0, 2, 4, 6, 8, 10, 12, 14, 16, 18, 20, 22, 24, 26, 28]"
            ]
          },
          "metadata": {
            "tags": []
          },
          "execution_count": 20
        }
      ]
    },
    {
      "cell_type": "code",
      "metadata": {
        "id": "RyDM0gdgL0uB",
        "colab_type": "code",
        "colab": {
          "base_uri": "https://localhost:8080/",
          "height": 37
        },
        "outputId": "5a20f494-6415-41a2-ddb2-6b321d6a038f"
      },
      "source": [
        "(i for i in range(50) if i % 2 ==0)"
      ],
      "execution_count": 24,
      "outputs": [
        {
          "output_type": "execute_result",
          "data": {
            "text/plain": [
              "<generator object <genexpr> at 0x7f1fd636d518>"
            ]
          },
          "metadata": {
            "tags": []
          },
          "execution_count": 24
        }
      ]
    },
    {
      "cell_type": "markdown",
      "metadata": {
        "id": "Mdyb56N3Mm6y",
        "colab_type": "text"
      },
      "source": [
        "## practice 소수 제너레이터 만들기"
      ]
    },
    {
      "cell_type": "code",
      "metadata": {
        "id": "8iv6lDBPMpFr",
        "colab_type": "code",
        "colab": {}
      },
      "source": [
        "def prime_number_generator(start, stop):\n",
        "    if 10<=start<=1000 and 100<=stop<=1000 and start < stop:\n",
        "        a = range(start, stop+1)\n",
        "        for i in a:\n",
        "            for j in range(start):\n",
        "                if i % j == 0:\n",
        "\n",
        "\n",
        "\n",
        "\n",
        "    else:\n",
        "        raise Exception('범위내의 숫자를 입력해주세요')"
      ],
      "execution_count": 0,
      "outputs": []
    },
    {
      "cell_type": "code",
      "metadata": {
        "id": "9EDiy5D6M4NF",
        "colab_type": "code",
        "colab": {}
      },
      "source": [
        ""
      ],
      "execution_count": 0,
      "outputs": []
    },
    {
      "cell_type": "code",
      "metadata": {
        "id": "ivTEev41M2zo",
        "colab_type": "code",
        "colab": {}
      },
      "source": [
        ""
      ],
      "execution_count": 0,
      "outputs": []
    }
  ]
}