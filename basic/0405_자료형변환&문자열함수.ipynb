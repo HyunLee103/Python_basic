{
  "nbformat": 4,
  "nbformat_minor": 0,
  "metadata": {
    "colab": {
      "name": "0405_자료형변환&문자열함수.ipynb",
      "provenance": []
    },
    "kernelspec": {
      "name": "python3",
      "display_name": "Python 3"
    }
  },
  "cells": [
    {
      "cell_type": "code",
      "metadata": {
        "id": "BV1VMEQPRCC7",
        "colab_type": "code",
        "outputId": "136d395f-c754-43d9-dcc6-c0bc121ee48d",
        "colab": {
          "base_uri": "https://localhost:8080/",
          "height": 70
        }
      },
      "source": [
        "a = float(input(\"첫번째 숫자 입력 : \"))\n",
        "b = float(input(\"두번째 숫자 입력 : \"))\n",
        "\n",
        "\n",
        "print(a+b)"
      ],
      "execution_count": 0,
      "outputs": [
        {
          "output_type": "stream",
          "text": [
            "첫번째 숫자 입력 : 1254\n",
            "두번째 숫자 입력 : 45\n",
            "1299.0\n"
          ],
          "name": "stdout"
        }
      ]
    },
    {
      "cell_type": "markdown",
      "metadata": {
        "id": "1u14RoAIdOqQ",
        "colab_type": "text"
      },
      "source": [
        "**자료형 변환 함수**"
      ]
    },
    {
      "cell_type": "code",
      "metadata": {
        "id": "omrCOIRaRvW8",
        "colab_type": "code",
        "colab": {}
      },
      "source": [
        "# 인치 입력 받고 cm 출력하는 함수 \n",
        "def convert_inch_2_cm():\n",
        "  str_intput = input(\"인치 입력 :\")\n",
        "  num_output = float(str_intput)\n",
        "  cm_output = 2.54*num_output\n",
        "\n",
        "  print(\"{}인치 > {}cm \".format(str_intput,cm_output))"
      ],
      "execution_count": 0,
      "outputs": []
    },
    {
      "cell_type": "code",
      "metadata": {
        "id": "IbKCK2KBV2fH",
        "colab_type": "code",
        "colab": {}
      },
      "source": [
        "# 원 반지름 받아서 둘레랑 넓이 출력\n",
        "def circle(r):\n",
        "  lenth = 2*3.14*float(r)\n",
        "  area = 3.14*r*r\n",
        "\n",
        "  print(\"원 둘레 : {}, 넓이 : {}\".format(lenth,area))"
      ],
      "execution_count": 0,
      "outputs": []
    },
    {
      "cell_type": "code",
      "metadata": {
        "id": "_WhapuAJW2A2",
        "colab_type": "code",
        "outputId": "e262be76-679c-4396-d6ed-f601ef3b0572",
        "colab": {
          "base_uri": "https://localhost:8080/",
          "height": 34
        }
      },
      "source": [
        "circle(14.5)"
      ],
      "execution_count": 0,
      "outputs": [
        {
          "output_type": "stream",
          "text": [
            "원 둘레 : 91.06, 넓이 : 660.1850000000001\n"
          ],
          "name": "stdout"
        }
      ]
    },
    {
      "cell_type": "markdown",
      "metadata": {
        "id": "utSrkbDQcyEx",
        "colab_type": "text"
      },
      "source": [
        "**변수 swap**"
      ]
    },
    {
      "cell_type": "code",
      "metadata": {
        "id": "MeXnEi3wW5Yi",
        "colab_type": "code",
        "outputId": "28ed80b4-fae6-41b5-9cee-240fed67c312",
        "colab": {
          "base_uri": "https://localhost:8080/",
          "height": 87
        }
      },
      "source": [
        "a = input(\"문자열 입력 : \")\n",
        "b = input(\"문자열 입력 : \")\n",
        "\n",
        "print(a,b)\n",
        "c = b      # c 라는 새로운 공간 할당 \n",
        "b = a \n",
        "a = c \n",
        "# 파이썬에서는 a, b = b, a 로 변수 swap 가능!\n",
        "print(a,b)"
      ],
      "execution_count": 0,
      "outputs": [
        {
          "output_type": "stream",
          "text": [
            "문자열 입력 : 23\n",
            "문자열 입력 : 12\n",
            "23 12\n",
            "12 23\n"
          ],
          "name": "stdout"
        }
      ]
    },
    {
      "cell_type": "markdown",
      "metadata": {
        "id": "_8mDaic6dLED",
        "colab_type": "text"
      },
      "source": [
        "**문자열 기본 함수**"
      ]
    },
    {
      "cell_type": "code",
      "metadata": {
        "id": "oYj2m17EX9XC",
        "colab_type": "code",
        "colab": {
          "base_uri": "https://localhost:8080/",
          "height": 34
        },
        "outputId": "17459149-d1fc-4e7f-ed28-8f4974db13e4"
      },
      "source": [
        "# 공백 제거\n",
        "\"문자      \".strip()"
      ],
      "execution_count": 13,
      "outputs": [
        {
          "output_type": "execute_result",
          "data": {
            "text/plain": [
              "'문자'"
            ]
          },
          "metadata": {
            "tags": []
          },
          "execution_count": 13
        }
      ]
    },
    {
      "cell_type": "code",
      "metadata": {
        "id": "m2R0JmacdXBC",
        "colab_type": "code",
        "colab": {
          "base_uri": "https://localhost:8080/",
          "height": 34
        },
        "outputId": "144fb2aa-befa-4a8a-e89d-b7ca86b0e73d"
      },
      "source": [
        "# 연산자 in\n",
        "\"가\" in \"가나다라마바\""
      ],
      "execution_count": 14,
      "outputs": [
        {
          "output_type": "execute_result",
          "data": {
            "text/plain": [
              "True"
            ]
          },
          "metadata": {
            "tags": []
          },
          "execution_count": 14
        }
      ]
    },
    {
      "cell_type": "code",
      "metadata": {
        "id": "16iJ_hZ9eAK-",
        "colab_type": "code",
        "colab": {
          "base_uri": "https://localhost:8080/",
          "height": 34
        },
        "outputId": "860f8bbf-5c59-4e42-e3d9-99406c36b07b"
      },
      "source": [
        "\"하\" in \"가나다라마바\""
      ],
      "execution_count": 15,
      "outputs": [
        {
          "output_type": "execute_result",
          "data": {
            "text/plain": [
              "False"
            ]
          },
          "metadata": {
            "tags": []
          },
          "execution_count": 15
        }
      ]
    },
    {
      "cell_type": "code",
      "metadata": {
        "id": "9hwDhAbxeG_G",
        "colab_type": "code",
        "colab": {
          "base_uri": "https://localhost:8080/",
          "height": 34
        },
        "outputId": "a3cb6af3-4c89-4f8a-8204-fdbd97e1dffb"
      },
      "source": [
        "# Split\n",
        "\"10,45,15,48,6,5,8,7,9\".split(\",\")"
      ],
      "execution_count": 19,
      "outputs": [
        {
          "output_type": "execute_result",
          "data": {
            "text/plain": [
              "['10', '45', '15', '48', '6', '5', '8', '7', '9']"
            ]
          },
          "metadata": {
            "tags": []
          },
          "execution_count": 19
        }
      ]
    },
    {
      "cell_type": "code",
      "metadata": {
        "id": "YbuwZGqXeh79",
        "colab_type": "code",
        "colab": {}
      },
      "source": [
        "# 함수들은 대부분 자기 자신을 변경하지 않는다.\n",
        "a = \"hello\"\n",
        "a.upper() # HELLO로 출력하지만 a는 그대로 hello이다.\n",
        "b = a.upper() # 이렇게 다른 변수로 저장을 해줘서 사용하는게 낫다"
      ],
      "execution_count": 0,
      "outputs": []
    }
  ]
}