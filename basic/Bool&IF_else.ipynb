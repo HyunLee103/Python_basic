{
  "nbformat": 4,
  "nbformat_minor": 0,
  "metadata": {
    "colab": {
      "name": "Bool&IF_else.ipynb",
      "provenance": [],
      "authorship_tag": "ABX9TyPoFZZj4NxGKvgL2YcqSskO",
      "include_colab_link": true
    },
    "kernelspec": {
      "name": "python3",
      "display_name": "Python 3"
    }
  },
  "cells": [
    {
      "cell_type": "markdown",
      "metadata": {
        "id": "view-in-github",
        "colab_type": "text"
      },
      "source": [
        "<a href=\"https://colab.research.google.com/github/HyunLee103/Python_basic/blob/master/Bool%26IF_else.ipynb\" target=\"_parent\"><img src=\"https://colab.research.google.com/assets/colab-badge.svg\" alt=\"Open In Colab\"/></a>"
      ]
    },
    {
      "cell_type": "markdown",
      "metadata": {
        "id": "dUASYnTooeHN",
        "colab_type": "text"
      },
      "source": [
        "**혼공파 13-16강**"
      ]
    },
    {
      "cell_type": "markdown",
      "metadata": {
        "id": "ss8hG8NLp3No",
        "colab_type": "text"
      },
      "source": [
        "**bool은 true, false 값을 가지는 변수 타입**"
      ]
    },
    {
      "cell_type": "code",
      "metadata": {
        "id": "bOL-r5_sohd0",
        "colab_type": "code",
        "colab": {
          "base_uri": "https://localhost:8080/",
          "height": 70
        },
        "outputId": "a1339769-84ce-4a78-eaaa-3beea266bc1c"
      },
      "source": [
        "print(10 == 100)\n",
        "print(10 != 15)\n",
        "print(10 < 100)"
      ],
      "execution_count": 1,
      "outputs": [
        {
          "output_type": "stream",
          "text": [
            "False\n",
            "True\n",
            "True\n"
          ],
          "name": "stdout"
        }
      ]
    },
    {
      "cell_type": "code",
      "metadata": {
        "id": "-pwGkI-NpzSW",
        "colab_type": "code",
        "colab": {
          "base_uri": "https://localhost:8080/",
          "height": 34
        },
        "outputId": "f978055e-09c4-463f-db09-f988992812a8"
      },
      "source": [
        "not True # False\n",
        "not False # True\n",
        "\n",
        "True and True # 두 bool이 모두 True일때만 True 출력\n",
        "True or True # 두 bool 중 하나만 True여도 True 출력"
      ],
      "execution_count": 2,
      "outputs": [
        {
          "output_type": "execute_result",
          "data": {
            "text/plain": [
              "True"
            ]
          },
          "metadata": {
            "tags": []
          },
          "execution_count": 2
        }
      ]
    },
    {
      "cell_type": "markdown",
      "metadata": {
        "id": "bMpV-595rLnH",
        "colab_type": "text"
      },
      "source": [
        "**IF 문**"
      ]
    },
    {
      "cell_type": "code",
      "metadata": {
        "id": "j3LA7VeKqpzr",
        "colab_type": "code",
        "colab": {
          "base_uri": "https://localhost:8080/",
          "height": 52
        },
        "outputId": "c23b242c-f1f5-4046-98da-4523f6269024"
      },
      "source": [
        "num = input(\"정수 :\")\n",
        "num = int(num)\n",
        "\n",
        "if num > 0:\n",
        "  print(\"양수\")\n",
        "if num < 0:\n",
        "  print(\"음수\")\n",
        "if num == 0:\n",
        "  print(\"0\")"
      ],
      "execution_count": 3,
      "outputs": [
        {
          "output_type": "stream",
          "text": [
            "정수 :15\n",
            "양수\n"
          ],
          "name": "stdout"
        }
      ]
    },
    {
      "cell_type": "code",
      "metadata": {
        "id": "RtUXgkb-r2ww",
        "colab_type": "code",
        "colab": {}
      },
      "source": [
        "import datetime"
      ],
      "execution_count": 0,
      "outputs": []
    },
    {
      "cell_type": "code",
      "metadata": {
        "id": "kgH-j729r6Qn",
        "colab_type": "code",
        "colab": {
          "base_uri": "https://localhost:8080/",
          "height": 34
        },
        "outputId": "f74a6607-729e-4dd1-e135-85b0ca11ada7"
      },
      "source": [
        "now = datetime.datetime.now() # 현재 시간 가져오는 코드(GMT)\n",
        "\n",
        "if now.hour < 12:\n",
        "  print(\"현재 시간은 오전 {}시 {}분 입니다\".format(now.hour, now.minute))\n",
        "if now.hour > 12:\n",
        "  print(\"현재 시간은 오후 {}시 {}분 {}초 입니다\".format(now.hour, now.minute,now.second))\n"
      ],
      "execution_count": 11,
      "outputs": [
        {
          "output_type": "stream",
          "text": [
            "현재 시간은 오후 13시 38분 14초 입니다\n"
          ],
          "name": "stdout"
        }
      ]
    },
    {
      "cell_type": "code",
      "metadata": {
        "id": "9afUrg2WtMil",
        "colab_type": "code",
        "colab": {
          "base_uri": "https://localhost:8080/",
          "height": 34
        },
        "outputId": "d82e774f-99af-4484-e064-43e719585ca4"
      },
      "source": [
        "if 3 <= now.month <= 5:\n",
        "  print(\"현재는 {}월, 봄입니다\".format(now.month))\n",
        "if now.month == 12 or 1<= now.month <= 2:\n",
        "  print(\"현재는 {}월, 겨울 입니다\".format(now.month))"
      ],
      "execution_count": 13,
      "outputs": [
        {
          "output_type": "stream",
          "text": [
            "현재는 4월, 봄입니다\n"
          ],
          "name": "stdout"
        }
      ]
    },
    {
      "cell_type": "code",
      "metadata": {
        "id": "HZks3JcQtPu-",
        "colab_type": "code",
        "colab": {
          "base_uri": "https://localhost:8080/",
          "height": 52
        },
        "outputId": "f14285ca-505c-4757-e0cb-baf4ad726197"
      },
      "source": [
        "num = input(\"정수 입력 : \")\n",
        "num = float(num)\n",
        "\n",
        "if num % 2 == 0:\n",
        "  print(\"{}은 짝수입니다\".format(num))\n",
        "else:\n",
        "  print(\"{}은 홀수입니다\".format(num))"
      ],
      "execution_count": 17,
      "outputs": [
        {
          "output_type": "stream",
          "text": [
            "정수 입력 : 14\n",
            "14.0은 짝수입니다\n"
          ],
          "name": "stdout"
        }
      ]
    },
    {
      "cell_type": "code",
      "metadata": {
        "id": "z91GuJ2-uTjK",
        "colab_type": "code",
        "colab": {
          "base_uri": "https://localhost:8080/",
          "height": 87
        },
        "outputId": "3eb91932-9ca3-40d1-e333-f1a5e7246748"
      },
      "source": [
        "a = input(\"첫번째 숫자 입력 :\")\n",
        "b = input(\"두번째 숫자 입력 :\")\n",
        "\n",
        "a, b = int(a), int(b)\n",
        "\n",
        "if a > b:\n",
        "  print(\"{}가 {}보다 큽니다\".format(a,b))\n",
        "if a == b:\n",
        "  print(\"{}와 {}이 같습니다\".format(a,b))\n",
        "if a < b:\n",
        "  print(\"{}가 {}보다 큽니다\".format(b,a))\n"
      ],
      "execution_count": 18,
      "outputs": [
        {
          "output_type": "stream",
          "text": [
            "ERROR! Session/line number was not unique in database. History logging moved to new session 67\n",
            "첫번째 숫자 입력 :45\n",
            "두번째 숫자 입력 :64\n",
            "64가 45보다 큽니다\n"
          ],
          "name": "stdout"
        }
      ]
    },
    {
      "cell_type": "code",
      "metadata": {
        "id": "7hHR0VX82p2m",
        "colab_type": "code",
        "colab": {}
      },
      "source": [
        ""
      ],
      "execution_count": 0,
      "outputs": []
    }
  ]
}