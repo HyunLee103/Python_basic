{
  "nbformat": 4,
  "nbformat_minor": 0,
  "metadata": {
    "colab": {
      "name": "Loop.ipynb",
      "provenance": [],
      "authorship_tag": "ABX9TyMpMHm7W8L9nxhxG2VSPlCU",
      "include_colab_link": true
    },
    "kernelspec": {
      "name": "python3",
      "display_name": "Python 3"
    }
  },
  "cells": [
    {
      "cell_type": "markdown",
      "metadata": {
        "id": "view-in-github",
        "colab_type": "text"
      },
      "source": [
        "<a href=\"https://colab.research.google.com/github/HyunLee103/Python_basic/blob/master/Loop.ipynb\" target=\"_parent\"><img src=\"https://colab.research.google.com/assets/colab-badge.svg\" alt=\"Open In Colab\"/></a>"
      ]
    },
    {
      "cell_type": "markdown",
      "metadata": {
        "id": "LaiLE6IjIpdj",
        "colab_type": "text"
      },
      "source": [
        "# study"
      ]
    },
    {
      "cell_type": "code",
      "metadata": {
        "id": "5_XCWQeV_a4a",
        "colab_type": "code",
        "outputId": "533cb410-7eed-4b87-df25-6e2ee92e3c41",
        "colab": {
          "base_uri": "https://localhost:8080/",
          "height": 194
        }
      },
      "source": [
        "for i in range(10):\n",
        "  print(i,\"안녕\")"
      ],
      "execution_count": 0,
      "outputs": [
        {
          "output_type": "stream",
          "text": [
            "0 안녕\n",
            "1 안녕\n",
            "2 안녕\n",
            "3 안녕\n",
            "4 안녕\n",
            "5 안녕\n",
            "6 안녕\n",
            "7 안녕\n",
            "8 안녕\n",
            "9 안녕\n"
          ],
          "name": "stdout"
        }
      ]
    },
    {
      "cell_type": "code",
      "metadata": {
        "id": "39R-6MIk_2x9",
        "colab_type": "code",
        "outputId": "f62bdbc5-b146-4014-e6f3-cfea30c5f840",
        "colab": {
          "base_uri": "https://localhost:8080/",
          "height": 70
        }
      },
      "source": [
        "# while은 조건을 걸수있고, 무한 loop에 용이하다.\n",
        "i = 0\n",
        "while i < 3:\n",
        "  print(\"안녕\")\n",
        "  i = i+1"
      ],
      "execution_count": 0,
      "outputs": [
        {
          "output_type": "stream",
          "text": [
            "안녕\n",
            "안녕\n",
            "안녕\n"
          ],
          "name": "stdout"
        }
      ]
    },
    {
      "cell_type": "code",
      "metadata": {
        "id": "_A1lfsGcAQ54",
        "colab_type": "code",
        "outputId": "b0acc52f-b39f-423a-fb2c-ada6c3ace0a5",
        "colab": {
          "base_uri": "https://localhost:8080/",
          "height": 123
        }
      },
      "source": [
        "i = 0\n",
        "while True:\n",
        "  print(i)\n",
        "  print(\"무한루프\")\n",
        "  i = i + 1\n",
        "\n",
        "  if i > 2:\n",
        "    break\n",
        "    "
      ],
      "execution_count": 0,
      "outputs": [
        {
          "output_type": "stream",
          "text": [
            "0\n",
            "무한루프\n",
            "1\n",
            "무한루프\n",
            "2\n",
            "무한루프\n"
          ],
          "name": "stdout"
        }
      ]
    },
    {
      "cell_type": "code",
      "metadata": {
        "id": "_EJI_sDJBITa",
        "colab_type": "code",
        "outputId": "db084d43-e560-4106-dcf5-e6fbee78eea9",
        "colab": {
          "base_uri": "https://localhost:8080/",
          "height": 158
        }
      },
      "source": [
        "for i in range(3):\n",
        "  print(i)\n",
        "  print(\"무한루프\")\n",
        "\n",
        "  if i == 1:\n",
        "    continue  \n",
        "\n",
        "  print(\"bottom of continue\")"
      ],
      "execution_count": 0,
      "outputs": [
        {
          "output_type": "stream",
          "text": [
            "0\n",
            "무한루프\n",
            "bottom of continue\n",
            "1\n",
            "무한루프\n",
            "2\n",
            "무한루프\n",
            "bottom of continue\n"
          ],
          "name": "stdout"
        }
      ]
    },
    {
      "cell_type": "markdown",
      "metadata": {
        "id": "C8QsELeeE4iX",
        "colab_type": "text"
      },
      "source": [
        "# **Practice**\n",
        "##### 백준 3,4 단계(for,while)\n",
        "##### 괄호 안은 문제 번호"
      ]
    },
    {
      "cell_type": "markdown",
      "metadata": {
        "id": "QcU6N7hOH93E",
        "colab_type": "text"
      },
      "source": [
        "####**구구단 (2739)**"
      ]
    },
    {
      "cell_type": "code",
      "metadata": {
        "id": "FGphqshJBsyM",
        "colab_type": "code",
        "colab": {}
      },
      "source": [
        "def gugu(num):\n",
        "  for i in range(9):\n",
        "    i = i+1\n",
        "    result = num * i\n",
        "    print(\"%d * %d = %d\" %(num,i,result))"
      ],
      "execution_count": 0,
      "outputs": []
    },
    {
      "cell_type": "code",
      "metadata": {
        "id": "KP5YnHniFnZz",
        "colab_type": "code",
        "outputId": "5e25bb62-9c8a-48a0-df53-54c33b2fb612",
        "colab": {
          "base_uri": "https://localhost:8080/",
          "height": 176
        }
      },
      "source": [
        "gugu(2)"
      ],
      "execution_count": 0,
      "outputs": [
        {
          "output_type": "stream",
          "text": [
            "2 * 1 = 2\n",
            "2 * 2 = 4\n",
            "2 * 3 = 6\n",
            "2 * 4 = 8\n",
            "2 * 5 = 10\n",
            "2 * 6 = 12\n",
            "2 * 7 = 14\n",
            "2 * 8 = 16\n",
            "2 * 9 = 18\n"
          ],
          "name": "stdout"
        }
      ]
    },
    {
      "cell_type": "markdown",
      "metadata": {
        "id": "xdh-vf0OIJhI",
        "colab_type": "text"
      },
      "source": [
        "####**A+B  (10950)**"
      ]
    },
    {
      "cell_type": "code",
      "metadata": {
        "id": "fTNC0tXZFqBc",
        "colab_type": "code",
        "outputId": "f8278ea8-48d8-4b9d-bcaf-7eb8acc33ff7",
        "colab": {
          "base_uri": "https://localhost:8080/",
          "height": 34
        }
      },
      "source": [
        "def AsumB(a, b):\n",
        "  print(len(a))\n",
        "  for i in range(len(a)):\n",
        "    result = a[i] + b[i]\n",
        "    print(\"%d \" %result)"
      ],
      "execution_count": 0,
      "outputs": [
        {
          "output_type": "stream",
          "text": [
            "ERROR! Session/line number was not unique in database. History logging moved to new session 63\n"
          ],
          "name": "stdout"
        }
      ]
    },
    {
      "cell_type": "code",
      "metadata": {
        "id": "ta7F4dKgHp_w",
        "colab_type": "code",
        "outputId": "020d20e3-afb3-4b80-e538-01da6cbb1838",
        "colab": {
          "base_uri": "https://localhost:8080/",
          "height": 141
        }
      },
      "source": [
        "a = [1,5,4,8,9,6]\n",
        "b = [8,9,7,4,6,3]\n",
        "AsumB(a,b)"
      ],
      "execution_count": 0,
      "outputs": [
        {
          "output_type": "stream",
          "text": [
            "6\n",
            "9 \n",
            "14 \n",
            "11 \n",
            "12 \n",
            "15 \n",
            "9 \n"
          ],
          "name": "stdout"
        }
      ]
    },
    {
      "cell_type": "markdown",
      "metadata": {
        "id": "6JDE7yZ9IcfN",
        "colab_type": "text"
      },
      "source": [
        "####**N까지 합 (8393)**"
      ]
    },
    {
      "cell_type": "code",
      "metadata": {
        "id": "GSdeABI4H2TC",
        "colab_type": "code",
        "colab": {}
      },
      "source": [
        "def allsum(n):\n",
        "  result = 0\n",
        "  for i in range(n):\n",
        "    i = i+1\n",
        "    result = result + i\n",
        "  return result "
      ],
      "execution_count": 0,
      "outputs": []
    },
    {
      "cell_type": "code",
      "metadata": {
        "id": "LCeDMWdpJEMs",
        "colab_type": "code",
        "outputId": "53a1be89-bee4-48e1-dab8-494ea3f4b543",
        "colab": {
          "base_uri": "https://localhost:8080/",
          "height": 34
        }
      },
      "source": [
        "allsum(100)"
      ],
      "execution_count": 0,
      "outputs": [
        {
          "output_type": "execute_result",
          "data": {
            "text/plain": [
              "5050"
            ]
          },
          "metadata": {
            "tags": []
          },
          "execution_count": 27
        }
      ]
    },
    {
      "cell_type": "markdown",
      "metadata": {
        "id": "sOlvKZeXKKlA",
        "colab_type": "text"
      },
      "source": [
        "####**N 출력(2741)**"
      ]
    },
    {
      "cell_type": "code",
      "metadata": {
        "id": "18cvu358JF0J",
        "colab_type": "code",
        "colab": {}
      },
      "source": [
        "def printnum(n):\n",
        "  for i in range(n):\n",
        "    i = i + 1\n",
        "    print(\"%d\" %i)"
      ],
      "execution_count": 0,
      "outputs": []
    },
    {
      "cell_type": "code",
      "metadata": {
        "id": "w6XeoAsFK5Nx",
        "colab_type": "code",
        "outputId": "70782c61-2bce-422e-964b-827f2b0eafc6",
        "colab": {
          "base_uri": "https://localhost:8080/",
          "height": 105
        }
      },
      "source": [
        "printnum(5)"
      ],
      "execution_count": 0,
      "outputs": [
        {
          "output_type": "stream",
          "text": [
            "1\n",
            "2\n",
            "3\n",
            "4\n",
            "5\n"
          ],
          "name": "stdout"
        }
      ]
    },
    {
      "cell_type": "markdown",
      "metadata": {
        "id": "h_c3frbNLDk6",
        "colab_type": "text"
      },
      "source": [
        "####**N 출력 역방향 (2742)**"
      ]
    },
    {
      "cell_type": "code",
      "metadata": {
        "id": "KFPqLAufK6rk",
        "colab_type": "code",
        "colab": {}
      },
      "source": [
        "def iprintnum(n):\n",
        "  for i in range(n):\n",
        "    a = n-i\n",
        "    print(\"%d\" %a)"
      ],
      "execution_count": 0,
      "outputs": []
    },
    {
      "cell_type": "code",
      "metadata": {
        "id": "OwzvJuKaLqtg",
        "colab_type": "code",
        "outputId": "b6beac75-3a12-43f8-c156-afb577d4efc9",
        "colab": {
          "base_uri": "https://localhost:8080/",
          "height": 105
        }
      },
      "source": [
        "iprintnum(5)"
      ],
      "execution_count": 0,
      "outputs": [
        {
          "output_type": "stream",
          "text": [
            "5\n",
            "4\n",
            "3\n",
            "2\n",
            "1\n"
          ],
          "name": "stdout"
        }
      ]
    },
    {
      "cell_type": "markdown",
      "metadata": {
        "id": "tJn_aZFjMApL",
        "colab_type": "text"
      },
      "source": [
        "####**A+B adv (11021)**"
      ]
    },
    {
      "cell_type": "code",
      "metadata": {
        "id": "HqSlAs2ULsWt",
        "colab_type": "code",
        "colab": {}
      },
      "source": [
        "def asumb(a ,b):\n",
        "  if len(a)==len(b):\n",
        "    for i in range(len(a)):\n",
        "      result = a[i] + b[i]\n",
        "      print(\"Case # %d : %d\" %(i+1,result))\n",
        "  else:\n",
        "    print(\"a,b 길이를 맞추세요!\")"
      ],
      "execution_count": 0,
      "outputs": []
    },
    {
      "cell_type": "code",
      "metadata": {
        "id": "oT1_bYm0Nf27",
        "colab_type": "code",
        "outputId": "555d7a2b-c30e-48f1-cbc8-e5548e56fd39",
        "colab": {
          "base_uri": "https://localhost:8080/",
          "height": 158
        }
      },
      "source": [
        "a = [52,6,8,9,7,6,3,1]\n",
        "b = [1,3,5,6,9,8,9,63]\n",
        "asumb(a,b)"
      ],
      "execution_count": 0,
      "outputs": [
        {
          "output_type": "stream",
          "text": [
            "Case # 1 : 53\n",
            "Case # 2 : 9\n",
            "Case # 3 : 13\n",
            "Case # 4 : 15\n",
            "Case # 5 : 16\n",
            "Case # 6 : 14\n",
            "Case # 7 : 12\n",
            "Case # 8 : 64\n"
          ],
          "name": "stdout"
        }
      ]
    },
    {
      "cell_type": "markdown",
      "metadata": {
        "id": "tTL2ynXbOaRf",
        "colab_type": "text"
      },
      "source": [
        "####**A+B adv2 (11022)**"
      ]
    },
    {
      "cell_type": "code",
      "metadata": {
        "id": "ZjGo3aMvOCO9",
        "colab_type": "code",
        "colab": {}
      },
      "source": [
        "def asumb2(a ,b):\n",
        "  if len(a)==len(b):\n",
        "    for i in range(len(a)):\n",
        "      result = a[i] + b[i]\n",
        "      print(\"Case # %d : %d + %d = %d\" %(i+1,a[i],b[i],result))\n",
        "  else:\n",
        "    print(\"a,b 길이를 맞추세요!\")"
      ],
      "execution_count": 0,
      "outputs": []
    },
    {
      "cell_type": "code",
      "metadata": {
        "id": "S10j76r3O-yR",
        "colab_type": "code",
        "outputId": "d8cd3ec1-42dd-4278-a814-8961c49686ec",
        "colab": {
          "base_uri": "https://localhost:8080/",
          "height": 158
        }
      },
      "source": [
        "asumb2(a,b)"
      ],
      "execution_count": 0,
      "outputs": [
        {
          "output_type": "stream",
          "text": [
            "Case # 1 : 52 + 1 = 53\n",
            "Case # 2 : 6 + 3 = 9\n",
            "Case # 3 : 8 + 5 = 13\n",
            "Case # 4 : 9 + 6 = 15\n",
            "Case # 5 : 7 + 9 = 16\n",
            "Case # 6 : 6 + 8 = 14\n",
            "Case # 7 : 3 + 9 = 12\n",
            "Case # 8 : 1 + 63 = 64\n"
          ],
          "name": "stdout"
        }
      ]
    },
    {
      "cell_type": "markdown",
      "metadata": {
        "id": "cML3mIiGPJKM",
        "colab_type": "text"
      },
      "source": [
        "#### **별 찍기1**"
      ]
    },
    {
      "cell_type": "code",
      "metadata": {
        "id": "RZpgBHuTPA8b",
        "colab_type": "code",
        "colab": {}
      },
      "source": [
        "def star(n):\n",
        "  for i in range(1,n+1):\n",
        "    for _ in range(i): # _를 쓰면 그냥 루프를 돌린다. j로 줘도 되지만, 그 인덱스 값이 필요가 없으므로 _로 선언\n",
        "      print(\"*\", end = '')\n",
        "    print() # 파이썬 print는 디폴트로 줄을 바꾼다"
      ],
      "execution_count": 0,
      "outputs": []
    },
    {
      "cell_type": "code",
      "metadata": {
        "id": "9if7jkLPQuO0",
        "colab_type": "code",
        "outputId": "a448727e-8a13-42f9-d4a3-6f703da267f9",
        "colab": {
          "base_uri": "https://localhost:8080/",
          "height": 105
        }
      },
      "source": [
        "star(5)"
      ],
      "execution_count": 0,
      "outputs": [
        {
          "output_type": "stream",
          "text": [
            "*\n",
            "**\n",
            "***\n",
            "****\n",
            "*****\n"
          ],
          "name": "stdout"
        }
      ]
    },
    {
      "cell_type": "code",
      "metadata": {
        "id": "tF2Oa1v-QvnS",
        "colab_type": "code",
        "outputId": "cf31be5b-6729-461b-e419-1be8d3013a54",
        "colab": {
          "base_uri": "https://localhost:8080/",
          "height": 34
        }
      },
      "source": [
        "def star2(n):\n",
        "  for i in range(1, n+1):\n",
        "    a = \"*\"*i\n",
        "    print(a)"
      ],
      "execution_count": 0,
      "outputs": [
        {
          "output_type": "stream",
          "text": [
            "ERROR! Session/line number was not unique in database. History logging moved to new session 59\n"
          ],
          "name": "stdout"
        }
      ]
    },
    {
      "cell_type": "code",
      "metadata": {
        "id": "9aQb9dmNRTrk",
        "colab_type": "code",
        "outputId": "f2274e02-d10b-4f31-db67-f5bc6673934d",
        "colab": {
          "base_uri": "https://localhost:8080/",
          "height": 123
        }
      },
      "source": [
        "star2(6)"
      ],
      "execution_count": 0,
      "outputs": [
        {
          "output_type": "stream",
          "text": [
            "*\n",
            "**\n",
            "***\n",
            "****\n",
            "*****\n",
            "******\n"
          ],
          "name": "stdout"
        }
      ]
    },
    {
      "cell_type": "code",
      "metadata": {
        "id": "uL6tN50IRXN3",
        "colab_type": "code",
        "colab": {}
      },
      "source": [
        "score = {\"철수\":50, \"영미\":40}\n"
      ],
      "execution_count": 0,
      "outputs": []
    },
    {
      "cell_type": "code",
      "metadata": {
        "id": "vYaVwLyRSGGQ",
        "colab_type": "code",
        "outputId": "751de4fa-eecf-4d26-ee5a-a42481fd0c50",
        "colab": {
          "base_uri": "https://localhost:8080/",
          "height": 34
        }
      },
      "source": [
        "{n:s+10 for n, s in score.items()}"
      ],
      "execution_count": 0,
      "outputs": [
        {
          "output_type": "execute_result",
          "data": {
            "text/plain": [
              "{'영미': 50, '철수': 60}"
            ]
          },
          "metadata": {
            "tags": []
          },
          "execution_count": 24
        }
      ]
    },
    {
      "cell_type": "markdown",
      "metadata": {
        "id": "viwWhogPRbLc",
        "colab_type": "text"
      },
      "source": [
        "#### **X보다 작은수**"
      ]
    },
    {
      "cell_type": "code",
      "metadata": {
        "id": "I1A8SLI6RfVz",
        "colab_type": "code",
        "colab": {}
      },
      "source": [
        "def SthanX(A, X):\n",
        "  for i in range(len(A)):\n",
        "    if A[i] < X:\n",
        "      print(A[i])"
      ],
      "execution_count": 0,
      "outputs": []
    },
    {
      "cell_type": "code",
      "metadata": {
        "id": "qRBRl36IStHy",
        "colab_type": "code",
        "outputId": "345d0962-a9e5-4982-84e8-a0a298442197",
        "colab": {
          "base_uri": "https://localhost:8080/",
          "height": 87
        }
      },
      "source": [
        "A = [4,9,7,6,1,3,5,4,9,6]\n",
        "X = 5\n",
        "SthanX(A,X)"
      ],
      "execution_count": 0,
      "outputs": [
        {
          "output_type": "stream",
          "text": [
            "4\n",
            "1\n",
            "3\n",
            "4\n"
          ],
          "name": "stdout"
        }
      ]
    },
    {
      "cell_type": "markdown",
      "metadata": {
        "id": "w-0MVAoBTMQs",
        "colab_type": "text"
      },
      "source": [
        ""
      ]
    },
    {
      "cell_type": "code",
      "metadata": {
        "id": "rg16oEJOSzEl",
        "colab_type": "code",
        "colab": {}
      },
      "source": [
        "def \n",
        "i = 0 \n",
        "while "
      ],
      "execution_count": 0,
      "outputs": []
    }
  ]
}