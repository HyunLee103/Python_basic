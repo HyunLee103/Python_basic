{
  "nbformat": 4,
  "nbformat_minor": 0,
  "metadata": {
    "colab": {
      "name": "coding_dojang#38~40.ipynb",
      "provenance": [],
      "authorship_tag": "ABX9TyNCM8TTEH7qmdEtCzl0UZMw",
      "include_colab_link": true
    },
    "kernelspec": {
      "name": "python3",
      "display_name": "Python 3"
    }
  },
  "cells": [
    {
      "cell_type": "markdown",
      "metadata": {
        "id": "view-in-github",
        "colab_type": "text"
      },
      "source": [
        "<a href=\"https://colab.research.google.com/github/HyunLee103/Python_basic/blob/master/coding_dojang_38~40.ipynb\" target=\"_parent\"><img src=\"https://colab.research.google.com/assets/colab-badge.svg\" alt=\"Open In Colab\"/></a>"
      ]
    },
    {
      "cell_type": "markdown",
      "metadata": {
        "id": "Tb1CVeRT7MB8",
        "colab_type": "text"
      },
      "source": [
        "# #38 예외처리"
      ]
    },
    {
      "cell_type": "markdown",
      "metadata": {
        "id": "kuSIO29uQDYv",
        "colab_type": "text"
      },
      "source": [
        "## try except, else finally"
      ]
    },
    {
      "cell_type": "code",
      "metadata": {
        "id": "poDFvliL7B-J",
        "colab_type": "code",
        "colab": {}
      },
      "source": [
        "def ten_div(x):\n",
        "    return 10/x"
      ],
      "execution_count": 0,
      "outputs": []
    },
    {
      "cell_type": "code",
      "metadata": {
        "id": "ayF7QF1FG_G5",
        "colab_type": "code",
        "outputId": "40bd92e6-804a-4aad-8597-89b5eab4fa8f",
        "colab": {
          "base_uri": "https://localhost:8080/",
          "height": 37
        }
      },
      "source": [
        "ten_div(2)"
      ],
      "execution_count": 0,
      "outputs": [
        {
          "output_type": "execute_result",
          "data": {
            "text/plain": [
              "5.0"
            ]
          },
          "metadata": {
            "tags": []
          },
          "execution_count": 2
        }
      ]
    },
    {
      "cell_type": "code",
      "metadata": {
        "id": "WxUf1AOIHCyb",
        "colab_type": "code",
        "outputId": "132c6962-5188-46f3-9911-836f93144e57",
        "colab": {
          "base_uri": "https://localhost:8080/",
          "height": 58
        }
      },
      "source": [
        "try:\n",
        "    x = int(input('나눌 숫자를 입력하세요: '))\n",
        "    y = 10/x\n",
        "    print(y)\n",
        "except:\n",
        "    print('예외 발생')"
      ],
      "execution_count": 0,
      "outputs": [
        {
          "output_type": "stream",
          "text": [
            "나눌 숫자를 입력하세요: 5\n",
            "2.0\n"
          ],
          "name": "stdout"
        }
      ]
    },
    {
      "cell_type": "code",
      "metadata": {
        "id": "hvo8-Kx4H-1D",
        "colab_type": "code",
        "outputId": "ad15b868-6b81-461c-c2a5-ec19ca1e35fd",
        "colab": {
          "base_uri": "https://localhost:8080/",
          "height": 58
        }
      },
      "source": [
        "y = [10,20,30]\n",
        "\n",
        "try:\n",
        "    index, x = map(int, input('인덱스와 나눌 숫자 입력:').split())\n",
        "    print(y[index]/x)\n",
        "except ZeroDivisionError: # 숫자를 0으로 나눴을때 에러 출력\n",
        "    print('0으로 나눌수 없음')\n",
        "\n",
        "except IndexError: # 범위를 넘어선 인덱스 접근일때 에러 출력\n",
        "    print('잘못된 인덱스')"
      ],
      "execution_count": 0,
      "outputs": [
        {
          "output_type": "stream",
          "text": [
            "인덱스와 나눌 숫자 입력:2 0\n",
            "0으로 나눌수 없음\n"
          ],
          "name": "stdout"
        }
      ]
    },
    {
      "cell_type": "code",
      "metadata": {
        "id": "8hvDnq86KeMf",
        "colab_type": "code",
        "outputId": "adda136a-cd7d-49ae-b8ea-2654b96098c0",
        "colab": {
          "base_uri": "https://localhost:8080/",
          "height": 58
        }
      },
      "source": [
        "try:\n",
        "    x = int(input('나눌 숫자 입력:'))\n",
        "    y = 10/x\n",
        "except ZeroDivisionError:\n",
        "    print('0으로 나눌 수 없음')\n",
        "else:\n",
        "    print(y)"
      ],
      "execution_count": 0,
      "outputs": [
        {
          "output_type": "stream",
          "text": [
            "나눌 숫자 입력:2\n",
            "5.0\n"
          ],
          "name": "stdout"
        }
      ]
    },
    {
      "cell_type": "code",
      "metadata": {
        "id": "_vtyJLdQLKnZ",
        "colab_type": "code",
        "outputId": "e40e1942-4560-4013-d47a-8ef60a86f5f4",
        "colab": {
          "base_uri": "https://localhost:8080/",
          "height": 80
        }
      },
      "source": [
        "try:\n",
        "    x = int(input('나눌 숫자를 입력하세요:'))\n",
        "    y = 10/x\n",
        "except ZeroDivisionError:\n",
        "    print('0으로 나눌 수 없음')\n",
        "else:\n",
        "    print(y)\n",
        "finally:\n",
        "    print('코드 실행 끝')"
      ],
      "execution_count": 0,
      "outputs": [
        {
          "output_type": "stream",
          "text": [
            "나눌 숫자를 입력하세요:0\n",
            "0으로 나눌 수 없음\n",
            "코드 실행 끝\n"
          ],
          "name": "stdout"
        }
      ]
    },
    {
      "cell_type": "markdown",
      "metadata": {
        "id": "Pd-FGeTcQAhn",
        "colab_type": "text"
      },
      "source": [
        "## 예외 발생 (raise)"
      ]
    },
    {
      "cell_type": "code",
      "metadata": {
        "id": "b2HDdCrKLd9q",
        "colab_type": "code",
        "outputId": "8d55f864-db4c-4c66-9508-dd27d57382b0",
        "colab": {
          "base_uri": "https://localhost:8080/",
          "height": 58
        }
      },
      "source": [
        "try:\n",
        "    x = int(input('3의 배수 입력:'))\n",
        "    if x % 3 != 0:\n",
        "        raise Exception('3의 배수가 아닙니다')   # ?? Exception의 역할이 뭐지?, RuntimeError 같은것도 사용가능하다는데\n",
        "    print(x)\n",
        "except Exception as e:\n",
        "    print('예외 발생', e)"
      ],
      "execution_count": 0,
      "outputs": [
        {
          "output_type": "stream",
          "text": [
            "3의 배수 입력:5\n",
            "예외 발생 3의 배수가 아닙니다\n"
          ],
          "name": "stdout"
        }
      ]
    },
    {
      "cell_type": "code",
      "metadata": {
        "id": "7QZ5LnxZMXsZ",
        "colab_type": "code",
        "outputId": "a047bf2b-4e84-4635-e877-83279649c477",
        "colab": {
          "base_uri": "https://localhost:8080/",
          "height": 58
        }
      },
      "source": [
        "def three_multiple():\n",
        "    x = int(input('3의 배수 입력:'))\n",
        "    if x%3 != 0:\n",
        "        raise Exception('3의 배수 아님') # 예외 발생\n",
        "    print(x)\n",
        "\n",
        "try:\n",
        "    three_multiple()\n",
        "except Exception as e:   # except로 발생한 예외 처리\n",
        "    print('예외 발생',e)"
      ],
      "execution_count": 0,
      "outputs": [
        {
          "output_type": "stream",
          "text": [
            "3의 배수 입력:5\n",
            "예외 발생 3의 배수 아님\n"
          ],
          "name": "stdout"
        }
      ]
    },
    {
      "cell_type": "code",
      "metadata": {
        "id": "Gl7-sNPnM7Fm",
        "colab_type": "code",
        "outputId": "39dc10dd-7511-44b4-c121-08d3fd9259ce",
        "colab": {
          "base_uri": "https://localhost:8080/",
          "height": 80
        }
      },
      "source": [
        "def three_multiple():\n",
        "    try:\n",
        "        x = int(input('3의 배수 입력:'))\n",
        "        if x % 3 != 0:\n",
        "            raise Exception('3의 배수가 아닙니다')\n",
        "        print(x)\n",
        "    except Exception as e:\n",
        "        print('함수안에서 raise로 발생한 예외를 except로 처리.',e)\n",
        "        raise # except 안에서 raise를 사용하면 현재 예외를 다시 발생시킴\n",
        "\n",
        "try:\n",
        "    three_multiple()\n",
        "except Exception as e:\n",
        "    print('스크립트 파일에서 예외가 발생.',e)"
      ],
      "execution_count": 0,
      "outputs": [
        {
          "output_type": "stream",
          "text": [
            "3의 배수 입력:5\n",
            "함수안에서 raise로 발생한 예외를 except로 처리. 3의 배수가 아닙니다\n",
            "스크립트 파일에서 예외가 발생. 3의 배수가 아닙니다\n"
          ],
          "name": "stdout"
        }
      ]
    },
    {
      "cell_type": "code",
      "metadata": {
        "id": "10rkoDdaOfXA",
        "colab_type": "code",
        "outputId": "e3ce2590-f43b-411e-b5c8-dd116ad2168b",
        "colab": {
          "base_uri": "https://localhost:8080/",
          "height": 261
        }
      },
      "source": [
        "x = int(input('3의 배수 입력 :'))\n",
        "assert x % 3 == 0  # assert 뒤에 조건식이 참이면 그냥 진행, 거짓이면 AssertionError 예외 발생\n",
        "print(X)"
      ],
      "execution_count": 0,
      "outputs": [
        {
          "output_type": "stream",
          "text": [
            "3의 배수 입력 :5\n"
          ],
          "name": "stdout"
        },
        {
          "output_type": "error",
          "ename": "AssertionError",
          "evalue": "ignored",
          "traceback": [
            "\u001b[0;31m---------------------------------------------------------------------------\u001b[0m",
            "\u001b[0;31mAssertionError\u001b[0m                            Traceback (most recent call last)",
            "\u001b[0;32m<ipython-input-14-cfdd621f5a96>\u001b[0m in \u001b[0;36m<module>\u001b[0;34m()\u001b[0m\n\u001b[1;32m      1\u001b[0m \u001b[0mx\u001b[0m \u001b[0;34m=\u001b[0m \u001b[0mint\u001b[0m\u001b[0;34m(\u001b[0m\u001b[0minput\u001b[0m\u001b[0;34m(\u001b[0m\u001b[0;34m'3의 배수 입력 :'\u001b[0m\u001b[0;34m)\u001b[0m\u001b[0;34m)\u001b[0m\u001b[0;34m\u001b[0m\u001b[0;34m\u001b[0m\u001b[0m\n\u001b[0;32m----> 2\u001b[0;31m \u001b[0;32massert\u001b[0m \u001b[0mx\u001b[0m \u001b[0;34m%\u001b[0m \u001b[0;36m3\u001b[0m \u001b[0;34m==\u001b[0m \u001b[0;36m0\u001b[0m  \u001b[0;31m# assert 뒤에 조건식이 참이면 그냥 진행, 거짓이면 AssertionError 예외 발생\u001b[0m\u001b[0;34m\u001b[0m\u001b[0;34m\u001b[0m\u001b[0m\n\u001b[0m\u001b[1;32m      3\u001b[0m \u001b[0mprint\u001b[0m\u001b[0;34m(\u001b[0m\u001b[0mX\u001b[0m\u001b[0;34m)\u001b[0m\u001b[0;34m\u001b[0m\u001b[0;34m\u001b[0m\u001b[0m\n",
            "\u001b[0;31mAssertionError\u001b[0m: "
          ]
        }
      ]
    },
    {
      "cell_type": "markdown",
      "metadata": {
        "id": "rUewV2MaPaB8",
        "colab_type": "text"
      },
      "source": [
        "assert는 디버깅 모드에서만 실행됩니다. 특히 파이썬은 기본적으로 디버깅 모드이며(__debug__의 값이 True) assert가 실행되지 않게 하려면 python에 -O 옵션을 붙여서 실행합니다(영문 대문자 O).\n",
        "\n",
        "python -O 스크립트파일.py\n"
      ]
    },
    {
      "cell_type": "markdown",
      "metadata": {
        "id": "Wn-aQCj9P3rM",
        "colab_type": "text"
      },
      "source": [
        "## 사용자 정의 예외 선언하기"
      ]
    },
    {
      "cell_type": "code",
      "metadata": {
        "id": "HlqL5Ur0PP3x",
        "colab_type": "code",
        "outputId": "22af797c-373b-4bf6-896c-df9783ef2d1d",
        "colab": {
          "base_uri": "https://localhost:8080/",
          "height": 58
        }
      },
      "source": [
        "class NotThreeMultipleError(Exception):\n",
        "    def __init__(self):\n",
        "        super().__init__('3의 배수가 아닙니다.')\n",
        "\n",
        "\n",
        "def three_multiple():\n",
        "    try:\n",
        "        x = int(input('3의 배수를 입력 :'))\n",
        "        if x%3 != 0:\n",
        "            raise NotThreeMultipleError\n",
        "        print(x)\n",
        "    except Exception as e:\n",
        "        print('예외가 발생했습니다.',e)\n",
        "\n",
        "three_multiple()"
      ],
      "execution_count": 0,
      "outputs": [
        {
          "output_type": "stream",
          "text": [
            "3의 배수를 입력 :5\n",
            "예외가 발생했습니다. 3의 배수가 아닙니다.\n"
          ],
          "name": "stdout"
        }
      ]
    },
    {
      "cell_type": "markdown",
      "metadata": {
        "id": "Fq96W7IBSWf7",
        "colab_type": "text"
      },
      "source": [
        "## practice??"
      ]
    },
    {
      "cell_type": "code",
      "metadata": {
        "id": "0eTEjrkVRZez",
        "colab_type": "code",
        "colab": {}
      },
      "source": [
        "def palindrome(word):\n",
        "    \n",
        "    for i in range(len(word)):\n",
        "        if word[i] != word[-(i+1)]:\n",
        "            raise NotPalindromeError('회문이 아닙니다')\n",
        "    print(word)\n",
        "    raise"
      ],
      "execution_count": 0,
      "outputs": []
    },
    {
      "cell_type": "code",
      "metadata": {
        "id": "XwcQGJNM9Tqv",
        "colab_type": "code",
        "colab": {}
      },
      "source": [
        "try:\n",
        "    word = input()\n",
        "    palindrome(word)\n",
        "    \n",
        "except NotPalindromeError as e:\n",
        "    print(e)"
      ],
      "execution_count": 0,
      "outputs": []
    },
    {
      "cell_type": "code",
      "metadata": {
        "id": "zDgIk6Vl8hVy",
        "colab_type": "code",
        "colab": {
          "base_uri": "https://localhost:8080/",
          "height": 37
        },
        "outputId": "bb252891-c085-4bcf-9147-b1fddeddc5e9"
      },
      "source": [
        "word = input()"
      ],
      "execution_count": 1,
      "outputs": [
        {
          "output_type": "stream",
          "text": [
            "level\n"
          ],
          "name": "stdout"
        }
      ]
    },
    {
      "cell_type": "code",
      "metadata": {
        "id": "eOZ5OXx08ko8",
        "colab_type": "code",
        "colab": {
          "base_uri": "https://localhost:8080/",
          "height": 37
        },
        "outputId": "a7d122c7-cac3-45f5-e07a-8444970fd7b8"
      },
      "source": [
        "word[2]"
      ],
      "execution_count": 9,
      "outputs": [
        {
          "output_type": "execute_result",
          "data": {
            "text/plain": [
              "'v'"
            ]
          },
          "metadata": {
            "tags": []
          },
          "execution_count": 9
        }
      ]
    },
    {
      "cell_type": "code",
      "metadata": {
        "id": "aMXhxfmW8myo",
        "colab_type": "code",
        "colab": {}
      },
      "source": [
        ""
      ],
      "execution_count": 0,
      "outputs": []
    }
  ]
}