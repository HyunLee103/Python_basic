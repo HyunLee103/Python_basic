{
  "nbformat": 4,
  "nbformat_minor": 0,
  "metadata": {
    "colab": {
      "name": "Function.ipynb",
      "provenance": [],
      "authorship_tag": "ABX9TyNhyYpIhWuOjesOd2KJpHpi",
      "include_colab_link": true
    },
    "kernelspec": {
      "name": "python3",
      "display_name": "Python 3"
    }
  },
  "cells": [
    {
      "cell_type": "markdown",
      "metadata": {
        "id": "view-in-github",
        "colab_type": "text"
      },
      "source": [
        "<a href=\"https://colab.research.google.com/github/HyunLee103/Python_basic/blob/master/Function.ipynb\" target=\"_parent\"><img src=\"https://colab.research.google.com/assets/colab-badge.svg\" alt=\"Open In Colab\"/></a>"
      ]
    },
    {
      "cell_type": "code",
      "metadata": {
        "id": "ZkQk7wqn3UQA",
        "colab_type": "code",
        "colab": {
          "base_uri": "https://localhost:8080/",
          "height": 34
        },
        "outputId": "3c60c20a-f855-4471-fb08-f6ee69bbef74"
      },
      "source": [
        "x = 3 \n",
        "\n",
        "if x > 2:\n",
        "  print(\"hello\")\n",
        "elif x == 3:\n",
        "  print(\"by\")\n",
        "else:\n",
        "  print(\"hi\")"
      ],
      "execution_count": 1,
      "outputs": [
        {
          "output_type": "stream",
          "text": [
            "hello\n"
          ],
          "name": "stdout"
        }
      ]
    },
    {
      "cell_type": "code",
      "metadata": {
        "id": "KrPqfwoy3zTQ",
        "colab_type": "code",
        "colab": {
          "base_uri": "https://localhost:8080/",
          "height": 52
        },
        "outputId": "f4787793-6d12-4202-db4f-c9d54c0e5ae1"
      },
      "source": [
        "def chat(name1, name2):\n",
        "  print(\"%s : 안녕 넌 이름이 뭐니?\" % name1)\n",
        "  print(\"%s : 난 %s야 \" %(name2, name2))\n",
        "\n",
        "chat(\"알렉스\",\"영희\")\n"
      ],
      "execution_count": 2,
      "outputs": [
        {
          "output_type": "stream",
          "text": [
            "알렉스 : 안녕 넌 이름이 뭐니?\n",
            "영희 : 난 영희야 \n"
          ],
          "name": "stdout"
        }
      ]
    },
    {
      "cell_type": "code",
      "metadata": {
        "id": "m57N7DiV7SYB",
        "colab_type": "code",
        "colab": {}
      },
      "source": [
        "def say_hello(name, age):\n",
        "  if age < 10:\n",
        "    print(\"안녕, 내 이름은 %s고 %d살이야!\" %(name,age))\n",
        "  elif 10<=age<=20:\n",
        "    print(\"안녕하세요, 제 이름은 %s이고 %d살입니다\" %(name,age))\n",
        "  else:\n",
        "    print(\"안녕하십니까, 제 이름은 %s이고, %d살입니다.\"%(name,age))\n"
      ],
      "execution_count": 0,
      "outputs": []
    },
    {
      "cell_type": "code",
      "metadata": {
        "id": "PyQAcE2v-6U2",
        "colab_type": "code",
        "colab": {
          "base_uri": "https://localhost:8080/",
          "height": 34
        },
        "outputId": "113bf40a-28f6-4ddd-c9e0-00bc4e4aebd7"
      },
      "source": [
        "say_hello(\"이현\",25)"
      ],
      "execution_count": 5,
      "outputs": [
        {
          "output_type": "stream",
          "text": [
            "안녕하십니까, 제 이름은 이현이고, 25살입니다.\n"
          ],
          "name": "stdout"
        }
      ]
    },
    {
      "cell_type": "code",
      "metadata": {
        "id": "jj4-ANJG-_ZZ",
        "colab_type": "code",
        "colab": {}
      },
      "source": [
        ""
      ],
      "execution_count": 0,
      "outputs": []
    }
  ]
}