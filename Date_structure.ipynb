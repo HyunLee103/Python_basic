{
  "nbformat": 4,
  "nbformat_minor": 0,
  "metadata": {
    "colab": {
      "name": "Date_structure.ipynb",
      "provenance": [],
      "authorship_tag": "ABX9TyPvDoydb4BCyK31ZA7XCuer",
      "include_colab_link": true
    },
    "kernelspec": {
      "name": "python3",
      "display_name": "Python 3"
    }
  },
  "cells": [
    {
      "cell_type": "markdown",
      "metadata": {
        "id": "view-in-github",
        "colab_type": "text"
      },
      "source": [
        "<a href=\"https://colab.research.google.com/github/HyunLee103/Python_basic/blob/master/Date_structure.ipynb\" target=\"_parent\"><img src=\"https://colab.research.google.com/assets/colab-badge.svg\" alt=\"Open In Colab\"/></a>"
      ]
    },
    {
      "cell_type": "markdown",
      "metadata": {
        "id": "OMOX4gEOdErM",
        "colab_type": "text"
      },
      "source": [
        "# Study"
      ]
    },
    {
      "cell_type": "markdown",
      "metadata": {
        "id": "uZ5XB9fjdNgs",
        "colab_type": "text"
      },
      "source": [
        "## List"
      ]
    },
    {
      "cell_type": "code",
      "metadata": {
        "id": "HL5Ay_28c8s5",
        "colab_type": "code",
        "colab": {
          "base_uri": "https://localhost:8080/",
          "height": 34
        },
        "outputId": "0a03facc-ea1a-42eb-ca44-7ec6226aa670"
      },
      "source": [
        "x = [1,2,4,6]\n",
        "y = [\"hello\",\"world\"]\n",
        "\n",
        "print(x+y)"
      ],
      "execution_count": 3,
      "outputs": [
        {
          "output_type": "stream",
          "text": [
            "[1, 2, 4, 6, 'hello', 'world']\n"
          ],
          "name": "stdout"
        }
      ]
    },
    {
      "cell_type": "code",
      "metadata": {
        "id": "5TeEC4yZdbxE",
        "colab_type": "code",
        "colab": {
          "base_uri": "https://localhost:8080/",
          "height": 34
        },
        "outputId": "b0bdc678-2f3c-45ea-8fbb-bc56d4f8c9b4"
      },
      "source": [
        "x[3]=10\n",
        "x"
      ],
      "execution_count": 11,
      "outputs": [
        {
          "output_type": "execute_result",
          "data": {
            "text/plain": [
              "[1, 2, 4, 10]"
            ]
          },
          "metadata": {
            "tags": []
          },
          "execution_count": 11
        }
      ]
    },
    {
      "cell_type": "code",
      "metadata": {
        "id": "nFVaVOJ-dsNA",
        "colab_type": "code",
        "colab": {
          "base_uri": "https://localhost:8080/",
          "height": 34
        },
        "outputId": "756b5eba-c67c-41ea-ffcf-8e3113a4bf72"
      },
      "source": [
        "len(x)"
      ],
      "execution_count": 12,
      "outputs": [
        {
          "output_type": "execute_result",
          "data": {
            "text/plain": [
              "4"
            ]
          },
          "metadata": {
            "tags": []
          },
          "execution_count": 12
        }
      ]
    },
    {
      "cell_type": "code",
      "metadata": {
        "id": "iG8-DHHzd7ZU",
        "colab_type": "code",
        "colab": {
          "base_uri": "https://localhost:8080/",
          "height": 34
        },
        "outputId": "f6991db5-ef9c-485b-b7d2-354396462cbc"
      },
      "source": [
        "sorted(x, reverse=True)"
      ],
      "execution_count": 15,
      "outputs": [
        {
          "output_type": "execute_result",
          "data": {
            "text/plain": [
              "[10, 4, 2, 1]"
            ]
          },
          "metadata": {
            "tags": []
          },
          "execution_count": 15
        }
      ]
    },
    {
      "cell_type": "code",
      "metadata": {
        "id": "lKDL8muaeFkE",
        "colab_type": "code",
        "colab": {
          "base_uri": "https://localhost:8080/",
          "height": 87
        },
        "outputId": "e7946bb2-56f2-4a77-917c-8ce41036bcd7"
      },
      "source": [
        "for n in x:\n",
        "  print(n)"
      ],
      "execution_count": 16,
      "outputs": [
        {
          "output_type": "stream",
          "text": [
            "1\n",
            "2\n",
            "4\n",
            "10\n"
          ],
          "name": "stdout"
        }
      ]
    },
    {
      "cell_type": "code",
      "metadata": {
        "id": "CkMc8HANeVfB",
        "colab_type": "code",
        "colab": {
          "base_uri": "https://localhost:8080/",
          "height": 52
        },
        "outputId": "5f30e706-4c51-4510-8a25-0dc4710c8e33"
      },
      "source": [
        "y = [\"hello\", 'there']\n",
        "for c in y:\n",
        "  print(c)"
      ],
      "execution_count": 17,
      "outputs": [
        {
          "output_type": "stream",
          "text": [
            "hello\n",
            "there\n"
          ],
          "name": "stdout"
        }
      ]
    },
    {
      "cell_type": "code",
      "metadata": {
        "id": "UGvVJF7Cecnv",
        "colab_type": "code",
        "colab": {
          "base_uri": "https://localhost:8080/",
          "height": 34
        },
        "outputId": "51fe1b2b-dc91-413b-fb03-9bb921f9c516"
      },
      "source": [
        "y.index('there') "
      ],
      "execution_count": 20,
      "outputs": [
        {
          "output_type": "execute_result",
          "data": {
            "text/plain": [
              "True"
            ]
          },
          "metadata": {
            "tags": []
          },
          "execution_count": 20
        }
      ]
    },
    {
      "cell_type": "code",
      "metadata": {
        "id": "OeOnyD0aej1D",
        "colab_type": "code",
        "colab": {
          "base_uri": "https://localhost:8080/",
          "height": 34
        },
        "outputId": "3eab41ee-82a8-4798-c233-ba834d55a5cd"
      },
      "source": [
        "if 'hello' in y:\n",
        "  print(\"야야\")"
      ],
      "execution_count": 21,
      "outputs": [
        {
          "output_type": "stream",
          "text": [
            "야야\n"
          ],
          "name": "stdout"
        }
      ]
    },
    {
      "cell_type": "markdown",
      "metadata": {
        "id": "HlEvRq7Ve-Rw",
        "colab_type": "text"
      },
      "source": [
        "## Tuple"
      ]
    },
    {
      "cell_type": "code",
      "metadata": {
        "id": "AH-fCZOQe6z7",
        "colab_type": "code",
        "colab": {
          "base_uri": "https://localhost:8080/",
          "height": 34
        },
        "outputId": "0672d081-3559-4a71-b4ac-fd758bedccb8"
      },
      "source": [
        "x = (1,2,4)\n",
        "y = ('a','b','c')"
      ],
      "execution_count": 23,
      "outputs": [
        {
          "output_type": "execute_result",
          "data": {
            "text/plain": [
              "(1, 2, 4, 'a', 'b', 'c')"
            ]
          },
          "metadata": {
            "tags": []
          },
          "execution_count": 23
        }
      ]
    },
    {
      "cell_type": "code",
      "metadata": {
        "id": "SFjJlKc6fL0H",
        "colab_type": "code",
        "colab": {
          "base_uri": "https://localhost:8080/",
          "height": 70
        },
        "outputId": "d498f2b0-a229-41a9-8251-e7c7222f54d3"
      },
      "source": [
        "print(x+y)\n",
        "print(2 in x)\n",
        "print(y.index('c'))"
      ],
      "execution_count": 24,
      "outputs": [
        {
          "output_type": "stream",
          "text": [
            "(1, 2, 4, 'a', 'b', 'c')\n",
            "True\n",
            "2\n"
          ],
          "name": "stdout"
        }
      ]
    },
    {
      "cell_type": "markdown",
      "metadata": {
        "id": "bds0ct8DfXQi",
        "colab_type": "text"
      },
      "source": [
        "**리스트랑 거의 똑같은데, 튜플은 리스트와 다르게 elements를 바꿀 수 없다 - immutable(불변)**"
      ]
    },
    {
      "cell_type": "markdown",
      "metadata": {
        "id": "6CBztq8pfk4J",
        "colab_type": "text"
      },
      "source": [
        "## Dictionary"
      ]
    },
    {
      "cell_type": "code",
      "metadata": {
        "id": "XiCLN4pLfUep",
        "colab_type": "code",
        "colab": {
          "base_uri": "https://localhost:8080/",
          "height": 34
        },
        "outputId": "7bf9d7b0-b528-4542-d55f-5d2dcf00fa5a"
      },
      "source": [
        "x = {'name':'이현','age':'25'}\n",
        "x"
      ],
      "execution_count": 26,
      "outputs": [
        {
          "output_type": "execute_result",
          "data": {
            "text/plain": [
              "{'age': '25', 'name': '이현'}"
            ]
          },
          "metadata": {
            "tags": []
          },
          "execution_count": 26
        }
      ]
    },
    {
      "cell_type": "markdown",
      "metadata": {
        "id": "z6TYp68kf_G4",
        "colab_type": "text"
      },
      "source": [
        "**딕셔너리 key값에는 immutable 자료만 올 수 있다(리스트는 안됨)**"
      ]
    },
    {
      "cell_type": "code",
      "metadata": {
        "id": "S0W_9XB7f0C3",
        "colab_type": "code",
        "colab": {
          "base_uri": "https://localhost:8080/",
          "height": 34
        },
        "outputId": "ea2d710d-8260-4ffb-dfcb-e044a658008b"
      },
      "source": [
        "'age' in x"
      ],
      "execution_count": 28,
      "outputs": [
        {
          "output_type": "execute_result",
          "data": {
            "text/plain": [
              "True"
            ]
          },
          "metadata": {
            "tags": []
          },
          "execution_count": 28
        }
      ]
    },
    {
      "cell_type": "code",
      "metadata": {
        "id": "qWyHQrEuf3C7",
        "colab_type": "code",
        "colab": {
          "base_uri": "https://localhost:8080/",
          "height": 34
        },
        "outputId": "3972f859-a17c-42de-9f03-a63526c58607"
      },
      "source": [
        "x.keys()"
      ],
      "execution_count": 30,
      "outputs": [
        {
          "output_type": "execute_result",
          "data": {
            "text/plain": [
              "dict_keys(['name', 'age'])"
            ]
          },
          "metadata": {
            "tags": []
          },
          "execution_count": 30
        }
      ]
    },
    {
      "cell_type": "code",
      "metadata": {
        "id": "suJZ4m6OgM_D",
        "colab_type": "code",
        "colab": {
          "base_uri": "https://localhost:8080/",
          "height": 34
        },
        "outputId": "6d079863-4fe5-4d95-a39f-d9f7944a3d0d"
      },
      "source": [
        "x.values()"
      ],
      "execution_count": 32,
      "outputs": [
        {
          "output_type": "execute_result",
          "data": {
            "text/plain": [
              "dict_values(['이현', '25'])"
            ]
          },
          "metadata": {
            "tags": []
          },
          "execution_count": 32
        }
      ]
    },
    {
      "cell_type": "code",
      "metadata": {
        "id": "BHNoNI5NgQxY",
        "colab_type": "code",
        "colab": {
          "base_uri": "https://localhost:8080/",
          "height": 123
        },
        "outputId": "db8bc04d-2e0e-4357-9990-97dda1e2c543"
      },
      "source": [
        "for key in x:\n",
        "  print(\"key : \" + key)\n",
        "  print(\"value : \" + x[key])"
      ],
      "execution_count": 43,
      "outputs": [
        {
          "output_type": "stream",
          "text": [
            "key : name\n",
            "value : 이현\n",
            "key : age\n",
            "value : 25\n",
            "key : school\n",
            "value : 건대\n"
          ],
          "name": "stdout"
        }
      ]
    },
    {
      "cell_type": "code",
      "metadata": {
        "id": "YuHAOWXHghul",
        "colab_type": "code",
        "colab": {
          "base_uri": "https://localhost:8080/",
          "height": 34
        },
        "outputId": "e16de6d8-6245-4c0c-875c-509156c5f1fa"
      },
      "source": [
        "x['school'] = \"건대\"\n",
        "x"
      ],
      "execution_count": 36,
      "outputs": [
        {
          "output_type": "execute_result",
          "data": {
            "text/plain": [
              "{'age': '25', 'name': '이현', 'school': '건대'}"
            ]
          },
          "metadata": {
            "tags": []
          },
          "execution_count": 36
        }
      ]
    },
    {
      "cell_type": "code",
      "metadata": {
        "id": "AbCmi1meg7tM",
        "colab_type": "code",
        "colab": {
          "base_uri": "https://localhost:8080/",
          "height": 34
        },
        "outputId": "019da862-0da6-43f5-fe20-5c546c035834"
      },
      "source": [
        "x.items()"
      ],
      "execution_count": 39,
      "outputs": [
        {
          "output_type": "execute_result",
          "data": {
            "text/plain": [
              "dict_items([('name', '이현'), ('age', '25'), ('school', '건대')])"
            ]
          },
          "metadata": {
            "tags": []
          },
          "execution_count": 39
        }
      ]
    },
    {
      "cell_type": "markdown",
      "metadata": {
        "id": "RCKlaS2Jg57W",
        "colab_type": "text"
      },
      "source": [
        "# Practice "
      ]
    },
    {
      "cell_type": "markdown",
      "metadata": {
        "id": "zAHtfHJouGDL",
        "colab_type": "text"
      },
      "source": [
        "### 리스트 안에 과일 개수 출력 "
      ]
    },
    {
      "cell_type": "code",
      "metadata": {
        "id": "OFh_FHcQgxo6",
        "colab_type": "code",
        "colab": {}
      },
      "source": [
        "\n",
        "fruit = ['사과','사과','바나나','바나나','딸기','키위','복숭아','복숭아','복숭아']"
      ],
      "execution_count": 0,
      "outputs": []
    },
    {
      "cell_type": "code",
      "metadata": {
        "id": "vvsuL7zYhW3E",
        "colab_type": "code",
        "colab": {}
      },
      "source": [
        "def count_fruit(target):\n",
        "  a,b,c,d,e= 0,0,0,0,0\n",
        "  for i in range(len(target)):\n",
        "    if '사과' in target[i]:\n",
        "      a += 1\n",
        "    elif '바나나' in target[i]:\n",
        "      b += 1 \n",
        "    elif '딸기' in target[i]:\n",
        "      c += 1\n",
        "    elif '키위' in target[i]:\n",
        "      d += 1\n",
        "    elif '복숭아' in target[i]:\n",
        "      e += 1\n",
        "  result = {'사과': a ,'바나나' : b,'딸기':c,'키위':d,'복숭아':e}\n",
        "  print(result)"
      ],
      "execution_count": 0,
      "outputs": []
    },
    {
      "cell_type": "code",
      "metadata": {
        "id": "9Q_3qzIPi9ZB",
        "colab_type": "code",
        "colab": {
          "base_uri": "https://localhost:8080/",
          "height": 34
        },
        "outputId": "fa15a2d4-1123-4afb-f8f7-7354689003ad"
      },
      "source": [
        "count_fruit(fruit)"
      ],
      "execution_count": 56,
      "outputs": [
        {
          "output_type": "stream",
          "text": [
            "{'사과': 2, '바나나': 2, '딸기': 1, '키위': 1, '복숭아': 3}\n"
          ],
          "name": "stdout"
        }
      ]
    },
    {
      "cell_type": "code",
      "metadata": {
        "id": "bm-ugPBAkC7k",
        "colab_type": "code",
        "colab": {}
      },
      "source": [
        "def count_fruit2(target2):\n",
        "  d = {}\n",
        "  for f in fruit:\n",
        "    if f in d:\n",
        "      d[f] += 1 \n",
        "    else:\n",
        "      d[f] = 1\n",
        "  print(d)"
      ],
      "execution_count": 0,
      "outputs": []
    },
    {
      "cell_type": "code",
      "metadata": {
        "id": "3-Jr0ZYprDW0",
        "colab_type": "code",
        "colab": {
          "base_uri": "https://localhost:8080/",
          "height": 34
        },
        "outputId": "5160aa3a-e45f-4ad4-86b7-c726cd5baf5b"
      },
      "source": [
        "count_fruit2(fruit)"
      ],
      "execution_count": 58,
      "outputs": [
        {
          "output_type": "stream",
          "text": [
            "{'사과': 2, '바나나': 2, '딸기': 1, '키위': 1, '복숭아': 3}\n"
          ],
          "name": "stdout"
        }
      ]
    },
    {
      "cell_type": "code",
      "metadata": {
        "id": "VBk8w5DdrFr2",
        "colab_type": "code",
        "colab": {
          "base_uri": "https://localhost:8080/",
          "height": 87
        },
        "outputId": "359b35d8-a732-4627-c02e-b40d026a4de1"
      },
      "source": [
        "s = \"\"\" 'python' is a \"programming language\"\n",
        "that lets you work quickly\n",
        "and\n",
        "integrate systems more effectively.\"\"\"\n",
        "print(s)"
      ],
      "execution_count": 60,
      "outputs": [
        {
          "output_type": "stream",
          "text": [
            " 'python' is a \"programming language\"\n",
            "that lets you work quickly\n",
            "and\n",
            "integrate systems more effectively.\n"
          ],
          "name": "stdout"
        }
      ]
    },
    {
      "cell_type": "code",
      "metadata": {
        "id": "Hspiqpxhv1Li",
        "colab_type": "code",
        "colab": {}
      },
      "source": [
        ""
      ],
      "execution_count": 0,
      "outputs": []
    }
  ]
}