{
  "nbformat": 4,
  "nbformat_minor": 0,
  "metadata": {
    "colab": {
      "name": "coding_dojang#25~33.ipynb",
      "provenance": [],
      "collapsed_sections": [],
      "authorship_tag": "ABX9TyNJqp0+0WlUsVszUgfl7YFA",
      "include_colab_link": true
    },
    "kernelspec": {
      "name": "python3",
      "display_name": "Python 3"
    }
  },
  "cells": [
    {
      "cell_type": "markdown",
      "metadata": {
        "id": "view-in-github",
        "colab_type": "text"
      },
      "source": [
        "<a href=\"https://colab.research.google.com/github/HyunLee103/Python_basic/blob/master/coding_dojang_25~33.ipynb\" target=\"_parent\"><img src=\"https://colab.research.google.com/assets/colab-badge.svg\" alt=\"Open In Colab\"/></a>"
      ]
    },
    {
      "cell_type": "markdown",
      "metadata": {
        "id": "Qq7jnyKmJRoB",
        "colab_type": "text"
      },
      "source": [
        "# #25 Dictionary 응용"
      ]
    },
    {
      "cell_type": "code",
      "metadata": {
        "id": "2-DHviKZJGa0",
        "colab_type": "code",
        "outputId": "32c7e2d0-878e-4ab0-bd5e-d4f6dbbd917e",
        "colab": {
          "base_uri": "https://localhost:8080/",
          "height": 34
        }
      },
      "source": [
        "x = {'a':10,'b':20,'c':30,'d':40}\n",
        "x.setdefault('e',100)\n",
        "x"
      ],
      "execution_count": 0,
      "outputs": [
        {
          "output_type": "execute_result",
          "data": {
            "text/plain": [
              "{'a': 10, 'b': 20, 'c': 30, 'd': 40, 'e': 100}"
            ]
          },
          "metadata": {
            "tags": []
          },
          "execution_count": 3
        }
      ]
    },
    {
      "cell_type": "code",
      "metadata": {
        "id": "WS62HGMNmzjH",
        "colab_type": "code",
        "outputId": "fb146b63-de8c-4a95-d4d1-680d73fdb357",
        "colab": {
          "base_uri": "https://localhost:8080/",
          "height": 34
        }
      },
      "source": [
        "for i,j in x.items():\n",
        "  print(i,j, end=' ')"
      ],
      "execution_count": 0,
      "outputs": [
        {
          "output_type": "stream",
          "text": [
            "a 10 b 20 c 30 d 40 e 100 "
          ],
          "name": "stdout"
        }
      ]
    },
    {
      "cell_type": "code",
      "metadata": {
        "id": "rWcDUNO7nWEe",
        "colab_type": "code",
        "colab": {}
      },
      "source": [
        "y = {key : value for key, value in x.items() if value != 20}"
      ],
      "execution_count": 0,
      "outputs": []
    },
    {
      "cell_type": "code",
      "metadata": {
        "id": "X-8YLvnmonpP",
        "colab_type": "code",
        "outputId": "4d595203-ced9-4e96-d196-1b2368130814",
        "colab": {
          "base_uri": "https://localhost:8080/",
          "height": 34
        }
      },
      "source": [
        "y"
      ],
      "execution_count": 0,
      "outputs": [
        {
          "output_type": "execute_result",
          "data": {
            "text/plain": [
              "{'a': 10, 'c': 30, 'd': 40, 'e': 100}"
            ]
          },
          "metadata": {
            "tags": []
          },
          "execution_count": 14
        }
      ]
    },
    {
      "cell_type": "markdown",
      "metadata": {
        "id": "UGizMB1r62Io",
        "colab_type": "text"
      },
      "source": [
        "### practice"
      ]
    },
    {
      "cell_type": "code",
      "metadata": {
        "id": "kmLT2vb6o9rQ",
        "colab_type": "code",
        "colab": {}
      },
      "source": [
        "def deldict():\n",
        "  key = input().split()\n",
        "  value = map(int,input().split())\n",
        "\n",
        "  x = dict(zip(key, value))\n",
        "  x = {key:value for key,value in x.items() if key !='delta' and value != 30}\n",
        "  print(x)"
      ],
      "execution_count": 0,
      "outputs": []
    },
    {
      "cell_type": "code",
      "metadata": {
        "id": "NqxGwvwJ8aK4",
        "colab_type": "code",
        "outputId": "2a7865b0-c3db-4bc6-855a-64d90c3a96a3",
        "colab": {
          "base_uri": "https://localhost:8080/",
          "height": 70
        }
      },
      "source": [
        "deldict()"
      ],
      "execution_count": 0,
      "outputs": [
        {
          "output_type": "stream",
          "text": [
            "alpha bravo charlie delta\n",
            "10 20 30 40\n",
            "{'alpha': 10, 'bravo': 20}\n"
          ],
          "name": "stdout"
        }
      ]
    },
    {
      "cell_type": "markdown",
      "metadata": {
        "id": "5RUyEV9iGHwj",
        "colab_type": "text"
      },
      "source": [
        "# #29 함수\n",
        "29! 30 31 32 33 34! 35! 36 38! 39 40"
      ]
    },
    {
      "cell_type": "code",
      "metadata": {
        "id": "IurELWHy8b6n",
        "colab_type": "code",
        "colab": {}
      },
      "source": [
        "def mul(a,b):\n",
        "  result = a * b\n",
        "  return result\n",
        "\n",
        "def add(a,b):\n",
        "  result = a + b\n",
        "  print(result)\n",
        "  d = mul(a,b)\n",
        "  print(d)\n",
        "  "
      ],
      "execution_count": 0,
      "outputs": []
    },
    {
      "cell_type": "code",
      "metadata": {
        "id": "EMCNcYE2GHBy",
        "colab_type": "code",
        "colab": {
          "base_uri": "https://localhost:8080/",
          "height": 52
        },
        "outputId": "057201d9-c66f-436d-a9c8-a9e4584508c3"
      },
      "source": [
        "add(10,20)"
      ],
      "execution_count": 23,
      "outputs": [
        {
          "output_type": "stream",
          "text": [
            "30\n",
            "200\n"
          ],
          "name": "stdout"
        }
      ]
    },
    {
      "cell_type": "markdown",
      "metadata": {
        "id": "m8-E5Q7qJ7sn",
        "colab_type": "text"
      },
      "source": [
        "# #30 함수 argument"
      ]
    },
    {
      "cell_type": "markdown",
      "metadata": {
        "id": "qTtQBZhuLhnz",
        "colab_type": "text"
      },
      "source": [
        "# #31 재귀호출"
      ]
    },
    {
      "cell_type": "code",
      "metadata": {
        "id": "CZ7VtE61I3uT",
        "colab_type": "code",
        "colab": {}
      },
      "source": [
        "def hello(count):\n",
        "  if count == 0:\n",
        "    return\n",
        "  print('hello,world!',count)\n",
        "  count -= 1\n",
        "  hello(count)"
      ],
      "execution_count": 0,
      "outputs": []
    },
    {
      "cell_type": "code",
      "metadata": {
        "id": "cynlu9JQLv8v",
        "colab_type": "code",
        "colab": {
          "base_uri": "https://localhost:8080/",
          "height": 87
        },
        "outputId": "f199dc8a-57a6-4f53-ad2c-4463ce7c1cbd"
      },
      "source": [
        "hello(4)"
      ],
      "execution_count": 28,
      "outputs": [
        {
          "output_type": "stream",
          "text": [
            "hello,world! 4\n",
            "hello,world! 3\n",
            "hello,world! 2\n",
            "hello,world! 1\n"
          ],
          "name": "stdout"
        }
      ]
    },
    {
      "cell_type": "code",
      "metadata": {
        "id": "ze73wXVjLxb_",
        "colab_type": "code",
        "colab": {}
      },
      "source": [
        "def factorial(n):\n",
        "  if n == 1:\n",
        "    return 1\n",
        "  return n*factorial(n-1)"
      ],
      "execution_count": 0,
      "outputs": []
    },
    {
      "cell_type": "code",
      "metadata": {
        "id": "trfl352WMtIB",
        "colab_type": "code",
        "colab": {
          "base_uri": "https://localhost:8080/",
          "height": 34
        },
        "outputId": "34e14545-1b4f-4830-de26-3e623a019c13"
      },
      "source": [
        "factorial(5)"
      ],
      "execution_count": 30,
      "outputs": [
        {
          "output_type": "execute_result",
          "data": {
            "text/plain": [
              "120"
            ]
          },
          "metadata": {
            "tags": []
          },
          "execution_count": 30
        }
      ]
    },
    {
      "cell_type": "markdown",
      "metadata": {
        "id": "MidbOSvJNKia",
        "colab_type": "text"
      },
      "source": [
        "### practice 피보나치"
      ]
    },
    {
      "cell_type": "code",
      "metadata": {
        "id": "1_pezPEtMuXL",
        "colab_type": "code",
        "colab": {}
      },
      "source": [
        "def fib(n):\n",
        "  if n == 0:\n",
        "    return 0\n",
        "  if n == 1:\n",
        "    return 1\n",
        "  return n + fib(n-1)"
      ],
      "execution_count": 0,
      "outputs": []
    },
    {
      "cell_type": "code",
      "metadata": {
        "id": "WoSNORV5N7iz",
        "colab_type": "code",
        "colab": {
          "base_uri": "https://localhost:8080/",
          "height": 34
        },
        "outputId": "00923ac7-a706-4ca8-9f24-d78795faf42d"
      },
      "source": [
        "fib(20)"
      ],
      "execution_count": 35,
      "outputs": [
        {
          "output_type": "execute_result",
          "data": {
            "text/plain": [
              "210"
            ]
          },
          "metadata": {
            "tags": []
          },
          "execution_count": 35
        }
      ]
    },
    {
      "cell_type": "markdown",
      "metadata": {
        "id": "GetrVV80OUGw",
        "colab_type": "text"
      },
      "source": [
        "# #32 lambda"
      ]
    },
    {
      "cell_type": "code",
      "metadata": {
        "id": "Mzz_umXgN8_b",
        "colab_type": "code",
        "colab": {}
      },
      "source": [
        "def plus_ten(x):\n",
        "  return x +10"
      ],
      "execution_count": 0,
      "outputs": []
    },
    {
      "cell_type": "code",
      "metadata": {
        "id": "cfRuHmf1OjEi",
        "colab_type": "code",
        "colab": {}
      },
      "source": [
        "a = lambda x: x+10"
      ],
      "execution_count": 0,
      "outputs": []
    },
    {
      "cell_type": "code",
      "metadata": {
        "id": "yZbdjgg-Oqoq",
        "colab_type": "code",
        "colab": {
          "base_uri": "https://localhost:8080/",
          "height": 34
        },
        "outputId": "42a5e0e0-5880-4b34-d717-bd5f7d2001f4"
      },
      "source": [
        "a(45)"
      ],
      "execution_count": 38,
      "outputs": [
        {
          "output_type": "execute_result",
          "data": {
            "text/plain": [
              "55"
            ]
          },
          "metadata": {
            "tags": []
          },
          "execution_count": 38
        }
      ]
    },
    {
      "cell_type": "code",
      "metadata": {
        "id": "WpqWwG1lPCbm",
        "colab_type": "code",
        "colab": {}
      },
      "source": [
        "a = [4,6,8,7,4,9,10]"
      ],
      "execution_count": 0,
      "outputs": []
    },
    {
      "cell_type": "code",
      "metadata": {
        "id": "2TrhT4bwOroq",
        "colab_type": "code",
        "colab": {
          "base_uri": "https://localhost:8080/",
          "height": 34
        },
        "outputId": "a3c89b3f-9010-4e6e-823e-cda4b393bc17"
      },
      "source": [
        "list(map(lambda x: x+10,a))"
      ],
      "execution_count": 42,
      "outputs": [
        {
          "output_type": "execute_result",
          "data": {
            "text/plain": [
              "[14, 16, 18, 17, 14, 19, 20]"
            ]
          },
          "metadata": {
            "tags": []
          },
          "execution_count": 42
        }
      ]
    },
    {
      "cell_type": "code",
      "metadata": {
        "id": "KWb99FQmPE4C",
        "colab_type": "code",
        "colab": {
          "base_uri": "https://localhost:8080/",
          "height": 34
        },
        "outputId": "86ce150b-d0fd-42c7-eb43-c6c9a4ef99ab"
      },
      "source": [
        "list(map(lambda x: str(x) if x%3==0 else x, a))"
      ],
      "execution_count": 44,
      "outputs": [
        {
          "output_type": "execute_result",
          "data": {
            "text/plain": [
              "[4, '6', 8, 7, 4, '9', 10]"
            ]
          },
          "metadata": {
            "tags": []
          },
          "execution_count": 44
        }
      ]
    },
    {
      "cell_type": "code",
      "metadata": {
        "id": "3oBeytyvPlxt",
        "colab_type": "code",
        "colab": {
          "base_uri": "https://localhost:8080/",
          "height": 34
        },
        "outputId": "8512aebb-04bf-45af-98b6-a0dfcce1419d"
      },
      "source": [
        "list(filter(lambda x : 5<x<10, a))"
      ],
      "execution_count": 45,
      "outputs": [
        {
          "output_type": "execute_result",
          "data": {
            "text/plain": [
              "[6, 8, 7, 9]"
            ]
          },
          "metadata": {
            "tags": []
          },
          "execution_count": 45
        }
      ]
    },
    {
      "cell_type": "code",
      "metadata": {
        "id": "5oMz_rFURGll",
        "colab_type": "code",
        "colab": {}
      },
      "source": [
        ""
      ],
      "execution_count": 0,
      "outputs": []
    }
  ]
}