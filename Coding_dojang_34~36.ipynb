{
  "nbformat": 4,
  "nbformat_minor": 0,
  "metadata": {
    "colab": {
      "name": "Coding_dojang#34~36.ipynb",
      "provenance": [],
      "authorship_tag": "ABX9TyNGSf0nt/7MAg9thVxXAQm2",
      "include_colab_link": true
    },
    "kernelspec": {
      "name": "python3",
      "display_name": "Python 3"
    }
  },
  "cells": [
    {
      "cell_type": "markdown",
      "metadata": {
        "id": "view-in-github",
        "colab_type": "text"
      },
      "source": [
        "<a href=\"https://colab.research.google.com/github/HyunLee103/Python_basic/blob/master/Coding_dojang_34~36.ipynb\" target=\"_parent\"><img src=\"https://colab.research.google.com/assets/colab-badge.svg\" alt=\"Open In Colab\"/></a>"
      ]
    },
    {
      "cell_type": "markdown",
      "metadata": {
        "id": "yPSt9e3Fe3kw",
        "colab_type": "text"
      },
      "source": [
        "# #34 Class\n",
        "class는 사용자 정의 객체(object) 만드는 것!"
      ]
    },
    {
      "cell_type": "markdown",
      "metadata": {
        "id": "6p4MrM3vlvTf",
        "colab_type": "text"
      },
      "source": [
        "## Method"
      ]
    },
    {
      "cell_type": "code",
      "metadata": {
        "id": "Epktc11AexxD",
        "colab_type": "code",
        "colab": {}
      },
      "source": [
        "class Person:\n",
        "  def greeting(self): # method의 첫번째 arg는 무조건 self ?? method vs 함수 ??\n",
        "    print('Hello')"
      ],
      "execution_count": 0,
      "outputs": []
    },
    {
      "cell_type": "code",
      "metadata": {
        "id": "Bckxj9pAitKv",
        "colab_type": "code",
        "colab": {}
      },
      "source": [
        "james = Person()  # class를 james에 할당함, object = instance, class와 연결해서 얘기할때만 instance라는 표현을 쓴다\n",
        "                  # james는 object이고 Person class의 instance 이다."
      ],
      "execution_count": 0,
      "outputs": []
    },
    {
      "cell_type": "code",
      "metadata": {
        "id": "zJfXS3vii5s6",
        "colab_type": "code",
        "outputId": "03e472e2-9cdf-46e9-a7c3-7b091418946d",
        "colab": {
          "base_uri": "https://localhost:8080/",
          "height": 34
        }
      },
      "source": [
        "# instance를 통해 class 안에 method 호출하기\n",
        "james.greeting()\n",
        "\n",
        "model = Model()\n",
        "\n",
        "model(data)\n",
        "\n",
        "\n",
        "\n",
        "model.forward()"
      ],
      "execution_count": 0,
      "outputs": [
        {
          "output_type": "stream",
          "text": [
            "Hello\n"
          ],
          "name": "stdout"
        }
      ]
    },
    {
      "cell_type": "markdown",
      "metadata": {
        "id": "g9PvQHm4jTzw",
        "colab_type": "text"
      },
      "source": [
        "이렇게 instance로 호출하는 method를 instance method 라고 한다\n",
        "\n",
        "리스트, 딕셔너리와 같은 자료형도 class다 "
      ]
    },
    {
      "cell_type": "code",
      "metadata": {
        "id": "5gKkUYYYjBvC",
        "colab_type": "code",
        "colab": {}
      },
      "source": [
        "b = list(range(10))    # list class를 instance b에 할당\n",
        "b.append(20)           # instance b를 이용해 list의 method append 사용"
      ],
      "execution_count": 0,
      "outputs": []
    },
    {
      "cell_type": "markdown",
      "metadata": {
        "id": "jwYIwxDfk44x",
        "colab_type": "text"
      },
      "source": [
        "####  메서드 안에서 메서드 호출하기"
      ]
    },
    {
      "cell_type": "code",
      "metadata": {
        "id": "yi_CSn98kSax",
        "colab_type": "code",
        "outputId": "5ec85d19-9293-4144-dca3-37a6c411589d",
        "colab": {
          "base_uri": "https://localhost:8080/",
          "height": 34
        }
      },
      "source": [
        "class Person:\n",
        "  def greeting(self):\n",
        "    print('Hello')\n",
        "  \n",
        "  def hi(self):\n",
        "    self.greeting()\n",
        "\n",
        "hyun = Person()\n",
        "hyun.hi()"
      ],
      "execution_count": 0,
      "outputs": [
        {
          "output_type": "stream",
          "text": [
            "Hello\n"
          ],
          "name": "stdout"
        }
      ]
    },
    {
      "cell_type": "markdown",
      "metadata": {
        "id": "KguG3aTOlyaN",
        "colab_type": "text"
      },
      "source": [
        "## attribute(속성)\n",
        "\n",
        "속성은 __init__ 메서드에서 만든다는 점과 self.속성 이렇게 값을 할당한다는 점이 중요  \n",
        "init에서 선언하는 속성은 instance 속성"
      ]
    },
    {
      "cell_type": "code",
      "metadata": {
        "id": "n9hI8-LklegK",
        "colab_type": "code",
        "outputId": "c7f58f61-6281-454e-9b8f-19e87a7e8c09",
        "colab": {
          "base_uri": "https://localhost:8080/",
          "height": 34
        }
      },
      "source": [
        "class Person:\n",
        "  def __init__(self):         # __init__ method는 class로 instance를 만들 때 호출되어 해당 instance를 초기화한다.\n",
        "    self.hello = '안녕하세요'\n",
        "\n",
        "  def greeting(self):\n",
        "    print(self.hello)\n",
        "\n",
        "\n",
        "hyun = Person()\n",
        "hyun.greeting()"
      ],
      "execution_count": 0,
      "outputs": [
        {
          "output_type": "stream",
          "text": [
            "안녕하세요\n"
          ],
          "name": "stdout"
        }
      ]
    },
    {
      "cell_type": "markdown",
      "metadata": {
        "id": "1wJiV-q6nK3q",
        "colab_type": "text"
      },
      "source": [
        "self 는 instance 자기자신을 의미???"
      ]
    },
    {
      "cell_type": "code",
      "metadata": {
        "id": "Lu_5McWNmKf4",
        "colab_type": "code",
        "outputId": "dc4636c8-4a2f-42e4-c123-21bbf3e78ba3",
        "colab": {
          "base_uri": "https://localhost:8080/",
          "height": 34
        }
      },
      "source": [
        "class Person:\n",
        "  def __init__(self, name,age,add):\n",
        "    self.hello = '안녕'\n",
        "    self.name = name\n",
        "    self.age = age                   # attribute는 약간 class 전체의 변수선언하는 느낌? \n",
        "    self.add = add\n",
        "\n",
        "  def greeting(self):\n",
        "    print('{}, 내 이름은 {}이고, {}살이고, {}에 삽니다'.format(self.hello,self.name,self.age,self.add))\n",
        "                                                                # class 안에서 attribute 접근할때는 self.attri\n",
        "                                                                # class 밖에서는 instance.attri\n",
        "hyun = Person('이현',25,'성남시 분당구 판교동')\n",
        "hyun.greeting()"
      ],
      "execution_count": 0,
      "outputs": [
        {
          "output_type": "stream",
          "text": [
            "안녕, 내 이름은 이현이고, 25살이고, 성남시 분당구 판교동에 삽니다\n"
          ],
          "name": "stdout"
        }
      ]
    },
    {
      "cell_type": "code",
      "metadata": {
        "id": "6BKA885_oU1_",
        "colab_type": "code",
        "outputId": "82724e49-bd50-4293-8361-f475d3b14453",
        "colab": {
          "base_uri": "https://localhost:8080/",
          "height": 52
        }
      },
      "source": [
        "print(hyun.name) # class 밖에서는 instance.attri\n",
        "print(hyun.age,hyun.add)"
      ],
      "execution_count": 0,
      "outputs": [
        {
          "output_type": "stream",
          "text": [
            "이현\n",
            "25 성남시 분당구 판교동\n"
          ],
          "name": "stdout"
        }
      ]
    },
    {
      "cell_type": "markdown",
      "metadata": {
        "id": "iz2HMjtyqTqZ",
        "colab_type": "text"
      },
      "source": [
        "### private attribute"
      ]
    },
    {
      "cell_type": "code",
      "metadata": {
        "id": "pC0kxv2toyAR",
        "colab_type": "code",
        "outputId": "1816084f-9f48-404e-e876-9c8639976c5d",
        "colab": {
          "base_uri": "https://localhost:8080/",
          "height": 205
        }
      },
      "source": [
        "class Person:\n",
        "  def __init__(self, name,age,add,wallet):\n",
        "    self.name = name\n",
        "    self.age = age\n",
        "    self.add = add\n",
        "    self.__wallet = wallet # 속성 앞에 __ 붙여서 비공개 속성으로 만듬, class 내부에서만 접근 가능\n",
        "\n",
        "maria = Person('마리아', 20, '서울시 서초구 반포동', 10000)\n",
        "maria.__wallet -=50 # class 외부에서 instance.__속성 으로 접근하면 에러 뜸\n"
      ],
      "execution_count": 0,
      "outputs": [
        {
          "output_type": "error",
          "ename": "AttributeError",
          "evalue": "ignored",
          "traceback": [
            "\u001b[0;31m---------------------------------------------------------------------------\u001b[0m",
            "\u001b[0;31mAttributeError\u001b[0m                            Traceback (most recent call last)",
            "\u001b[0;32m<ipython-input-13-c485f8f0e95d>\u001b[0m in \u001b[0;36m<module>\u001b[0;34m()\u001b[0m\n\u001b[1;32m      7\u001b[0m \u001b[0;34m\u001b[0m\u001b[0m\n\u001b[1;32m      8\u001b[0m \u001b[0mmaria\u001b[0m \u001b[0;34m=\u001b[0m \u001b[0mPerson\u001b[0m\u001b[0;34m(\u001b[0m\u001b[0;34m'마리아'\u001b[0m\u001b[0;34m,\u001b[0m \u001b[0;36m20\u001b[0m\u001b[0;34m,\u001b[0m \u001b[0;34m'서울시 서초구 반포동'\u001b[0m\u001b[0;34m,\u001b[0m \u001b[0;36m10000\u001b[0m\u001b[0;34m)\u001b[0m\u001b[0;34m\u001b[0m\u001b[0;34m\u001b[0m\u001b[0m\n\u001b[0;32m----> 9\u001b[0;31m \u001b[0mmaria\u001b[0m\u001b[0;34m.\u001b[0m\u001b[0m__wallet\u001b[0m \u001b[0;34m-=\u001b[0m\u001b[0;36m50\u001b[0m\u001b[0;34m\u001b[0m\u001b[0;34m\u001b[0m\u001b[0m\n\u001b[0m",
            "\u001b[0;31mAttributeError\u001b[0m: 'Person' object has no attribute '__wallet'"
          ]
        }
      ]
    },
    {
      "cell_type": "code",
      "metadata": {
        "id": "20F9ei2Bq8oO",
        "colab_type": "code",
        "colab": {}
      },
      "source": [
        "class Person:\n",
        "  def __init__(self, name,age,add,wallet):\n",
        "    self.name = name\n",
        "    self.age = age\n",
        "    self.add = add\n",
        "    self.__wallet = wallet # 속성 앞에 __ 붙여서 비공개 속성으로 만듬, class 내부에서만 접근 가능\n",
        "\n",
        "  def pay(self, amount):\n",
        "    self.__wallet < amount\n",
        "    print('돈이 부족해..')\n",
        "\n",
        "hyun = Person('이현',25,'판교',100000)"
      ],
      "execution_count": 0,
      "outputs": []
    },
    {
      "cell_type": "code",
      "metadata": {
        "id": "wWdYgHl0rhLY",
        "colab_type": "code",
        "outputId": "d00b159f-c96b-4ae0-cfec-bccd44b28e9d",
        "colab": {
          "base_uri": "https://localhost:8080/",
          "height": 34
        }
      },
      "source": [
        "hyun.pay(1500000000)"
      ],
      "execution_count": 0,
      "outputs": [
        {
          "output_type": "stream",
          "text": [
            "돈이 부족해..\n"
          ],
          "name": "stdout"
        }
      ]
    },
    {
      "cell_type": "markdown",
      "metadata": {
        "id": "EpF5pcKIsDDq",
        "colab_type": "text"
      },
      "source": [
        "## Practice\n",
        "개임 캐릭터 클래스 만들기"
      ]
    },
    {
      "cell_type": "code",
      "metadata": {
        "id": "lXpD0814rkRx",
        "colab_type": "code",
        "colab": {}
      },
      "source": [
        "class Knight:\n",
        "  \n",
        "  def __init__(self, health,mana,armor):\n",
        "    self.health = health\n",
        "    self.mana = mana\n",
        "    self.armor = armor\n",
        "  \n",
        "  def slash(self):\n",
        "    print('베기')"
      ],
      "execution_count": 0,
      "outputs": []
    },
    {
      "cell_type": "code",
      "metadata": {
        "id": "8IhaUwYPs_a-",
        "colab_type": "code",
        "outputId": "15da3bcb-08eb-4123-da6e-9a5517437667",
        "colab": {
          "base_uri": "https://localhost:8080/",
          "height": 52
        }
      },
      "source": [
        "x = Knight(health=542.4, mana=210.3, armor=38)\n",
        "print(x.health, x.mana, x.armor)\n",
        "x.slash()"
      ],
      "execution_count": 0,
      "outputs": [
        {
          "output_type": "stream",
          "text": [
            "542.4 210.3 38\n",
            "베기\n"
          ],
          "name": "stdout"
        }
      ]
    },
    {
      "cell_type": "code",
      "metadata": {
        "id": "2UT3iklYs_72",
        "colab_type": "code",
        "colab": {}
      },
      "source": [
        "class Annie:\n",
        "  \n",
        "  def __init__(self,health,mana,ap):\n",
        "    self.health = health\n",
        "    self.mana = mana\n",
        "    self.ap = ap\n",
        "  \n",
        "  def tibbers(self):\n",
        "    d = self.ap * 0.65 + 400\n",
        "    print('티버~~ 피해량 : {}'.format(d))"
      ],
      "execution_count": 0,
      "outputs": []
    },
    {
      "cell_type": "code",
      "metadata": {
        "id": "ktYyH1DouJAg",
        "colab_type": "code",
        "outputId": "c74f5c13-e175-4612-df1a-fc0f149470e3",
        "colab": {
          "base_uri": "https://localhost:8080/",
          "height": 34
        }
      },
      "source": [
        "health, mana, ap = map(float,input().split())"
      ],
      "execution_count": 0,
      "outputs": [
        {
          "output_type": "stream",
          "text": [
            "511.68 334.0 298\n"
          ],
          "name": "stdout"
        }
      ]
    },
    {
      "cell_type": "code",
      "metadata": {
        "id": "yzIm5aEtuTKG",
        "colab_type": "code",
        "outputId": "bce2cbba-6ba1-427c-8cc8-a85206a56668",
        "colab": {
          "base_uri": "https://localhost:8080/",
          "height": 34
        }
      },
      "source": [
        "x = Annie(health=health, mana=mana, ap=ap)\n",
        "x.tibbers()"
      ],
      "execution_count": 0,
      "outputs": [
        {
          "output_type": "stream",
          "text": [
            "티버~~ damage : 593.7\n"
          ],
          "name": "stdout"
        }
      ]
    },
    {
      "cell_type": "markdown",
      "metadata": {
        "id": "gUA4MUtX4bX7",
        "colab_type": "text"
      },
      "source": [
        "# #35 Class 응용"
      ]
    },
    {
      "cell_type": "markdown",
      "metadata": {
        "id": "JtTGDHwrFnIr",
        "colab_type": "text"
      },
      "source": [
        "## class 속성, instance 속성"
      ]
    },
    {
      "cell_type": "code",
      "metadata": {
        "id": "3rGWI5GRulFL",
        "colab_type": "code",
        "colab": {}
      },
      "source": [
        "class Person:\n",
        "  bag = []  # class 속성은 class에 바로 속성을 만든다. 이 class로 만드는 모든 instance에서 공유하는 전역변수느낌\n",
        "\n",
        "  def put_bag(self,stuff):\n",
        "    Person.bag.append(stuff)   # class 안에서 attribute 접근할때는 self.attri를 쓰지만, class attri에 접근할때는\n",
        "                             # class.attri 로 접근한다."
      ],
      "execution_count": 0,
      "outputs": []
    },
    {
      "cell_type": "code",
      "metadata": {
        "id": "U9mecJtR5G1Z",
        "colab_type": "code",
        "colab": {
          "base_uri": "https://localhost:8080/",
          "height": 52
        },
        "outputId": "3f0f1c2c-61db-4637-d73d-3a4e434e8f9c"
      },
      "source": [
        "hyun = Person()\n",
        "hyun.put_bag(['노트북','수리통계학','드럼스틱'])\n",
        "\n",
        "ura = Person()\n",
        "ura.put_bag(['책','아이패드','노트북','영감노트'])\n",
        "\n",
        "print(hyun.bag)\n",
        "print(ura.bag)"
      ],
      "execution_count": 4,
      "outputs": [
        {
          "output_type": "stream",
          "text": [
            "[['노트북', '수리통계학', '드럼스틱'], ['책', '아이패드', '노트북', '영감노트']]\n",
            "[['노트북', '수리통계학', '드럼스틱'], ['책', '아이패드', '노트북', '영감노트']]\n"
          ],
          "name": "stdout"
        }
      ]
    },
    {
      "cell_type": "markdown",
      "metadata": {
        "id": "QXXXtPka6cmN",
        "colab_type": "text"
      },
      "source": [
        "클래스 속성은 클래스에 속해 있으며 모든 인스턴스에서 공유"
      ]
    },
    {
      "cell_type": "code",
      "metadata": {
        "id": "6uf7bQ6b5k3d",
        "colab_type": "code",
        "colab": {
          "base_uri": "https://localhost:8080/",
          "height": 34
        },
        "outputId": "7e030993-8112-419f-b8d0-24a2ddb62865"
      },
      "source": [
        "class Person:\n",
        "\n",
        "  def __init__(self):\n",
        "    self.bag = []\n",
        "  \n",
        "  def put_stuff(self,s):\n",
        "    self.bag.append(s)\n",
        "\n",
        "\n",
        "hyun = Person()\n",
        "ura = Person()\n",
        "hyun.put_stuff('드럼스틱')\n",
        "ura.put_stuff('책')\n",
        "\n",
        "print(hyun.bag, ura.bag)"
      ],
      "execution_count": 7,
      "outputs": [
        {
          "output_type": "stream",
          "text": [
            "['드럼스틱'] ['책']\n"
          ],
          "name": "stdout"
        }
      ]
    },
    {
      "cell_type": "markdown",
      "metadata": {
        "id": "71j0JNnC8Ccy",
        "colab_type": "text"
      },
      "source": [
        "클래스 속성: 모든 인스턴스가 공유. 인스턴스 전체가 사용해야 하는 값을 저장할 때 사용  \n",
        "인스턴스 속성: 인스턴스별로 독립되어 있음. 각 인스턴스가 값을 따로 저장해야 할 때 사용"
      ]
    },
    {
      "cell_type": "markdown",
      "metadata": {
        "id": "x6T3c3kB8drI",
        "colab_type": "text"
      },
      "source": [
        "## 정적 method\n",
        " 인스턴스를 통하지 않고 클래스에서 바로 호출할 수 있는 method"
      ]
    },
    {
      "cell_type": "code",
      "metadata": {
        "id": "9wkpYdD27r0m",
        "colab_type": "code",
        "colab": {
          "base_uri": "https://localhost:8080/",
          "height": 52
        },
        "outputId": "984bfa0f-bdf2-4e25-d904-913413afdfbf"
      },
      "source": [
        "class Calc:\n",
        "  @staticmethod # decorator : using for extra work of function(method)\n",
        "  def add(a,b):\n",
        "    print(a+b)\n",
        "  \n",
        "  staticmethod\n",
        "  def mul(a,b): # self를 argu로 안 받으므로, instance에서는 접근할 수 없다.\n",
        "    print(a*b)\n",
        "\n",
        "Calc.add(10,20)\n",
        "Calc.mul(10,20)"
      ],
      "execution_count": 19,
      "outputs": [
        {
          "output_type": "stream",
          "text": [
            "30\n",
            "200\n"
          ],
          "name": "stdout"
        }
      ]
    },
    {
      "cell_type": "markdown",
      "metadata": {
        "id": "IqpF64Z8FeJA",
        "colab_type": "text"
      },
      "source": [
        "## Class method\n",
        "다음과 같이 메서드 위에 @classmethod를 붙인다   \n",
        "이때 클래스 메서드는 첫 번째 매개변수에 cls를 지정해야 합니다"
      ]
    },
    {
      "cell_type": "code",
      "metadata": {
        "id": "IRupauREFQgl",
        "colab_type": "code",
        "colab": {}
      },
      "source": [
        "class Person:\n",
        "  count = 0 # 클래스 속성\n",
        "\n",
        "  def __init__(self):\n",
        "    Person.count += 1 # 클래스 속성에 접근, __init__ 이므로 instance에 할당될때마다 +1\n",
        "\n",
        "  @classmethod\n",
        "  def print_count(cls):\n",
        "    print('{}명 '.format(cls.count))  # cls.클래스속성, 이렇게 method 안에서 클래스 속성, 클래스 method에 접근하고자 할 때 사용\n",
        "                                      # 정적 method와 마찬가지로 instance 가 아닌 class에서 method 호출가능"
      ],
      "execution_count": 0,
      "outputs": []
    },
    {
      "cell_type": "code",
      "metadata": {
        "id": "9HrXkYqTHg4S",
        "colab_type": "code",
        "colab": {
          "base_uri": "https://localhost:8080/",
          "height": 34
        },
        "outputId": "5a509445-ffc7-4b17-8d6f-0d08e5d91c43"
      },
      "source": [
        "hyun = Person()\n",
        "ura = Person()\n",
        "\n",
        "Person.print_count()"
      ],
      "execution_count": 18,
      "outputs": [
        {
          "output_type": "stream",
          "text": [
            "2명 \n"
          ],
          "name": "stdout"
        }
      ]
    },
    {
      "cell_type": "markdown",
      "metadata": {
        "id": "tM-xMyxBNvXp",
        "colab_type": "text"
      },
      "source": [
        "## practice 질문!!\n",
        "https://dojang.io/mod/quiz/attempt.php?attempt=911616&cmid=2383"
      ]
    },
    {
      "cell_type": "code",
      "metadata": {
        "id": "u746XXu7HtrM",
        "colab_type": "code",
        "colab": {}
      },
      "source": [
        "class Time:\n",
        "\n",
        "  def __init__(self,hour,minute,second):\n",
        "    self.hour = hour\n",
        "    self.minute = minute\n",
        "    self.second = second\n",
        "\n",
        "  @staticmethod\n",
        "  def is_time_valie(time_string):\n",
        "    if 0 <= hour < 24 and 0<=minute<60 and 0<=second<60:\n",
        "      pass\n",
        "    else:\n",
        "      print('잘못된 시간 형식입니다')\n",
        "  \n",
        "  @staticmethod\n",
        "  def from_string(time_string):\n",
        "    time_string = time_string.split()\n",
        "\n",
        "\n",
        "\n",
        "\n"
      ],
      "execution_count": 0,
      "outputs": []
    },
    {
      "cell_type": "markdown",
      "metadata": {
        "id": "xa-F8UiaIIBQ",
        "colab_type": "text"
      },
      "source": [
        "# #36 클래스 상속"
      ]
    },
    {
      "cell_type": "code",
      "metadata": {
        "id": "3_GJ3Nk3N-3r",
        "colab_type": "code",
        "colab": {
          "base_uri": "https://localhost:8080/",
          "height": 52
        },
        "outputId": "c44496cc-4eca-4a4c-e200-1ad239afefb7"
      },
      "source": [
        "class Person:             # Base class\n",
        "  def greeting(self):\n",
        "    print('안녕하세요')\n",
        "\n",
        "class Student(Person):    # Sub class \n",
        "  def study(self):\n",
        "    print('공부하기')\n",
        "\n",
        "hyun = Student()\n",
        "\n",
        "hyun.greeting() # 상속받은 base class의 method 사용\n",
        "hyun.study() # subclass에서 추가한 method 사용\n"
      ],
      "execution_count": 20,
      "outputs": [
        {
          "output_type": "stream",
          "text": [
            "안녕하세요\n",
            "공부하기\n"
          ],
          "name": "stdout"
        }
      ]
    },
    {
      "cell_type": "markdown",
      "metadata": {
        "id": "VRge-l58Psfm",
        "colab_type": "text"
      },
      "source": [
        "## base class 속성 사용 "
      ]
    },
    {
      "cell_type": "code",
      "metadata": {
        "id": "_T6tlHk7OrGV",
        "colab_type": "code",
        "colab": {
          "base_uri": "https://localhost:8080/",
          "height": 70
        },
        "outputId": "f1bd4237-186c-431d-ab4c-82f863109ab2"
      },
      "source": [
        "class Person:\n",
        "  def __init__(self):\n",
        "    print('Person __init__')\n",
        "    self.hello = '안녕하세요'\n",
        "\n",
        "class Student(Person):\n",
        "  def __init__(self):\n",
        "    super().__init__()  # base class의 __init__ method 호출\n",
        "    self.school = '파이썬 코딩 도장'   \n",
        "\n",
        "\n",
        "james = Student()\n",
        "print(james.school)\n",
        "print(james.hello)"
      ],
      "execution_count": 21,
      "outputs": [
        {
          "output_type": "stream",
          "text": [
            "Person __init__\n",
            "파이썬 코딩 도장\n",
            "안녕하세요\n"
          ],
          "name": "stdout"
        }
      ]
    },
    {
      "cell_type": "markdown",
      "metadata": {
        "id": "yUTYTwtbRDDF",
        "colab_type": "text"
      },
      "source": [
        "## method overriding\n",
        "\n",
        "sub class에서 base class method를 재정의 방법  \n",
        "원래 기능을 유지하면서 새로운 기능을 덧붙일 때 사용"
      ]
    },
    {
      "cell_type": "code",
      "metadata": {
        "id": "8bfafQgbQz_Z",
        "colab_type": "code",
        "colab": {
          "base_uri": "https://localhost:8080/",
          "height": 34
        },
        "outputId": "800bafe9-7526-4079-cc65-a201479b0e29"
      },
      "source": [
        "class Person:\n",
        "  def greeting(self):\n",
        "    print('안녕하세요')\n",
        "\n",
        "class Student(Person):\n",
        "  def greeting(self):\n",
        "    print('안녕하세요 이건 오버라이딩 되어 바뀐 method입니다.')\n",
        "\n",
        "a = Person()\n",
        "a.greeting()"
      ],
      "execution_count": 22,
      "outputs": [
        {
          "output_type": "stream",
          "text": [
            "안녕하세요\n"
          ],
          "name": "stdout"
        }
      ]
    },
    {
      "cell_type": "code",
      "metadata": {
        "id": "b0KO2gZGR9fL",
        "colab_type": "code",
        "colab": {
          "base_uri": "https://localhost:8080/",
          "height": 52
        },
        "outputId": "8c9ec861-0726-48f3-e39c-288efdb3211b"
      },
      "source": [
        "class Person:\n",
        "    def greeting(self):\n",
        "        print('안녕하세요.')\n",
        " \n",
        "class Student(Person):\n",
        "    def greeting(self):\n",
        "        super().greeting()    # 기반 클래스의 메서드 호출하여 중복을 줄임\n",
        "        print('저는 파이썬 코딩 도장 학생입니다.') # 여기는 추가된 기능만\n",
        " \n",
        "james = Student()\n",
        "james.greeting()"
      ],
      "execution_count": 23,
      "outputs": [
        {
          "output_type": "stream",
          "text": [
            "안녕하세요.\n",
            "저는 파이썬 코딩 도장 학생입니다.\n"
          ],
          "name": "stdout"
        }
      ]
    },
    {
      "cell_type": "markdown",
      "metadata": {
        "id": "w1fLPqn-TXYf",
        "colab_type": "text"
      },
      "source": [
        "## 추상 클래스\n",
        "추상 클래스는 메서드의 목록만 가진 클래스이며 상속받는 클래스에서 메서드 구현을 강제하기 위해 사용"
      ]
    },
    {
      "cell_type": "code",
      "metadata": {
        "id": "hEJeEFspSbJt",
        "colab_type": "code",
        "colab": {}
      },
      "source": [
        "from abc import * # abstract base class"
      ],
      "execution_count": 0,
      "outputs": []
    },
    {
      "cell_type": "code",
      "metadata": {
        "id": "tHO8Q8cTT4oQ",
        "colab_type": "code",
        "colab": {
          "base_uri": "https://localhost:8080/",
          "height": 223
        },
        "outputId": "a7be6259-f146-43e8-eeb6-a3aa3a19685d"
      },
      "source": [
        "class StudentBase(metaclass=ABCMeta):\n",
        "  @abstractmethod\n",
        "  def study(self):\n",
        "    pass\n",
        "\n",
        "  @abstractmethod\n",
        "  def go_to_school(self):\n",
        "    pass\n",
        "  \n",
        "\n",
        "class Student(StudentBase):\n",
        "  def study(self):\n",
        "    print('공부하기')\n",
        "\n",
        "hyun = Student()\n",
        "hyun.study()"
      ],
      "execution_count": 26,
      "outputs": [
        {
          "output_type": "error",
          "ename": "TypeError",
          "evalue": "ignored",
          "traceback": [
            "\u001b[0;31m---------------------------------------------------------------------------\u001b[0m",
            "\u001b[0;31mTypeError\u001b[0m                                 Traceback (most recent call last)",
            "\u001b[0;32m<ipython-input-26-cb988000eda7>\u001b[0m in \u001b[0;36m<module>\u001b[0;34m()\u001b[0m\n\u001b[1;32m     13\u001b[0m     \u001b[0mprint\u001b[0m\u001b[0;34m(\u001b[0m\u001b[0;34m'공부하기'\u001b[0m\u001b[0;34m)\u001b[0m\u001b[0;34m\u001b[0m\u001b[0;34m\u001b[0m\u001b[0m\n\u001b[1;32m     14\u001b[0m \u001b[0;34m\u001b[0m\u001b[0m\n\u001b[0;32m---> 15\u001b[0;31m \u001b[0mhyun\u001b[0m \u001b[0;34m=\u001b[0m \u001b[0mStudent\u001b[0m\u001b[0;34m(\u001b[0m\u001b[0;34m)\u001b[0m\u001b[0;34m\u001b[0m\u001b[0;34m\u001b[0m\u001b[0m\n\u001b[0m\u001b[1;32m     16\u001b[0m \u001b[0mhyun\u001b[0m\u001b[0;34m.\u001b[0m\u001b[0mstudy\u001b[0m\u001b[0;34m(\u001b[0m\u001b[0;34m)\u001b[0m\u001b[0;34m\u001b[0m\u001b[0;34m\u001b[0m\u001b[0m\n",
            "\u001b[0;31mTypeError\u001b[0m: Can't instantiate abstract class Student with abstract methods go_to_school"
          ]
        }
      ]
    },
    {
      "cell_type": "markdown",
      "metadata": {
        "id": "Bl7UOwP7VCsT",
        "colab_type": "text"
      },
      "source": [
        "추상 클래스를 상속받았다면 @abstractmethod가 붙은 추상 메서드를 모두 구현해야 함"
      ]
    },
    {
      "cell_type": "code",
      "metadata": {
        "id": "l0MEfB0pUzMU",
        "colab_type": "code",
        "colab": {
          "base_uri": "https://localhost:8080/",
          "height": 52
        },
        "outputId": "eabc75d1-04f4-461c-ecd8-bc216f15a248"
      },
      "source": [
        "class StudentBase(metaclass=ABCMeta):\n",
        "  @abstractmethod\n",
        "  def study(self):\n",
        "    pass\n",
        "\n",
        "  @abstractmethod\n",
        "  def go_to_school(self):\n",
        "    pass\n",
        "  \n",
        "\n",
        "class Student(StudentBase):\n",
        "  def study(self):\n",
        "    print('공부하기')\n",
        "\n",
        "  def go_to_school(self):\n",
        "    print('내년에 갈듯?')\n",
        "\n",
        "hyun = Student()\n",
        "hyun.study()\n",
        "hyun.go_to_school()"
      ],
      "execution_count": 29,
      "outputs": [
        {
          "output_type": "stream",
          "text": [
            "공부하기\n",
            "내년에 갈듯?\n"
          ],
          "name": "stdout"
        }
      ]
    },
    {
      "cell_type": "markdown",
      "metadata": {
        "id": "OX6vg46nVZ6i",
        "colab_type": "text"
      },
      "source": [
        "추상 클래스는 인스턴스로 만들 수가 없다  \n",
        "추상 클래스는 인스턴스로 만들 때는 사용하지 않으며 오로지 상속에만 사용  \n",
        "그리고 파생 클래스에서 반드시 구현해야 할 메서드를 정해 줄 때 사용"
      ]
    },
    {
      "cell_type": "code",
      "metadata": {
        "id": "4GoKC2DSVNTf",
        "colab_type": "code",
        "colab": {}
      },
      "source": [
        ""
      ],
      "execution_count": 0,
      "outputs": []
    }
  ]
}